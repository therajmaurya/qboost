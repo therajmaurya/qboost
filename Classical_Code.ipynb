{
  "nbformat": 4,
  "nbformat_minor": 0,
  "metadata": {
    "colab": {
      "provenance": [],
      "collapsed_sections": []
    },
    "kernelspec": {
      "name": "python3",
      "display_name": "Python 3.9.16 64-bit"
    },
    "language_info": {
      "name": "python",
      "version": "3.9.16"
    },
    "interpreter": {
      "hash": "4cd7ab41f5fca4b9b44701077e38c5ffd31fe66a6cab21e0214b68d958d0e462"
    }
  },
  "cells": [
    {
      "cell_type": "code",
      "execution_count": 3,
      "metadata": {
        "id": "elCBn7ik80FH"
      },
      "outputs": [],
      "source": [
        "import pandas as pd\n",
        "import numpy as np\n",
        "from sklearn.preprocessing import OneHotEncoder\n",
        "import warnings\n",
        "warnings.filterwarnings(\"ignore\")"
      ]
    },
    {
      "cell_type": "code",
      "source": [
        "train_df = pd.read_csv(\"data/zion_training_data.csv\")\n",
        "train_df.head()"
      ],
      "metadata": {
        "colab": {
          "base_uri": "https://localhost:8080/",
          "height": 270
        },
        "id": "D_eo-Ti09fdt",
        "outputId": "fd246cf3-6982-4237-ca65-7b2f9913a5f3"
      },
      "execution_count": 4,
      "outputs": [
        {
          "output_type": "execute_result",
          "data": {
            "text/plain": [
              "     ID     Location Mode_of_delivery  Calls_to_customer_care  \\\n",
              "0  5083   Gachibowli             Auto                       3   \n",
              "1   158  Hitech City             Bike                       3   \n",
              "2  7861   Gachibowli             Bike                       4   \n",
              "3  3592   Khairtabad             Bike                       2   \n",
              "4  2718  Hitech City              Car                       4   \n",
              "\n",
              "   Rating_of_customer  Cost_of_food  Prior_purchases Gender_of_customer  \\\n",
              "0                 1.0         241.5              3.0                  M   \n",
              "1                 2.0         304.5              2.0                  F   \n",
              "2                 NaN         208.5              3.0                  M   \n",
              "3                 3.0         201.0             10.0                  F   \n",
              "4                 5.0         238.5              3.0                  M   \n",
              "\n",
              "   Discount_offered  Weight_of_food_in_gms  Reached_on_time  \n",
              "0                 9                   4865                1  \n",
              "1                39                   3845                1  \n",
              "2                10                   4648                0  \n",
              "3                 1                   5632                0  \n",
              "4                 2                   1048                1  "
            ],
            "text/html": "<div>\n<style scoped>\n    .dataframe tbody tr th:only-of-type {\n        vertical-align: middle;\n    }\n\n    .dataframe tbody tr th {\n        vertical-align: top;\n    }\n\n    .dataframe thead th {\n        text-align: right;\n    }\n</style>\n<table border=\"1\" class=\"dataframe\">\n  <thead>\n    <tr style=\"text-align: right;\">\n      <th></th>\n      <th>ID</th>\n      <th>Location</th>\n      <th>Mode_of_delivery</th>\n      <th>Calls_to_customer_care</th>\n      <th>Rating_of_customer</th>\n      <th>Cost_of_food</th>\n      <th>Prior_purchases</th>\n      <th>Gender_of_customer</th>\n      <th>Discount_offered</th>\n      <th>Weight_of_food_in_gms</th>\n      <th>Reached_on_time</th>\n    </tr>\n  </thead>\n  <tbody>\n    <tr>\n      <th>0</th>\n      <td>5083</td>\n      <td>Gachibowli</td>\n      <td>Auto</td>\n      <td>3</td>\n      <td>1.0</td>\n      <td>241.5</td>\n      <td>3.0</td>\n      <td>M</td>\n      <td>9</td>\n      <td>4865</td>\n      <td>1</td>\n    </tr>\n    <tr>\n      <th>1</th>\n      <td>158</td>\n      <td>Hitech City</td>\n      <td>Bike</td>\n      <td>3</td>\n      <td>2.0</td>\n      <td>304.5</td>\n      <td>2.0</td>\n      <td>F</td>\n      <td>39</td>\n      <td>3845</td>\n      <td>1</td>\n    </tr>\n    <tr>\n      <th>2</th>\n      <td>7861</td>\n      <td>Gachibowli</td>\n      <td>Bike</td>\n      <td>4</td>\n      <td>NaN</td>\n      <td>208.5</td>\n      <td>3.0</td>\n      <td>M</td>\n      <td>10</td>\n      <td>4648</td>\n      <td>0</td>\n    </tr>\n    <tr>\n      <th>3</th>\n      <td>3592</td>\n      <td>Khairtabad</td>\n      <td>Bike</td>\n      <td>2</td>\n      <td>3.0</td>\n      <td>201.0</td>\n      <td>10.0</td>\n      <td>F</td>\n      <td>1</td>\n      <td>5632</td>\n      <td>0</td>\n    </tr>\n    <tr>\n      <th>4</th>\n      <td>2718</td>\n      <td>Hitech City</td>\n      <td>Car</td>\n      <td>4</td>\n      <td>5.0</td>\n      <td>238.5</td>\n      <td>3.0</td>\n      <td>M</td>\n      <td>2</td>\n      <td>1048</td>\n      <td>1</td>\n    </tr>\n  </tbody>\n</table>\n</div>"
          },
          "metadata": {},
          "execution_count": 4
        }
      ]
    },
    {
      "cell_type": "code",
      "source": [
        "train_df.describe()"
      ],
      "metadata": {
        "colab": {
          "base_uri": "https://localhost:8080/",
          "height": 364
        },
        "id": "Q1h0E4z2-N02",
        "outputId": "bc732c7f-5b69-46a7-dc40-52e9bf7590fe"
      },
      "execution_count": 5,
      "outputs": [
        {
          "output_type": "execute_result",
          "data": {
            "text/plain": [
              "                 ID  Calls_to_customer_care  Rating_of_customer  Cost_of_food  \\\n",
              "count   5774.000000             5774.000000         4310.000000   5774.000000   \n",
              "mean    5461.922757                4.036543            3.025522    315.113526   \n",
              "std     3171.024555                1.130747            1.404597     71.674514   \n",
              "min        2.000000                2.000000            1.000000    144.000000   \n",
              "25%     2701.500000                3.000000            2.000000    255.000000   \n",
              "50%     5458.000000                4.000000            3.000000    321.000000   \n",
              "75%     8186.750000                5.000000            4.000000    376.500000   \n",
              "max    10998.000000                7.000000            5.000000    465.000000   \n",
              "\n",
              "       Prior_purchases  Discount_offered  Weight_of_food_in_gms  \\\n",
              "count      4906.000000       5774.000000            5774.000000   \n",
              "mean          3.574603         13.519744            3647.108763   \n",
              "std           1.532069         16.349557            1630.353573   \n",
              "min           2.000000          1.000000            1001.000000   \n",
              "25%           3.000000          4.000000            1851.250000   \n",
              "50%           3.000000          7.000000            4148.500000   \n",
              "75%           4.000000         10.000000            5068.000000   \n",
              "max          10.000000         65.000000            7846.000000   \n",
              "\n",
              "       Reached_on_time  \n",
              "count      5774.000000  \n",
              "mean          0.597679  \n",
              "std           0.490408  \n",
              "min           0.000000  \n",
              "25%           0.000000  \n",
              "50%           1.000000  \n",
              "75%           1.000000  \n",
              "max           1.000000  "
            ],
            "text/html": "<div>\n<style scoped>\n    .dataframe tbody tr th:only-of-type {\n        vertical-align: middle;\n    }\n\n    .dataframe tbody tr th {\n        vertical-align: top;\n    }\n\n    .dataframe thead th {\n        text-align: right;\n    }\n</style>\n<table border=\"1\" class=\"dataframe\">\n  <thead>\n    <tr style=\"text-align: right;\">\n      <th></th>\n      <th>ID</th>\n      <th>Calls_to_customer_care</th>\n      <th>Rating_of_customer</th>\n      <th>Cost_of_food</th>\n      <th>Prior_purchases</th>\n      <th>Discount_offered</th>\n      <th>Weight_of_food_in_gms</th>\n      <th>Reached_on_time</th>\n    </tr>\n  </thead>\n  <tbody>\n    <tr>\n      <th>count</th>\n      <td>5774.000000</td>\n      <td>5774.000000</td>\n      <td>4310.000000</td>\n      <td>5774.000000</td>\n      <td>4906.000000</td>\n      <td>5774.000000</td>\n      <td>5774.000000</td>\n      <td>5774.000000</td>\n    </tr>\n    <tr>\n      <th>mean</th>\n      <td>5461.922757</td>\n      <td>4.036543</td>\n      <td>3.025522</td>\n      <td>315.113526</td>\n      <td>3.574603</td>\n      <td>13.519744</td>\n      <td>3647.108763</td>\n      <td>0.597679</td>\n    </tr>\n    <tr>\n      <th>std</th>\n      <td>3171.024555</td>\n      <td>1.130747</td>\n      <td>1.404597</td>\n      <td>71.674514</td>\n      <td>1.532069</td>\n      <td>16.349557</td>\n      <td>1630.353573</td>\n      <td>0.490408</td>\n    </tr>\n    <tr>\n      <th>min</th>\n      <td>2.000000</td>\n      <td>2.000000</td>\n      <td>1.000000</td>\n      <td>144.000000</td>\n      <td>2.000000</td>\n      <td>1.000000</td>\n      <td>1001.000000</td>\n      <td>0.000000</td>\n    </tr>\n    <tr>\n      <th>25%</th>\n      <td>2701.500000</td>\n      <td>3.000000</td>\n      <td>2.000000</td>\n      <td>255.000000</td>\n      <td>3.000000</td>\n      <td>4.000000</td>\n      <td>1851.250000</td>\n      <td>0.000000</td>\n    </tr>\n    <tr>\n      <th>50%</th>\n      <td>5458.000000</td>\n      <td>4.000000</td>\n      <td>3.000000</td>\n      <td>321.000000</td>\n      <td>3.000000</td>\n      <td>7.000000</td>\n      <td>4148.500000</td>\n      <td>1.000000</td>\n    </tr>\n    <tr>\n      <th>75%</th>\n      <td>8186.750000</td>\n      <td>5.000000</td>\n      <td>4.000000</td>\n      <td>376.500000</td>\n      <td>4.000000</td>\n      <td>10.000000</td>\n      <td>5068.000000</td>\n      <td>1.000000</td>\n    </tr>\n    <tr>\n      <th>max</th>\n      <td>10998.000000</td>\n      <td>7.000000</td>\n      <td>5.000000</td>\n      <td>465.000000</td>\n      <td>10.000000</td>\n      <td>65.000000</td>\n      <td>7846.000000</td>\n      <td>1.000000</td>\n    </tr>\n  </tbody>\n</table>\n</div>"
          },
          "metadata": {},
          "execution_count": 5
        }
      ]
    },
    {
      "cell_type": "code",
      "source": [
        "test_df = pd.read_csv(\"data/zion_test_data.csv\")\n",
        "test_df.info()"
      ],
      "metadata": {
        "colab": {
          "base_uri": "https://localhost:8080/"
        },
        "id": "CZ5OsVDX-JH_",
        "outputId": "d3380ff9-ea2f-4f16-bfbe-eec0de2f9830"
      },
      "execution_count": 8,
      "outputs": [
        {
          "output_type": "stream",
          "name": "stdout",
          "text": [
            "<class 'pandas.core.frame.DataFrame'>\nRangeIndex: 2475 entries, 0 to 2474\nData columns (total 10 columns):\n #   Column                  Non-Null Count  Dtype  \n---  ------                  --------------  -----  \n 0   ID                      2475 non-null   int64  \n 1   Location                2475 non-null   object \n 2   Mode_of_delivery        2475 non-null   object \n 3   Calls_to_customer_care  2475 non-null   int64  \n 4   Rating_of_customer      1867 non-null   float64\n 5   Cost_of_food            2475 non-null   float64\n 6   Prior_purchases         2098 non-null   float64\n 7   Gender_of_customer      2475 non-null   object \n 8   Discount_offered        2475 non-null   int64  \n 9   Weight_of_food_in_gms   2475 non-null   int64  \ndtypes: float64(3), int64(4), object(3)\nmemory usage: 193.5+ KB\n"
          ]
        }
      ]
    },
    {
      "cell_type": "markdown",
      "source": [
        "EDA"
      ],
      "metadata": {
        "id": "21iTYAPb-1x-"
      }
    },
    {
      "cell_type": "code",
      "source": [
        "train_df.info()"
      ],
      "metadata": {
        "colab": {
          "base_uri": "https://localhost:8080/"
        },
        "id": "annj7Cg8-Uqs",
        "outputId": "162848d8-1a40-4d22-de86-b88ee4b2b1bf"
      },
      "execution_count": 9,
      "outputs": [
        {
          "output_type": "stream",
          "name": "stdout",
          "text": [
            "<class 'pandas.core.frame.DataFrame'>\nRangeIndex: 5774 entries, 0 to 5773\nData columns (total 11 columns):\n #   Column                  Non-Null Count  Dtype  \n---  ------                  --------------  -----  \n 0   ID                      5774 non-null   int64  \n 1   Location                5774 non-null   object \n 2   Mode_of_delivery        5774 non-null   object \n 3   Calls_to_customer_care  5774 non-null   int64  \n 4   Rating_of_customer      4310 non-null   float64\n 5   Cost_of_food            5774 non-null   float64\n 6   Prior_purchases         4906 non-null   float64\n 7   Gender_of_customer      5774 non-null   object \n 8   Discount_offered        5774 non-null   int64  \n 9   Weight_of_food_in_gms   5774 non-null   int64  \n 10  Reached_on_time         5774 non-null   int64  \ndtypes: float64(3), int64(5), object(3)\nmemory usage: 496.3+ KB\n"
          ]
        }
      ]
    },
    {
      "cell_type": "code",
      "source": [
        "train_df.Location.value_counts() # one-hot encoding"
      ],
      "metadata": {
        "colab": {
          "base_uri": "https://localhost:8080/"
        },
        "id": "-fb-maPD-3uD",
        "outputId": "825e83cf-2970-4499-9d5d-fd225aff0815"
      },
      "execution_count": 10,
      "outputs": [
        {
          "output_type": "execute_result",
          "data": {
            "text/plain": [
              "Hitech City     1901\n",
              "Secunderabad     993\n",
              "Masab Tank       983\n",
              "Khairtabad       959\n",
              "Gachibowli       938\n",
              "Name: Location, dtype: int64"
            ]
          },
          "metadata": {},
          "execution_count": 10
        }
      ]
    },
    {
      "cell_type": "code",
      "source": [
        "train_df.Mode_of_delivery.value_counts() # doing label encoding since bike is faster than auto and auto is faster than car"
      ],
      "metadata": {
        "colab": {
          "base_uri": "https://localhost:8080/"
        },
        "id": "IicJ0Ypo_Ack",
        "outputId": "5b69eb92-4a45-423d-9549-92fb5c4cfd57"
      },
      "execution_count": 11,
      "outputs": [
        {
          "output_type": "execute_result",
          "data": {
            "text/plain": [
              "Bike    3927\n",
              "Car      933\n",
              "Auto     914\n",
              "Name: Mode_of_delivery, dtype: int64"
            ]
          },
          "metadata": {},
          "execution_count": 11
        }
      ]
    },
    {
      "cell_type": "code",
      "source": [
        "train_df.Calls_to_customer_care.describe() # remove outliers"
      ],
      "metadata": {
        "colab": {
          "base_uri": "https://localhost:8080/"
        },
        "id": "ZgoNGpEL_D7Z",
        "outputId": "3dbb6f1d-e870-4121-eda9-44e8e600859d"
      },
      "execution_count": 12,
      "outputs": [
        {
          "output_type": "execute_result",
          "data": {
            "text/plain": [
              "count    5774.000000\n",
              "mean        4.036543\n",
              "std         1.130747\n",
              "min         2.000000\n",
              "25%         3.000000\n",
              "50%         4.000000\n",
              "75%         5.000000\n",
              "max         7.000000\n",
              "Name: Calls_to_customer_care, dtype: float64"
            ]
          },
          "metadata": {},
          "execution_count": 12
        }
      ]
    },
    {
      "cell_type": "code",
      "source": [
        "train_df.Rating_of_customer.describe() # remove outliers; fill missing value using median and then using model based"
      ],
      "metadata": {
        "colab": {
          "base_uri": "https://localhost:8080/"
        },
        "id": "YMb8aZ9g_Xy1",
        "outputId": "1d4c80f2-a2cd-4937-a261-3be104c9b005"
      },
      "execution_count": 13,
      "outputs": [
        {
          "output_type": "execute_result",
          "data": {
            "text/plain": [
              "count    4310.000000\n",
              "mean        3.025522\n",
              "std         1.404597\n",
              "min         1.000000\n",
              "25%         2.000000\n",
              "50%         3.000000\n",
              "75%         4.000000\n",
              "max         5.000000\n",
              "Name: Rating_of_customer, dtype: float64"
            ]
          },
          "metadata": {},
          "execution_count": 13
        }
      ]
    },
    {
      "cell_type": "code",
      "source": [
        "train_df.Cost_of_food.describe() # remove outliers;"
      ],
      "metadata": {
        "colab": {
          "base_uri": "https://localhost:8080/"
        },
        "id": "CtpX3sN0_kOw",
        "outputId": "60c31362-6a4e-4162-daaa-b04e7504e434"
      },
      "execution_count": 14,
      "outputs": [
        {
          "output_type": "execute_result",
          "data": {
            "text/plain": [
              "count    5774.000000\n",
              "mean      315.113526\n",
              "std        71.674514\n",
              "min       144.000000\n",
              "25%       255.000000\n",
              "50%       321.000000\n",
              "75%       376.500000\n",
              "max       465.000000\n",
              "Name: Cost_of_food, dtype: float64"
            ]
          },
          "metadata": {},
          "execution_count": 14
        }
      ]
    },
    {
      "cell_type": "code",
      "source": [
        "train_df.Prior_purchases.describe() # remove outliers; fill missing value using median and then using model based"
      ],
      "metadata": {
        "colab": {
          "base_uri": "https://localhost:8080/"
        },
        "id": "aXk-T8aX_8PM",
        "outputId": "a0bba6fc-467d-47bb-aac6-450761c971fe"
      },
      "execution_count": 15,
      "outputs": [
        {
          "output_type": "execute_result",
          "data": {
            "text/plain": [
              "count    4906.000000\n",
              "mean        3.574603\n",
              "std         1.532069\n",
              "min         2.000000\n",
              "25%         3.000000\n",
              "50%         3.000000\n",
              "75%         4.000000\n",
              "max        10.000000\n",
              "Name: Prior_purchases, dtype: float64"
            ]
          },
          "metadata": {},
          "execution_count": 15
        }
      ]
    },
    {
      "cell_type": "code",
      "source": [
        "train_df.Gender_of_customer.value_counts()"
      ],
      "metadata": {
        "colab": {
          "base_uri": "https://localhost:8080/"
        },
        "id": "wR81c63zAXpI",
        "outputId": "43dae7f1-14e8-4d9f-a29c-ff7f603f1667"
      },
      "execution_count": 16,
      "outputs": [
        {
          "output_type": "execute_result",
          "data": {
            "text/plain": [
              "F    2912\n",
              "M    2862\n",
              "Name: Gender_of_customer, dtype: int64"
            ]
          },
          "metadata": {},
          "execution_count": 16
        }
      ]
    },
    {
      "cell_type": "code",
      "source": [
        "train_df.Discount_offered.describe() # remove outliers;"
      ],
      "metadata": {
        "colab": {
          "base_uri": "https://localhost:8080/"
        },
        "id": "48S1h0wIAmSX",
        "outputId": "293bd795-5fc0-4f05-f6fd-0f65c7849eb7"
      },
      "execution_count": 17,
      "outputs": [
        {
          "output_type": "execute_result",
          "data": {
            "text/plain": [
              "count    5774.000000\n",
              "mean       13.519744\n",
              "std        16.349557\n",
              "min         1.000000\n",
              "25%         4.000000\n",
              "50%         7.000000\n",
              "75%        10.000000\n",
              "max        65.000000\n",
              "Name: Discount_offered, dtype: float64"
            ]
          },
          "metadata": {},
          "execution_count": 17
        }
      ]
    },
    {
      "cell_type": "code",
      "source": [
        "\n",
        "train_df.Weight_of_food_in_gms.describe() # remove outliers;"
      ],
      "metadata": {
        "colab": {
          "base_uri": "https://localhost:8080/"
        },
        "id": "ftw-PG1BAv4L",
        "outputId": "104fa352-1a1f-465b-f75a-da07c9491f4f"
      },
      "execution_count": 18,
      "outputs": [
        {
          "output_type": "execute_result",
          "data": {
            "text/plain": [
              "count    5774.000000\n",
              "mean     3647.108763\n",
              "std      1630.353573\n",
              "min      1001.000000\n",
              "25%      1851.250000\n",
              "50%      4148.500000\n",
              "75%      5068.000000\n",
              "max      7846.000000\n",
              "Name: Weight_of_food_in_gms, dtype: float64"
            ]
          },
          "metadata": {},
          "execution_count": 18
        }
      ]
    },
    {
      "cell_type": "code",
      "source": [
        "train_df.Reached_on_time.value_counts()"
      ],
      "metadata": {
        "colab": {
          "base_uri": "https://localhost:8080/"
        },
        "id": "EfcEZw1qA1tN",
        "outputId": "b256002c-24d8-4411-affa-421a19309b70"
      },
      "execution_count": 19,
      "outputs": [
        {
          "output_type": "execute_result",
          "data": {
            "text/plain": [
              "1    3451\n",
              "0    2323\n",
              "Name: Reached_on_time, dtype: int64"
            ]
          },
          "metadata": {},
          "execution_count": 19
        }
      ]
    },
    {
      "cell_type": "markdown",
      "source": [
        "**Handling missing values**"
      ],
      "metadata": {
        "id": "bL1Ga5-CANQp"
      }
    },
    {
      "cell_type": "code",
      "source": [
        "# Rating_of_customer, Prior_purchases\n",
        "train_df.info()"
      ],
      "metadata": {
        "colab": {
          "base_uri": "https://localhost:8080/"
        },
        "id": "xQkn1T8SAA3D",
        "outputId": "8dc6c5b7-d5be-4ee1-d6ae-4f8da81c1c20"
      },
      "execution_count": 20,
      "outputs": [
        {
          "output_type": "stream",
          "name": "stdout",
          "text": [
            "<class 'pandas.core.frame.DataFrame'>\nRangeIndex: 5774 entries, 0 to 5773\nData columns (total 11 columns):\n #   Column                  Non-Null Count  Dtype  \n---  ------                  --------------  -----  \n 0   ID                      5774 non-null   int64  \n 1   Location                5774 non-null   object \n 2   Mode_of_delivery        5774 non-null   object \n 3   Calls_to_customer_care  5774 non-null   int64  \n 4   Rating_of_customer      4310 non-null   float64\n 5   Cost_of_food            5774 non-null   float64\n 6   Prior_purchases         4906 non-null   float64\n 7   Gender_of_customer      5774 non-null   object \n 8   Discount_offered        5774 non-null   int64  \n 9   Weight_of_food_in_gms   5774 non-null   int64  \n 10  Reached_on_time         5774 non-null   int64  \ndtypes: float64(3), int64(5), object(3)\nmemory usage: 496.3+ KB\n"
          ]
        }
      ]
    },
    {
      "cell_type": "code",
      "source": [
        "missing_cols_matadata = train_df[['Rating_of_customer', 'Prior_purchases']].median()\n",
        "train_df[['Rating_of_customer', 'Prior_purchases']] = train_df[['Rating_of_customer', 'Prior_purchases']].fillna(missing_cols_matadata)\n",
        "train_df.info()"
      ],
      "metadata": {
        "colab": {
          "base_uri": "https://localhost:8080/"
        },
        "id": "XTfvwlKPBBNZ",
        "outputId": "60a16edf-e3a4-4d8b-932d-6ab38b455f33"
      },
      "execution_count": 21,
      "outputs": [
        {
          "output_type": "stream",
          "name": "stdout",
          "text": [
            "<class 'pandas.core.frame.DataFrame'>\nRangeIndex: 5774 entries, 0 to 5773\nData columns (total 11 columns):\n #   Column                  Non-Null Count  Dtype  \n---  ------                  --------------  -----  \n 0   ID                      5774 non-null   int64  \n 1   Location                5774 non-null   object \n 2   Mode_of_delivery        5774 non-null   object \n 3   Calls_to_customer_care  5774 non-null   int64  \n 4   Rating_of_customer      5774 non-null   float64\n 5   Cost_of_food            5774 non-null   float64\n 6   Prior_purchases         5774 non-null   float64\n 7   Gender_of_customer      5774 non-null   object \n 8   Discount_offered        5774 non-null   int64  \n 9   Weight_of_food_in_gms   5774 non-null   int64  \n 10  Reached_on_time         5774 non-null   int64  \ndtypes: float64(3), int64(5), object(3)\nmemory usage: 496.3+ KB\n"
          ]
        }
      ]
    },
    {
      "cell_type": "markdown",
      "source": [
        "Handling Categories"
      ],
      "metadata": {
        "id": "T4Od5IAFBuJx"
      }
    },
    {
      "cell_type": "code",
      "source": [
        "train_df['Mode_of_delivery'] = train_df.Mode_of_delivery.replace({'Bike': 3, 'Auto':2, 'Car':1}) \n",
        "train_df['Mode_of_delivery'].value_counts()"
      ],
      "metadata": {
        "colab": {
          "base_uri": "https://localhost:8080/"
        },
        "id": "iTbvHmJTCcBw",
        "outputId": "4aeb1b7a-b3fb-4b41-a3fa-f39f3d824178"
      },
      "execution_count": 22,
      "outputs": [
        {
          "output_type": "execute_result",
          "data": {
            "text/plain": [
              "3    3927\n",
              "1     933\n",
              "2     914\n",
              "Name: Mode_of_delivery, dtype: int64"
            ]
          },
          "metadata": {},
          "execution_count": 22
        }
      ]
    },
    {
      "cell_type": "markdown",
      "source": [
        "**Handling Numerical**"
      ],
      "metadata": {
        "id": "wse2pai8EL1e"
      }
    },
    {
      "cell_type": "code",
      "source": [
        "train_df.info()"
      ],
      "metadata": {
        "colab": {
          "base_uri": "https://localhost:8080/"
        },
        "id": "UQ-kfNiGEUss",
        "outputId": "6f0b23ce-969c-459d-8ed6-19ad63bade6a"
      },
      "execution_count": 23,
      "outputs": [
        {
          "output_type": "stream",
          "name": "stdout",
          "text": [
            "<class 'pandas.core.frame.DataFrame'>\nRangeIndex: 5774 entries, 0 to 5773\nData columns (total 11 columns):\n #   Column                  Non-Null Count  Dtype  \n---  ------                  --------------  -----  \n 0   ID                      5774 non-null   int64  \n 1   Location                5774 non-null   object \n 2   Mode_of_delivery        5774 non-null   int64  \n 3   Calls_to_customer_care  5774 non-null   int64  \n 4   Rating_of_customer      5774 non-null   float64\n 5   Cost_of_food            5774 non-null   float64\n 6   Prior_purchases         5774 non-null   float64\n 7   Gender_of_customer      5774 non-null   object \n 8   Discount_offered        5774 non-null   int64  \n 9   Weight_of_food_in_gms   5774 non-null   int64  \n 10  Reached_on_time         5774 non-null   int64  \ndtypes: float64(3), int64(6), object(2)\nmemory usage: 496.3+ KB\n"
          ]
        }
      ]
    },
    {
      "cell_type": "code",
      "source": [
        "num_feat = ['Mode_of_delivery', 'Calls_to_customer_care', 'Rating_of_customer', 'Cost_of_food', 'Prior_purchases', 'Discount_offered', 'Weight_of_food_in_gms']\n"
      ],
      "metadata": {
        "id": "W6dBBAW-DsaK"
      },
      "execution_count": 24,
      "outputs": []
    },
    {
      "cell_type": "code",
      "source": [
        "# train_df = train_df_orig\n",
        "train_df.head(1)"
      ],
      "metadata": {
        "colab": {
          "base_uri": "https://localhost:8080/",
          "height": 145
        },
        "id": "33ciVa3gGUR-",
        "outputId": "5b1faf4c-ae98-4efd-d093-9c1e348bb6d0"
      },
      "execution_count": 25,
      "outputs": [
        {
          "output_type": "execute_result",
          "data": {
            "text/plain": [
              "     ID    Location  Mode_of_delivery  Calls_to_customer_care  \\\n",
              "0  5083  Gachibowli                 2                       3   \n",
              "\n",
              "   Rating_of_customer  Cost_of_food  Prior_purchases Gender_of_customer  \\\n",
              "0                 1.0         241.5              3.0                  M   \n",
              "\n",
              "   Discount_offered  Weight_of_food_in_gms  Reached_on_time  \n",
              "0                 9                   4865                1  "
            ],
            "text/html": "<div>\n<style scoped>\n    .dataframe tbody tr th:only-of-type {\n        vertical-align: middle;\n    }\n\n    .dataframe tbody tr th {\n        vertical-align: top;\n    }\n\n    .dataframe thead th {\n        text-align: right;\n    }\n</style>\n<table border=\"1\" class=\"dataframe\">\n  <thead>\n    <tr style=\"text-align: right;\">\n      <th></th>\n      <th>ID</th>\n      <th>Location</th>\n      <th>Mode_of_delivery</th>\n      <th>Calls_to_customer_care</th>\n      <th>Rating_of_customer</th>\n      <th>Cost_of_food</th>\n      <th>Prior_purchases</th>\n      <th>Gender_of_customer</th>\n      <th>Discount_offered</th>\n      <th>Weight_of_food_in_gms</th>\n      <th>Reached_on_time</th>\n    </tr>\n  </thead>\n  <tbody>\n    <tr>\n      <th>0</th>\n      <td>5083</td>\n      <td>Gachibowli</td>\n      <td>2</td>\n      <td>3</td>\n      <td>1.0</td>\n      <td>241.5</td>\n      <td>3.0</td>\n      <td>M</td>\n      <td>9</td>\n      <td>4865</td>\n      <td>1</td>\n    </tr>\n  </tbody>\n</table>\n</div>"
          },
          "metadata": {},
          "execution_count": 25
        }
      ]
    },
    {
      "cell_type": "code",
      "source": [
        "# remove outliers\n",
        "from scipy import stats\n",
        "print(train_df.shape)\n",
        "train_df_orig = train_df.copy()\n",
        "train_df = train_df[(np.abs(stats.zscore(train_df[num_feat])) < 3).all(axis=1)]\n",
        "print(train_df.shape)"
      ],
      "metadata": {
        "colab": {
          "base_uri": "https://localhost:8080/"
        },
        "id": "zOZMOQlhFG2m",
        "outputId": "1db294d3-6768-405a-b81c-47015c9218c2"
      },
      "execution_count": 26,
      "outputs": [
        {
          "output_type": "stream",
          "name": "stdout",
          "text": [
            "(5774, 11)\n(5562, 11)\n"
          ]
        }
      ]
    },
    {
      "cell_type": "code",
      "source": [
        "enc = OneHotEncoder(handle_unknown='ignore', drop = 'first')\n",
        "cat_cols = ['Location', 'Gender_of_customer']\n",
        "\n",
        "enc.fit(train_df[cat_cols])\n",
        "print(enc.categories_)\n",
        "\n",
        "cat_feat = enc.transform(train_df[cat_cols]).toarray()\n",
        "print(cat_feat)\n",
        "\n",
        "cat_df = pd.DataFrame(cat_feat)\n",
        "print(cat_df.shape)\n",
        "cat_df.head(1)"
      ],
      "metadata": {
        "colab": {
          "base_uri": "https://localhost:8080/",
          "height": 259
        },
        "id": "NbcSUA7KJOOp",
        "outputId": "2da33821-8ce2-47aa-ac68-691c7a262324"
      },
      "execution_count": 27,
      "outputs": [
        {
          "output_type": "stream",
          "name": "stdout",
          "text": [
            "[array(['Gachibowli', 'Hitech City', 'Khairtabad', 'Masab Tank',\n       'Secunderabad'], dtype=object), array(['F', 'M'], dtype=object)]\n[[0. 0. 0. 0. 1.]\n [1. 0. 0. 0. 0.]\n [0. 0. 0. 0. 1.]\n ...\n [0. 0. 1. 0. 1.]\n [1. 0. 0. 0. 0.]\n [0. 0. 0. 1. 1.]]\n(5562, 5)\n"
          ]
        },
        {
          "output_type": "execute_result",
          "data": {
            "text/plain": [
              "     0    1    2    3    4\n",
              "0  0.0  0.0  0.0  0.0  1.0"
            ],
            "text/html": "<div>\n<style scoped>\n    .dataframe tbody tr th:only-of-type {\n        vertical-align: middle;\n    }\n\n    .dataframe tbody tr th {\n        vertical-align: top;\n    }\n\n    .dataframe thead th {\n        text-align: right;\n    }\n</style>\n<table border=\"1\" class=\"dataframe\">\n  <thead>\n    <tr style=\"text-align: right;\">\n      <th></th>\n      <th>0</th>\n      <th>1</th>\n      <th>2</th>\n      <th>3</th>\n      <th>4</th>\n    </tr>\n  </thead>\n  <tbody>\n    <tr>\n      <th>0</th>\n      <td>0.0</td>\n      <td>0.0</td>\n      <td>0.0</td>\n      <td>0.0</td>\n      <td>1.0</td>\n    </tr>\n  </tbody>\n</table>\n</div>"
          },
          "metadata": {},
          "execution_count": 27
        }
      ]
    },
    {
      "cell_type": "code",
      "source": [
        "train_df[num_feat].describe()"
      ],
      "metadata": {
        "colab": {
          "base_uri": "https://localhost:8080/",
          "height": 364
        },
        "id": "bKi_bcwNF7lZ",
        "outputId": "99a4f877-2f8a-465c-b420-2205e138a95b"
      },
      "execution_count": 28,
      "outputs": [
        {
          "output_type": "execute_result",
          "data": {
            "text/plain": [
              "       Mode_of_delivery  Calls_to_customer_care  Rating_of_customer  \\\n",
              "count       5562.000000             5562.000000         5562.000000   \n",
              "mean           2.516181                4.046386            3.016721   \n",
              "std            0.757987                1.135650            1.213383   \n",
              "min            1.000000                2.000000            1.000000   \n",
              "25%            2.000000                3.000000            2.000000   \n",
              "50%            3.000000                4.000000            3.000000   \n",
              "75%            3.000000                5.000000            4.000000   \n",
              "max            3.000000                7.000000            5.000000   \n",
              "\n",
              "       Cost_of_food  Prior_purchases  Discount_offered  Weight_of_food_in_gms  \n",
              "count   5562.000000       5562.00000       5562.000000            5562.000000  \n",
              "mean     315.721413          3.34502         12.923768            3649.212154  \n",
              "std       71.673454          1.10262         15.490956            1634.964997  \n",
              "min      144.000000          2.00000          1.000000            1001.000000  \n",
              "25%      255.000000          3.00000          4.000000            1841.000000  \n",
              "50%      322.500000          3.00000          7.000000            4155.500000  \n",
              "75%      376.500000          4.00000         10.000000            5069.750000  \n",
              "max      465.000000          7.00000         62.000000            7846.000000  "
            ],
            "text/html": "<div>\n<style scoped>\n    .dataframe tbody tr th:only-of-type {\n        vertical-align: middle;\n    }\n\n    .dataframe tbody tr th {\n        vertical-align: top;\n    }\n\n    .dataframe thead th {\n        text-align: right;\n    }\n</style>\n<table border=\"1\" class=\"dataframe\">\n  <thead>\n    <tr style=\"text-align: right;\">\n      <th></th>\n      <th>Mode_of_delivery</th>\n      <th>Calls_to_customer_care</th>\n      <th>Rating_of_customer</th>\n      <th>Cost_of_food</th>\n      <th>Prior_purchases</th>\n      <th>Discount_offered</th>\n      <th>Weight_of_food_in_gms</th>\n    </tr>\n  </thead>\n  <tbody>\n    <tr>\n      <th>count</th>\n      <td>5562.000000</td>\n      <td>5562.000000</td>\n      <td>5562.000000</td>\n      <td>5562.000000</td>\n      <td>5562.00000</td>\n      <td>5562.000000</td>\n      <td>5562.000000</td>\n    </tr>\n    <tr>\n      <th>mean</th>\n      <td>2.516181</td>\n      <td>4.046386</td>\n      <td>3.016721</td>\n      <td>315.721413</td>\n      <td>3.34502</td>\n      <td>12.923768</td>\n      <td>3649.212154</td>\n    </tr>\n    <tr>\n      <th>std</th>\n      <td>0.757987</td>\n      <td>1.135650</td>\n      <td>1.213383</td>\n      <td>71.673454</td>\n      <td>1.10262</td>\n      <td>15.490956</td>\n      <td>1634.964997</td>\n    </tr>\n    <tr>\n      <th>min</th>\n      <td>1.000000</td>\n      <td>2.000000</td>\n      <td>1.000000</td>\n      <td>144.000000</td>\n      <td>2.00000</td>\n      <td>1.000000</td>\n      <td>1001.000000</td>\n    </tr>\n    <tr>\n      <th>25%</th>\n      <td>2.000000</td>\n      <td>3.000000</td>\n      <td>2.000000</td>\n      <td>255.000000</td>\n      <td>3.00000</td>\n      <td>4.000000</td>\n      <td>1841.000000</td>\n    </tr>\n    <tr>\n      <th>50%</th>\n      <td>3.000000</td>\n      <td>4.000000</td>\n      <td>3.000000</td>\n      <td>322.500000</td>\n      <td>3.00000</td>\n      <td>7.000000</td>\n      <td>4155.500000</td>\n    </tr>\n    <tr>\n      <th>75%</th>\n      <td>3.000000</td>\n      <td>5.000000</td>\n      <td>4.000000</td>\n      <td>376.500000</td>\n      <td>4.00000</td>\n      <td>10.000000</td>\n      <td>5069.750000</td>\n    </tr>\n    <tr>\n      <th>max</th>\n      <td>3.000000</td>\n      <td>7.000000</td>\n      <td>5.000000</td>\n      <td>465.000000</td>\n      <td>7.00000</td>\n      <td>62.000000</td>\n      <td>7846.000000</td>\n    </tr>\n  </tbody>\n</table>\n</div>"
          },
          "metadata": {},
          "execution_count": 28
        }
      ]
    },
    {
      "cell_type": "code",
      "source": [
        "# scaling\n",
        "from sklearn.preprocessing import StandardScaler\n",
        "\n",
        "ss = StandardScaler()\n",
        "\n",
        "train_df[num_feat] = ss.fit_transform(train_df[num_feat])\n",
        "\n",
        "train_df[num_feat].describe()"
      ],
      "metadata": {
        "colab": {
          "base_uri": "https://localhost:8080/",
          "height": 364
        },
        "id": "GNuuouCTFeyi",
        "outputId": "fabbc64f-4d6f-4481-a2dd-16e6d40d7c31"
      },
      "execution_count": 29,
      "outputs": [
        {
          "output_type": "execute_result",
          "data": {
            "text/plain": [
              "       Mode_of_delivery  Calls_to_customer_care  Rating_of_customer  \\\n",
              "count      5.562000e+03            5.562000e+03        5.562000e+03   \n",
              "mean      -1.507444e-16            3.768610e-17        1.290270e-16   \n",
              "std        1.000090e+00            1.000090e+00        1.000090e+00   \n",
              "min       -2.000452e+00           -1.802113e+00       -1.662214e+00   \n",
              "25%       -6.810505e-01           -9.214810e-01       -8.379979e-01   \n",
              "50%        6.383514e-01           -4.084916e-02       -1.378140e-02   \n",
              "75%        6.383514e-01            8.397827e-01        8.104351e-01   \n",
              "max        6.383514e-01            2.601046e+00        1.634652e+00   \n",
              "\n",
              "       Cost_of_food  Prior_purchases  Discount_offered  Weight_of_food_in_gms  \n",
              "count  5.562000e+03     5.562000e+03      5.562000e+03           5.562000e+03  \n",
              "mean  -1.729409e-16     1.111421e-16      6.579099e-17           1.788493e-17  \n",
              "std    1.000090e+00     1.000090e+00      1.000090e+00           1.000090e+00  \n",
              "min   -2.396101e+00    -1.219949e+00     -7.697937e-01          -1.619882e+00  \n",
              "25%   -8.472715e-01    -3.129371e-01     -5.761149e-01          -1.106063e+00  \n",
              "50%    9.458448e-02    -3.129371e-01     -3.824361e-01           3.096906e-01  \n",
              "75%    8.480692e-01     5.940749e-01     -1.887573e-01           8.689272e-01  \n",
              "max    2.082947e+00     3.315111e+00      3.168342e+00           2.567128e+00  "
            ],
            "text/html": "<div>\n<style scoped>\n    .dataframe tbody tr th:only-of-type {\n        vertical-align: middle;\n    }\n\n    .dataframe tbody tr th {\n        vertical-align: top;\n    }\n\n    .dataframe thead th {\n        text-align: right;\n    }\n</style>\n<table border=\"1\" class=\"dataframe\">\n  <thead>\n    <tr style=\"text-align: right;\">\n      <th></th>\n      <th>Mode_of_delivery</th>\n      <th>Calls_to_customer_care</th>\n      <th>Rating_of_customer</th>\n      <th>Cost_of_food</th>\n      <th>Prior_purchases</th>\n      <th>Discount_offered</th>\n      <th>Weight_of_food_in_gms</th>\n    </tr>\n  </thead>\n  <tbody>\n    <tr>\n      <th>count</th>\n      <td>5.562000e+03</td>\n      <td>5.562000e+03</td>\n      <td>5.562000e+03</td>\n      <td>5.562000e+03</td>\n      <td>5.562000e+03</td>\n      <td>5.562000e+03</td>\n      <td>5.562000e+03</td>\n    </tr>\n    <tr>\n      <th>mean</th>\n      <td>-1.507444e-16</td>\n      <td>3.768610e-17</td>\n      <td>1.290270e-16</td>\n      <td>-1.729409e-16</td>\n      <td>1.111421e-16</td>\n      <td>6.579099e-17</td>\n      <td>1.788493e-17</td>\n    </tr>\n    <tr>\n      <th>std</th>\n      <td>1.000090e+00</td>\n      <td>1.000090e+00</td>\n      <td>1.000090e+00</td>\n      <td>1.000090e+00</td>\n      <td>1.000090e+00</td>\n      <td>1.000090e+00</td>\n      <td>1.000090e+00</td>\n    </tr>\n    <tr>\n      <th>min</th>\n      <td>-2.000452e+00</td>\n      <td>-1.802113e+00</td>\n      <td>-1.662214e+00</td>\n      <td>-2.396101e+00</td>\n      <td>-1.219949e+00</td>\n      <td>-7.697937e-01</td>\n      <td>-1.619882e+00</td>\n    </tr>\n    <tr>\n      <th>25%</th>\n      <td>-6.810505e-01</td>\n      <td>-9.214810e-01</td>\n      <td>-8.379979e-01</td>\n      <td>-8.472715e-01</td>\n      <td>-3.129371e-01</td>\n      <td>-5.761149e-01</td>\n      <td>-1.106063e+00</td>\n    </tr>\n    <tr>\n      <th>50%</th>\n      <td>6.383514e-01</td>\n      <td>-4.084916e-02</td>\n      <td>-1.378140e-02</td>\n      <td>9.458448e-02</td>\n      <td>-3.129371e-01</td>\n      <td>-3.824361e-01</td>\n      <td>3.096906e-01</td>\n    </tr>\n    <tr>\n      <th>75%</th>\n      <td>6.383514e-01</td>\n      <td>8.397827e-01</td>\n      <td>8.104351e-01</td>\n      <td>8.480692e-01</td>\n      <td>5.940749e-01</td>\n      <td>-1.887573e-01</td>\n      <td>8.689272e-01</td>\n    </tr>\n    <tr>\n      <th>max</th>\n      <td>6.383514e-01</td>\n      <td>2.601046e+00</td>\n      <td>1.634652e+00</td>\n      <td>2.082947e+00</td>\n      <td>3.315111e+00</td>\n      <td>3.168342e+00</td>\n      <td>2.567128e+00</td>\n    </tr>\n  </tbody>\n</table>\n</div>"
          },
          "metadata": {},
          "execution_count": 29
        }
      ]
    },
    {
      "cell_type": "code",
      "source": [
        "print(train_df.shape)\n",
        "train_df.head(1)"
      ],
      "metadata": {
        "colab": {
          "base_uri": "https://localhost:8080/",
          "height": 163
        },
        "id": "YQPnkT50GC0D",
        "outputId": "49723f3e-3a91-4336-ae97-d2669fb779d4"
      },
      "execution_count": 30,
      "outputs": [
        {
          "output_type": "stream",
          "name": "stdout",
          "text": [
            "(5562, 11)\n"
          ]
        },
        {
          "output_type": "execute_result",
          "data": {
            "text/plain": [
              "     ID    Location  Mode_of_delivery  Calls_to_customer_care  \\\n",
              "0  5083  Gachibowli          -0.68105               -0.921481   \n",
              "\n",
              "   Rating_of_customer  Cost_of_food  Prior_purchases Gender_of_customer  \\\n",
              "0           -1.662214     -1.035643        -0.312937                  M   \n",
              "\n",
              "   Discount_offered  Weight_of_food_in_gms  Reached_on_time  \n",
              "0         -0.253317               0.743684                1  "
            ],
            "text/html": "<div>\n<style scoped>\n    .dataframe tbody tr th:only-of-type {\n        vertical-align: middle;\n    }\n\n    .dataframe tbody tr th {\n        vertical-align: top;\n    }\n\n    .dataframe thead th {\n        text-align: right;\n    }\n</style>\n<table border=\"1\" class=\"dataframe\">\n  <thead>\n    <tr style=\"text-align: right;\">\n      <th></th>\n      <th>ID</th>\n      <th>Location</th>\n      <th>Mode_of_delivery</th>\n      <th>Calls_to_customer_care</th>\n      <th>Rating_of_customer</th>\n      <th>Cost_of_food</th>\n      <th>Prior_purchases</th>\n      <th>Gender_of_customer</th>\n      <th>Discount_offered</th>\n      <th>Weight_of_food_in_gms</th>\n      <th>Reached_on_time</th>\n    </tr>\n  </thead>\n  <tbody>\n    <tr>\n      <th>0</th>\n      <td>5083</td>\n      <td>Gachibowli</td>\n      <td>-0.68105</td>\n      <td>-0.921481</td>\n      <td>-1.662214</td>\n      <td>-1.035643</td>\n      <td>-0.312937</td>\n      <td>M</td>\n      <td>-0.253317</td>\n      <td>0.743684</td>\n      <td>1</td>\n    </tr>\n  </tbody>\n</table>\n</div>"
          },
          "metadata": {},
          "execution_count": 30
        }
      ]
    },
    {
      "cell_type": "code",
      "source": [
        "from sklearn.decomposition import PCA\n",
        "pca = PCA(n_components=7, svd_solver='full')\n",
        "pca.fit(train_df[num_feat])\n",
        "print(pca.explained_variance_ratio_)"
      ],
      "metadata": {
        "colab": {
          "base_uri": "https://localhost:8080/"
        },
        "id": "1p17xUnUWQOk",
        "outputId": "21bbad9d-9166-4cfc-8312-cd233a8b6b7b"
      },
      "execution_count": 31,
      "outputs": [
        {
          "output_type": "stream",
          "name": "stdout",
          "text": [
            "[0.24321339 0.1929876  0.14407432 0.14149472 0.11944066 0.09503284\n 0.06375648]\n"
          ]
        }
      ]
    },
    {
      "cell_type": "code",
      "source": [
        "print(train_df[num_feat].shape, cat_df.shape)\n",
        "x_train = pd.concat([train_df[num_feat].reset_index(drop=True), cat_df.reset_index(drop=True)], axis=1)\n",
        "print(x_train.shape)\n",
        "x_train.head(1)"
      ],
      "metadata": {
        "colab": {
          "base_uri": "https://localhost:8080/",
          "height": 180
        },
        "id": "0hmPyAfyH0Tz",
        "outputId": "2f764a83-6e65-4add-88d5-9fa7f0c52abc"
      },
      "execution_count": 32,
      "outputs": [
        {
          "output_type": "stream",
          "name": "stdout",
          "text": [
            "(5562, 7) (5562, 5)\n(5562, 12)\n"
          ]
        },
        {
          "output_type": "execute_result",
          "data": {
            "text/plain": [
              "   Mode_of_delivery  Calls_to_customer_care  Rating_of_customer  Cost_of_food  \\\n",
              "0          -0.68105               -0.921481           -1.662214     -1.035643   \n",
              "\n",
              "   Prior_purchases  Discount_offered  Weight_of_food_in_gms    0    1    2  \\\n",
              "0        -0.312937         -0.253317               0.743684  0.0  0.0  0.0   \n",
              "\n",
              "     3    4  \n",
              "0  0.0  1.0  "
            ],
            "text/html": "<div>\n<style scoped>\n    .dataframe tbody tr th:only-of-type {\n        vertical-align: middle;\n    }\n\n    .dataframe tbody tr th {\n        vertical-align: top;\n    }\n\n    .dataframe thead th {\n        text-align: right;\n    }\n</style>\n<table border=\"1\" class=\"dataframe\">\n  <thead>\n    <tr style=\"text-align: right;\">\n      <th></th>\n      <th>Mode_of_delivery</th>\n      <th>Calls_to_customer_care</th>\n      <th>Rating_of_customer</th>\n      <th>Cost_of_food</th>\n      <th>Prior_purchases</th>\n      <th>Discount_offered</th>\n      <th>Weight_of_food_in_gms</th>\n      <th>0</th>\n      <th>1</th>\n      <th>2</th>\n      <th>3</th>\n      <th>4</th>\n    </tr>\n  </thead>\n  <tbody>\n    <tr>\n      <th>0</th>\n      <td>-0.68105</td>\n      <td>-0.921481</td>\n      <td>-1.662214</td>\n      <td>-1.035643</td>\n      <td>-0.312937</td>\n      <td>-0.253317</td>\n      <td>0.743684</td>\n      <td>0.0</td>\n      <td>0.0</td>\n      <td>0.0</td>\n      <td>0.0</td>\n      <td>1.0</td>\n    </tr>\n  </tbody>\n</table>\n</div>"
          },
          "metadata": {},
          "execution_count": 32
        }
      ]
    },
    {
      "cell_type": "code",
      "source": [
        "y_train = train_df.Reached_on_time\n",
        "print(y_train.shape)"
      ],
      "metadata": {
        "colab": {
          "base_uri": "https://localhost:8080/"
        },
        "id": "sSIhXPXKIdmm",
        "outputId": "9502e144-7f0e-4338-f9cf-61aa60ad0acd"
      },
      "execution_count": 33,
      "outputs": [
        {
          "output_type": "stream",
          "name": "stdout",
          "text": [
            "(5562,)\n"
          ]
        }
      ]
    },
    {
      "cell_type": "markdown",
      "source": [
        "Modelling"
      ],
      "metadata": {
        "id": "4Gue-xl_Hjzj"
      }
    },
    {
      "cell_type": "markdown",
      "source": [
        "When we want to use any model, just run that specific modelling cell one, not the other models."
      ],
      "metadata": {
        "id": "S_X_MyAIvlkr"
      }
    },
    {
      "cell_type": "code",
      "source": [
        "# Grid search cross validation\n",
        "from sklearn.model_selection import GridSearchCV\n",
        "from sklearn.linear_model import LogisticRegression\n",
        "\n",
        "logreg = LogisticRegression()\n",
        "\n",
        "parameters = [{'solver': ['newton-cg', 'lbfgs', 'liblinear', 'sag', 'saga']},\n",
        "              {'penalty':['none', 'l2', 'l1', 'elasticnet']},\n",
        "              {'C':[0.001, 0.01, 0.1, 1, 10, 100]}]\n",
        "\n",
        "\n",
        "\n",
        "grid_search = GridSearchCV(estimator = logreg,  \n",
        "                           param_grid = parameters,\n",
        "                           scoring = 'accuracy',\n",
        "                           cv = 5,\n",
        "                           verbose=0)\n",
        "\n",
        "\n",
        "grid_search.fit(x_train, y_train)\n",
        "\n",
        "print(\"tuned hpyerparameters :(best parameters) \",grid_search.best_params_)\n",
        "print(\"accuracy :\",grid_search.best_score_)"
      ],
      "metadata": {
        "colab": {
          "base_uri": "https://localhost:8080/"
        },
        "id": "ll7KcUqkHjjj",
        "outputId": "061c8110-4f08-4945-c411-3c3955ad63d8"
      },
      "execution_count": 34,
      "outputs": [
        {
          "output_type": "stream",
          "name": "stdout",
          "text": [
            "tuned hpyerparameters :(best parameters)  {'solver': 'newton-cg'}\naccuracy : 0.641314711034407\n"
          ]
        }
      ]
    },
    {
      "cell_type": "code",
      "source": [
        "logreg = LogisticRegression(**grid_search.best_params_)\n",
        "logreg.fit(x_train, y_train)\n",
        "logreg"
      ],
      "metadata": {
        "colab": {
          "base_uri": "https://localhost:8080/"
        },
        "id": "WM3WL3jLGM9j",
        "outputId": "cf540ce9-4144-44ad-cce3-3df1c258b5d2"
      },
      "execution_count": 35,
      "outputs": [
        {
          "output_type": "execute_result",
          "data": {
            "text/plain": [
              "LogisticRegression(solver='newton-cg')"
            ]
          },
          "metadata": {},
          "execution_count": 35
        }
      ]
    },
    {
      "cell_type": "markdown",
      "source": [
        "SVM"
      ],
      "metadata": {
        "id": "x9_blX3UPEaf"
      }
    },
    {
      "cell_type": "code",
      "source": [
        "# from sklearn.svm import SVC\n",
        "# # defining parameter range\n",
        "# param_grid = {'C': [0.1, 1, 10, 100, 1000], \n",
        "#               'gamma': [1, 0.1, 0.01, 0.001, 0.0001],\n",
        "#               'kernel': ['rbf']} \n",
        "  \n",
        "# grid = GridSearchCV(SVC(), param_grid, refit = True, verbose = 3)\n",
        "  \n",
        "# # fitting the model for grid search\n",
        "# grid.fit(x_train, y_train)\n",
        "\n",
        "\n",
        "# # print best parameter after tuning\n",
        "# print(grid.best_params_)\n",
        "  \n",
        "# # print how our model looks after hyper-parameter tuning\n",
        "# print(grid.best_estimator_)"
      ],
      "metadata": {
        "colab": {
          "base_uri": "https://localhost:8080/"
        },
        "id": "SUkqVFWIPFQ4",
        "outputId": "a02ee0a5-97a0-40b8-d364-3ffb74cc5e8d"
      },
      "execution_count": 36,
      "outputs": []
    },
    {
      "cell_type": "markdown",
      "source": [
        "KNN"
      ],
      "metadata": {
        "id": "5hePChZxRDy8"
      }
    },
    {
      "cell_type": "code",
      "source": [
        "# from sklearn.neighbors import KNeighborsClassifier\n",
        "\n",
        "# k_range = list(range(1, 31))\n",
        "# print(k_range)\n",
        "\n",
        "# param_grid = dict(n_neighbors=k_range)\n",
        "# print(param_grid)\n",
        "\n",
        "# knn = knn = KNeighborsClassifier()\n",
        "\n",
        "# grid = GridSearchCV(knn, param_grid, cv=10, scoring='accuracy', return_train_score=False)\n",
        "# grid.fit(x_train, y_train)\n",
        "\n",
        "\n",
        "# # print best parameter after tuning\n",
        "# print(grid.best_params_)\n",
        "  \n",
        "# # print how our model looks after hyper-parameter tuning\n",
        "# print(grid.best_estimator_)"
      ],
      "metadata": {
        "colab": {
          "base_uri": "https://localhost:8080/"
        },
        "id": "t0o8BR-IRFBg",
        "outputId": "2a5f7025-f4ae-4703-e944-ba6d9e820888"
      },
      "execution_count": 37,
      "outputs": []
    },
    {
      "cell_type": "markdown",
      "source": [
        "Random Forest"
      ],
      "metadata": {
        "id": "50uiOexkRfhe"
      }
    },
    {
      "cell_type": "code",
      "source": [
        "# Final Model-1: \n",
        "from sklearn.ensemble import RandomForestClassifier\n",
        "rfc=RandomForestClassifier(random_state=42)\n",
        "\n",
        "param_grid = { \n",
        "    'n_estimators': [200, 500],\n",
        "    'max_features': ['auto', 'sqrt', 'log2'],\n",
        "    'max_depth' : [1],\n",
        "    'criterion' :['gini', 'entropy']\n",
        "}\n",
        "\n",
        "grid = GridSearchCV(estimator=rfc, param_grid=param_grid, cv= 5, verbose = 3)\n",
        "grid.fit(x_train, y_train)\n",
        "\n",
        "# print best parameter after tuning\n",
        "print(grid.best_params_)\n",
        "  \n",
        "# print how our model looks after hyper-parameter tuning\n",
        "print(grid.best_estimator_)"
      ],
      "metadata": {
        "colab": {
          "base_uri": "https://localhost:8080/"
        },
        "id": "_ZI0biyYRExG",
        "outputId": "397c846a-ec00-44d8-e830-b5f7eaa36827"
      },
      "execution_count": 38,
      "outputs": [
        {
          "output_type": "stream",
          "name": "stdout",
          "text": [
            "Fitting 5 folds for each of 12 candidates, totalling 60 fits\n",
            "[CV 1/5] END criterion=gini, max_depth=1, max_features=auto, n_estimators=200;, score=0.593 total time=   0.5s\n",
            "[CV 2/5] END criterion=gini, max_depth=1, max_features=auto, n_estimators=200;, score=0.593 total time=   0.5s\n",
            "[CV 3/5] END criterion=gini, max_depth=1, max_features=auto, n_estimators=200;, score=0.594 total time=   0.5s\n",
            "[CV 4/5] END criterion=gini, max_depth=1, max_features=auto, n_estimators=200;, score=0.593 total time=   0.5s\n",
            "[CV 5/5] END criterion=gini, max_depth=1, max_features=auto, n_estimators=200;, score=0.593 total time=   0.5s\n",
            "[CV 1/5] END criterion=gini, max_depth=1, max_features=auto, n_estimators=500;, score=0.593 total time=   1.3s\n",
            "[CV 2/5] END criterion=gini, max_depth=1, max_features=auto, n_estimators=500;, score=0.593 total time=   1.3s\n",
            "[CV 3/5] END criterion=gini, max_depth=1, max_features=auto, n_estimators=500;, score=0.594 total time=   1.3s\n",
            "[CV 4/5] END criterion=gini, max_depth=1, max_features=auto, n_estimators=500;, score=0.593 total time=   1.3s\n",
            "[CV 5/5] END criterion=gini, max_depth=1, max_features=auto, n_estimators=500;, score=0.593 total time=   1.4s\n",
            "[CV 1/5] END criterion=gini, max_depth=1, max_features=sqrt, n_estimators=200;, score=0.593 total time=   0.5s\n",
            "[CV 2/5] END criterion=gini, max_depth=1, max_features=sqrt, n_estimators=200;, score=0.593 total time=   0.5s\n",
            "[CV 3/5] END criterion=gini, max_depth=1, max_features=sqrt, n_estimators=200;, score=0.594 total time=   0.5s\n",
            "[CV 4/5] END criterion=gini, max_depth=1, max_features=sqrt, n_estimators=200;, score=0.593 total time=   0.5s\n",
            "[CV 5/5] END criterion=gini, max_depth=1, max_features=sqrt, n_estimators=200;, score=0.593 total time=   0.5s\n",
            "[CV 1/5] END criterion=gini, max_depth=1, max_features=sqrt, n_estimators=500;, score=0.593 total time=   1.3s\n",
            "[CV 2/5] END criterion=gini, max_depth=1, max_features=sqrt, n_estimators=500;, score=0.593 total time=   1.3s\n",
            "[CV 3/5] END criterion=gini, max_depth=1, max_features=sqrt, n_estimators=500;, score=0.594 total time=   1.3s\n",
            "[CV 4/5] END criterion=gini, max_depth=1, max_features=sqrt, n_estimators=500;, score=0.593 total time=   1.3s\n",
            "[CV 5/5] END criterion=gini, max_depth=1, max_features=sqrt, n_estimators=500;, score=0.593 total time=   1.3s\n",
            "[CV 1/5] END criterion=gini, max_depth=1, max_features=log2, n_estimators=200;, score=0.593 total time=   0.5s\n",
            "[CV 2/5] END criterion=gini, max_depth=1, max_features=log2, n_estimators=200;, score=0.593 total time=   0.5s\n",
            "[CV 3/5] END criterion=gini, max_depth=1, max_features=log2, n_estimators=200;, score=0.594 total time=   0.5s\n",
            "[CV 4/5] END criterion=gini, max_depth=1, max_features=log2, n_estimators=200;, score=0.593 total time=   0.5s\n",
            "[CV 5/5] END criterion=gini, max_depth=1, max_features=log2, n_estimators=200;, score=0.593 total time=   0.5s\n",
            "[CV 1/5] END criterion=gini, max_depth=1, max_features=log2, n_estimators=500;, score=0.593 total time=   1.3s\n",
            "[CV 2/5] END criterion=gini, max_depth=1, max_features=log2, n_estimators=500;, score=0.593 total time=   1.4s\n",
            "[CV 3/5] END criterion=gini, max_depth=1, max_features=log2, n_estimators=500;, score=0.594 total time=   1.4s\n",
            "[CV 4/5] END criterion=gini, max_depth=1, max_features=log2, n_estimators=500;, score=0.593 total time=   1.3s\n",
            "[CV 5/5] END criterion=gini, max_depth=1, max_features=log2, n_estimators=500;, score=0.593 total time=   1.3s\n",
            "[CV 1/5] END criterion=entropy, max_depth=1, max_features=auto, n_estimators=200;, score=0.593 total time=   0.6s\n",
            "[CV 2/5] END criterion=entropy, max_depth=1, max_features=auto, n_estimators=200;, score=0.593 total time=   0.6s\n",
            "[CV 3/5] END criterion=entropy, max_depth=1, max_features=auto, n_estimators=200;, score=0.594 total time=   0.5s\n",
            "[CV 4/5] END criterion=entropy, max_depth=1, max_features=auto, n_estimators=200;, score=0.593 total time=   0.6s\n",
            "[CV 5/5] END criterion=entropy, max_depth=1, max_features=auto, n_estimators=200;, score=0.593 total time=   0.5s\n",
            "[CV 1/5] END criterion=entropy, max_depth=1, max_features=auto, n_estimators=500;, score=0.593 total time=   1.3s\n",
            "[CV 2/5] END criterion=entropy, max_depth=1, max_features=auto, n_estimators=500;, score=0.593 total time=   1.3s\n",
            "[CV 3/5] END criterion=entropy, max_depth=1, max_features=auto, n_estimators=500;, score=0.594 total time=   1.3s\n",
            "[CV 4/5] END criterion=entropy, max_depth=1, max_features=auto, n_estimators=500;, score=0.593 total time=   1.3s\n",
            "[CV 5/5] END criterion=entropy, max_depth=1, max_features=auto, n_estimators=500;, score=0.593 total time=   1.3s\n",
            "[CV 1/5] END criterion=entropy, max_depth=1, max_features=sqrt, n_estimators=200;, score=0.593 total time=   0.5s\n",
            "[CV 2/5] END criterion=entropy, max_depth=1, max_features=sqrt, n_estimators=200;, score=0.593 total time=   0.5s\n",
            "[CV 3/5] END criterion=entropy, max_depth=1, max_features=sqrt, n_estimators=200;, score=0.594 total time=   0.5s\n",
            "[CV 4/5] END criterion=entropy, max_depth=1, max_features=sqrt, n_estimators=200;, score=0.593 total time=   0.5s\n",
            "[CV 5/5] END criterion=entropy, max_depth=1, max_features=sqrt, n_estimators=200;, score=0.593 total time=   0.6s\n",
            "[CV 1/5] END criterion=entropy, max_depth=1, max_features=sqrt, n_estimators=500;, score=0.593 total time=   1.4s\n",
            "[CV 2/5] END criterion=entropy, max_depth=1, max_features=sqrt, n_estimators=500;, score=0.593 total time=   1.3s\n",
            "[CV 3/5] END criterion=entropy, max_depth=1, max_features=sqrt, n_estimators=500;, score=0.594 total time=   1.3s\n",
            "[CV 4/5] END criterion=entropy, max_depth=1, max_features=sqrt, n_estimators=500;, score=0.593 total time=   1.3s\n",
            "[CV 5/5] END criterion=entropy, max_depth=1, max_features=sqrt, n_estimators=500;, score=0.593 total time=   1.3s\n",
            "[CV 1/5] END criterion=entropy, max_depth=1, max_features=log2, n_estimators=200;, score=0.593 total time=   0.5s\n",
            "[CV 2/5] END criterion=entropy, max_depth=1, max_features=log2, n_estimators=200;, score=0.593 total time=   0.5s\n",
            "[CV 3/5] END criterion=entropy, max_depth=1, max_features=log2, n_estimators=200;, score=0.594 total time=   0.5s\n",
            "[CV 4/5] END criterion=entropy, max_depth=1, max_features=log2, n_estimators=200;, score=0.593 total time=   0.5s\n",
            "[CV 5/5] END criterion=entropy, max_depth=1, max_features=log2, n_estimators=200;, score=0.593 total time=   0.5s\n",
            "[CV 1/5] END criterion=entropy, max_depth=1, max_features=log2, n_estimators=500;, score=0.593 total time=   1.3s\n",
            "[CV 2/5] END criterion=entropy, max_depth=1, max_features=log2, n_estimators=500;, score=0.593 total time=   1.2s\n",
            "[CV 3/5] END criterion=entropy, max_depth=1, max_features=log2, n_estimators=500;, score=0.594 total time=   1.3s\n",
            "[CV 4/5] END criterion=entropy, max_depth=1, max_features=log2, n_estimators=500;, score=0.593 total time=   1.3s\n",
            "[CV 5/5] END criterion=entropy, max_depth=1, max_features=log2, n_estimators=500;, score=0.593 total time=   1.4s\n",
            "{'criterion': 'gini', 'max_depth': 1, 'max_features': 'auto', 'n_estimators': 200}\n",
            "RandomForestClassifier(max_depth=1, n_estimators=200, random_state=42)\n"
          ]
        }
      ]
    },
    {
      "cell_type": "code",
      "source": [
        "# Final Model-1: \n",
        "from sklearn.ensemble import RandomForestClassifier\n",
        "# rfc=RandomForestClassifier(**{'criterion': 'gini', 'max_depth': 8, 'max_features': 'auto', 'n_estimators': 500}, random_state=42)\n",
        "\n",
        "rfc = RandomForestClassifier(max_depth=1, n_estimators=200, random_state=42)\n",
        "\n",
        "rfc.fit(x_train, y_train)"
      ],
      "metadata": {
        "colab": {
          "base_uri": "https://localhost:8080/"
        },
        "id": "mjMz9tJmxH8L",
        "outputId": "e0bf1408-9d33-425c-b7c5-dba2a115578d"
      },
      "execution_count": 41,
      "outputs": [
        {
          "output_type": "execute_result",
          "data": {
            "text/plain": [
              "RandomForestClassifier(max_depth=1, n_estimators=200, random_state=42)"
            ]
          },
          "metadata": {},
          "execution_count": 41
        }
      ]
    },
    {
      "cell_type": "markdown",
      "source": [
        "Naive Bayes"
      ],
      "metadata": {
        "id": "IPxHn5wiStTO"
      }
    },
    {
      "cell_type": "code",
      "source": [
        "from sklearn.naive_bayes import GaussianNB, MultinomialNB, BernoulliNB"
      ],
      "metadata": {
        "id": "elMmgL1CS7je"
      },
      "execution_count": 40,
      "outputs": []
    },
    {
      "cell_type": "markdown",
      "source": [
        "Decision Tree"
      ],
      "metadata": {
        "id": "mXA80nVERiVh"
      }
    },
    {
      "cell_type": "code",
      "source": [
        "# Final Model-2\n",
        "from sklearn.model_selection import GridSearchCV\n",
        "from lightgbm import LGBMClassifier\n",
        "from xgboost import XGBClassifier\n",
        "from sklearn.tree import DecisionTreeClassifier\n",
        "\n",
        "param_grid = {'max_features': ['auto', 'sqrt', 'log2'],\n",
        "              'ccp_alpha': [0.1, .01, .001],\n",
        "              'max_depth' : [5, 6, 7, 8, 9],\n",
        "              'criterion' :['gini', 'entropy']\n",
        "             }\n",
        "tree_clas = DecisionTreeClassifier(random_state=1024)\n",
        "grid = GridSearchCV(estimator=tree_clas, param_grid=param_grid, cv=5, verbose=True)\n",
        "grid.fit(x_train, y_train)\n",
        "\n",
        "# print best parameter after tuning\n",
        "print(grid.best_params_)\n",
        "  \n",
        "# print how our model looks after hyper-parameter tuning\n",
        "print(grid.best_estimator_)"
      ],
      "metadata": {
        "colab": {
          "base_uri": "https://localhost:8080/"
        },
        "id": "3uODwaziRiIZ",
        "outputId": "81001ee5-f1f5-45b5-f615-6836325b3796"
      },
      "execution_count": 43,
      "outputs": [
        {
          "output_type": "stream",
          "name": "stdout",
          "text": [
            "Fitting 5 folds for each of 90 candidates, totalling 450 fits\n",
            "{'ccp_alpha': 0.001, 'criterion': 'entropy', 'max_depth': 8, 'max_features': 'auto'}\n",
            "DecisionTreeClassifier(ccp_alpha=0.001, criterion='entropy', max_depth=8,\n",
            "                       max_features='auto', random_state=1024)\n"
          ]
        }
      ]
    },
    {
      "cell_type": "markdown",
      "source": [
        "**Submission File**"
      ],
      "metadata": {
        "id": "uA5J3jFRL5DC"
      }
    },
    {
      "cell_type": "code",
      "source": [
        "test_df.info()"
      ],
      "metadata": {
        "colab": {
          "base_uri": "https://localhost:8080/"
        },
        "id": "efb06ZCoL3iO",
        "outputId": "b0c24cf8-48fe-4cb9-b964-1db57c17f6a1"
      },
      "execution_count": 42,
      "outputs": [
        {
          "output_type": "stream",
          "name": "stdout",
          "text": [
            "<class 'pandas.core.frame.DataFrame'>\nRangeIndex: 2475 entries, 0 to 2474\nData columns (total 10 columns):\n #   Column                  Non-Null Count  Dtype  \n---  ------                  --------------  -----  \n 0   ID                      2475 non-null   int64  \n 1   Location                2475 non-null   object \n 2   Mode_of_delivery        2475 non-null   object \n 3   Calls_to_customer_care  2475 non-null   int64  \n 4   Rating_of_customer      1867 non-null   float64\n 5   Cost_of_food            2475 non-null   float64\n 6   Prior_purchases         2098 non-null   float64\n 7   Gender_of_customer      2475 non-null   object \n 8   Discount_offered        2475 non-null   int64  \n 9   Weight_of_food_in_gms   2475 non-null   int64  \ndtypes: float64(3), int64(4), object(3)\nmemory usage: 193.5+ KB\n"
          ]
        }
      ]
    },
    {
      "cell_type": "code",
      "source": [
        "test_df[['Rating_of_customer', 'Prior_purchases']] = test_df[['Rating_of_customer', 'Prior_purchases']].fillna(missing_cols_matadata)"
      ],
      "metadata": {
        "id": "xR3Yv9J9NJgZ"
      },
      "execution_count": 44,
      "outputs": []
    },
    {
      "cell_type": "code",
      "source": [
        "test_df.info()"
      ],
      "metadata": {
        "colab": {
          "base_uri": "https://localhost:8080/"
        },
        "id": "K1N0MFVlNNRY",
        "outputId": "e1ad5ead-f396-42bc-9061-2b426541ac70"
      },
      "execution_count": 45,
      "outputs": [
        {
          "output_type": "stream",
          "name": "stdout",
          "text": [
            "<class 'pandas.core.frame.DataFrame'>\nRangeIndex: 2475 entries, 0 to 2474\nData columns (total 10 columns):\n #   Column                  Non-Null Count  Dtype  \n---  ------                  --------------  -----  \n 0   ID                      2475 non-null   int64  \n 1   Location                2475 non-null   object \n 2   Mode_of_delivery        2475 non-null   object \n 3   Calls_to_customer_care  2475 non-null   int64  \n 4   Rating_of_customer      2475 non-null   float64\n 5   Cost_of_food            2475 non-null   float64\n 6   Prior_purchases         2475 non-null   float64\n 7   Gender_of_customer      2475 non-null   object \n 8   Discount_offered        2475 non-null   int64  \n 9   Weight_of_food_in_gms   2475 non-null   int64  \ndtypes: float64(3), int64(4), object(3)\nmemory usage: 193.5+ KB\n"
          ]
        }
      ]
    },
    {
      "cell_type": "code",
      "source": [
        "print(cat_cols)\n",
        "print(num_feat)"
      ],
      "metadata": {
        "colab": {
          "base_uri": "https://localhost:8080/"
        },
        "id": "udOYtUEJMvtg",
        "outputId": "beff0f9a-55d4-4149-ac77-f4dfadb32ca7"
      },
      "execution_count": 46,
      "outputs": [
        {
          "output_type": "stream",
          "name": "stdout",
          "text": [
            "['Location', 'Gender_of_customer']\n['Mode_of_delivery', 'Calls_to_customer_care', 'Rating_of_customer', 'Cost_of_food', 'Prior_purchases', 'Discount_offered', 'Weight_of_food_in_gms']\n"
          ]
        }
      ]
    },
    {
      "cell_type": "code",
      "source": [
        "test_df['Mode_of_delivery'] = test_df.Mode_of_delivery.replace({'Bike': 3, 'Auto':2, 'Car':1}) \n",
        "test_df['Mode_of_delivery'].value_counts()"
      ],
      "metadata": {
        "colab": {
          "base_uri": "https://localhost:8080/"
        },
        "id": "YGg0sJv8NU7U",
        "outputId": "cd04f205-c587-4d98-dbcd-a35fc1a90212"
      },
      "execution_count": 47,
      "outputs": [
        {
          "output_type": "execute_result",
          "data": {
            "text/plain": [
              "3    1664\n",
              "2     412\n",
              "1     399\n",
              "Name: Mode_of_delivery, dtype: int64"
            ]
          },
          "metadata": {},
          "execution_count": 47
        }
      ]
    },
    {
      "cell_type": "code",
      "source": [
        "test_df[num_feat] = ss.transform(test_df[num_feat])"
      ],
      "metadata": {
        "id": "00eYNG_FM0tI"
      },
      "execution_count": 48,
      "outputs": []
    },
    {
      "cell_type": "code",
      "source": [
        "cat_feat_test = enc.transform(test_df[cat_cols]).toarray()\n",
        "print(cat_feat_test)\n",
        "\n",
        "cat_df_test = pd.DataFrame(cat_feat_test)\n",
        "print(cat_df_test.shape)\n",
        "cat_df_test.head(1)"
      ],
      "metadata": {
        "colab": {
          "base_uri": "https://localhost:8080/",
          "height": 224
        },
        "id": "_fPWQb2jNaMm",
        "outputId": "f7e905e0-3aed-485d-a42d-543a9603027b"
      },
      "execution_count": 49,
      "outputs": [
        {
          "output_type": "stream",
          "name": "stdout",
          "text": [
            "[[0. 0. 0. 0. 0.]\n [0. 1. 0. 0. 1.]\n [1. 0. 0. 0. 0.]\n ...\n [0. 1. 0. 0. 0.]\n [0. 1. 0. 0. 0.]\n [0. 0. 0. 0. 0.]]\n(2475, 5)\n"
          ]
        },
        {
          "output_type": "execute_result",
          "data": {
            "text/plain": [
              "     0    1    2    3    4\n",
              "0  0.0  0.0  0.0  0.0  0.0"
            ],
            "text/html": "<div>\n<style scoped>\n    .dataframe tbody tr th:only-of-type {\n        vertical-align: middle;\n    }\n\n    .dataframe tbody tr th {\n        vertical-align: top;\n    }\n\n    .dataframe thead th {\n        text-align: right;\n    }\n</style>\n<table border=\"1\" class=\"dataframe\">\n  <thead>\n    <tr style=\"text-align: right;\">\n      <th></th>\n      <th>0</th>\n      <th>1</th>\n      <th>2</th>\n      <th>3</th>\n      <th>4</th>\n    </tr>\n  </thead>\n  <tbody>\n    <tr>\n      <th>0</th>\n      <td>0.0</td>\n      <td>0.0</td>\n      <td>0.0</td>\n      <td>0.0</td>\n      <td>0.0</td>\n    </tr>\n  </tbody>\n</table>\n</div>"
          },
          "metadata": {},
          "execution_count": 49
        }
      ]
    },
    {
      "cell_type": "code",
      "source": [
        "print(test_df[num_feat].shape, cat_df_test.shape)\n",
        "x_test = pd.concat([test_df[num_feat].reset_index(drop=True), cat_df_test.reset_index(drop=True)], axis=1)\n",
        "print(x_test.shape)\n",
        "x_test.head(1)"
      ],
      "metadata": {
        "colab": {
          "base_uri": "https://localhost:8080/",
          "height": 180
        },
        "id": "mj-6a8eNNp1A",
        "outputId": "38bb2a16-b096-4729-8a54-3f3ccf1a5d97"
      },
      "execution_count": 50,
      "outputs": [
        {
          "output_type": "stream",
          "name": "stdout",
          "text": [
            "(2475, 7) (2475, 5)\n(2475, 12)\n"
          ]
        },
        {
          "output_type": "execute_result",
          "data": {
            "text/plain": [
              "   Mode_of_delivery  Calls_to_customer_care  Rating_of_customer  Cost_of_food  \\\n",
              "0          -0.68105               -0.040849           -0.837998     -0.700761   \n",
              "\n",
              "   Prior_purchases  Discount_offered  Weight_of_food_in_gms    0    1    2  \\\n",
              "0        -0.312937          2.006269               -1.47797  0.0  0.0  0.0   \n",
              "\n",
              "     3    4  \n",
              "0  0.0  0.0  "
            ],
            "text/html": "<div>\n<style scoped>\n    .dataframe tbody tr th:only-of-type {\n        vertical-align: middle;\n    }\n\n    .dataframe tbody tr th {\n        vertical-align: top;\n    }\n\n    .dataframe thead th {\n        text-align: right;\n    }\n</style>\n<table border=\"1\" class=\"dataframe\">\n  <thead>\n    <tr style=\"text-align: right;\">\n      <th></th>\n      <th>Mode_of_delivery</th>\n      <th>Calls_to_customer_care</th>\n      <th>Rating_of_customer</th>\n      <th>Cost_of_food</th>\n      <th>Prior_purchases</th>\n      <th>Discount_offered</th>\n      <th>Weight_of_food_in_gms</th>\n      <th>0</th>\n      <th>1</th>\n      <th>2</th>\n      <th>3</th>\n      <th>4</th>\n    </tr>\n  </thead>\n  <tbody>\n    <tr>\n      <th>0</th>\n      <td>-0.68105</td>\n      <td>-0.040849</td>\n      <td>-0.837998</td>\n      <td>-0.700761</td>\n      <td>-0.312937</td>\n      <td>2.006269</td>\n      <td>-1.47797</td>\n      <td>0.0</td>\n      <td>0.0</td>\n      <td>0.0</td>\n      <td>0.0</td>\n      <td>0.0</td>\n    </tr>\n  </tbody>\n</table>\n</div>"
          },
          "metadata": {},
          "execution_count": 50
        }
      ]
    },
    {
      "cell_type": "code",
      "source": [
        "test_df['Reached_on_time'] = rfc.predict(x_test).astype('int')\n",
        "test_df.head(2)"
      ],
      "metadata": {
        "colab": {
          "base_uri": "https://localhost:8080/",
          "height": 176
        },
        "id": "K8vVIKHcN22D",
        "outputId": "e4fe7968-a5ad-4786-86a2-1565dcb37aa3"
      },
      "execution_count": 51,
      "outputs": [
        {
          "output_type": "execute_result",
          "data": {
            "text/plain": [
              "   ID    Location  Mode_of_delivery  Calls_to_customer_care  \\\n",
              "0   1  Gachibowli          -0.68105               -0.040849   \n",
              "1   4  Khairtabad          -0.68105               -0.921481   \n",
              "\n",
              "   Rating_of_customer  Cost_of_food  Prior_purchases Gender_of_customer  \\\n",
              "0           -0.837998     -0.700761        -0.312937                  F   \n",
              "1           -0.013781     -0.721691         0.594075                  M   \n",
              "\n",
              "   Discount_offered  Weight_of_food_in_gms  Reached_on_time  \n",
              "0          2.006269              -1.477970                1  \n",
              "1         -0.188757              -1.512225                1  "
            ],
            "text/html": "<div>\n<style scoped>\n    .dataframe tbody tr th:only-of-type {\n        vertical-align: middle;\n    }\n\n    .dataframe tbody tr th {\n        vertical-align: top;\n    }\n\n    .dataframe thead th {\n        text-align: right;\n    }\n</style>\n<table border=\"1\" class=\"dataframe\">\n  <thead>\n    <tr style=\"text-align: right;\">\n      <th></th>\n      <th>ID</th>\n      <th>Location</th>\n      <th>Mode_of_delivery</th>\n      <th>Calls_to_customer_care</th>\n      <th>Rating_of_customer</th>\n      <th>Cost_of_food</th>\n      <th>Prior_purchases</th>\n      <th>Gender_of_customer</th>\n      <th>Discount_offered</th>\n      <th>Weight_of_food_in_gms</th>\n      <th>Reached_on_time</th>\n    </tr>\n  </thead>\n  <tbody>\n    <tr>\n      <th>0</th>\n      <td>1</td>\n      <td>Gachibowli</td>\n      <td>-0.68105</td>\n      <td>-0.040849</td>\n      <td>-0.837998</td>\n      <td>-0.700761</td>\n      <td>-0.312937</td>\n      <td>F</td>\n      <td>2.006269</td>\n      <td>-1.477970</td>\n      <td>1</td>\n    </tr>\n    <tr>\n      <th>1</th>\n      <td>4</td>\n      <td>Khairtabad</td>\n      <td>-0.68105</td>\n      <td>-0.921481</td>\n      <td>-0.013781</td>\n      <td>-0.721691</td>\n      <td>0.594075</td>\n      <td>M</td>\n      <td>-0.188757</td>\n      <td>-1.512225</td>\n      <td>1</td>\n    </tr>\n  </tbody>\n</table>\n</div>"
          },
          "metadata": {},
          "execution_count": 51
        }
      ]
    },
    {
      "cell_type": "code",
      "execution_count": 55,
      "metadata": {},
      "outputs": [
        {
          "output_type": "execute_result",
          "data": {
            "text/plain": [
              "   ID  Reached_on_time\n",
              "0   1                1\n",
              "1   4                1\n",
              "2   6                1\n",
              "3   8                1\n",
              "4  10                1"
            ],
            "text/html": "<div>\n<style scoped>\n    .dataframe tbody tr th:only-of-type {\n        vertical-align: middle;\n    }\n\n    .dataframe tbody tr th {\n        vertical-align: top;\n    }\n\n    .dataframe thead th {\n        text-align: right;\n    }\n</style>\n<table border=\"1\" class=\"dataframe\">\n  <thead>\n    <tr style=\"text-align: right;\">\n      <th></th>\n      <th>ID</th>\n      <th>Reached_on_time</th>\n    </tr>\n  </thead>\n  <tbody>\n    <tr>\n      <th>0</th>\n      <td>1</td>\n      <td>1</td>\n    </tr>\n    <tr>\n      <th>1</th>\n      <td>4</td>\n      <td>1</td>\n    </tr>\n    <tr>\n      <th>2</th>\n      <td>6</td>\n      <td>1</td>\n    </tr>\n    <tr>\n      <th>3</th>\n      <td>8</td>\n      <td>1</td>\n    </tr>\n    <tr>\n      <th>4</th>\n      <td>10</td>\n      <td>1</td>\n    </tr>\n  </tbody>\n</table>\n</div>"
          },
          "metadata": {},
          "execution_count": 55
        }
      ],
      "source": [
        "soln_df = pd.read_csv(\"data/zion_solution.csv\")\n",
        "soln_df.head()"
      ]
    },
    {
      "cell_type": "code",
      "execution_count": 56,
      "metadata": {},
      "outputs": [
        {
          "output_type": "execute_result",
          "data": {
            "text/plain": [
              "   ID  Reached_on_time_pred  Reached_on_time\n",
              "0   1                     1                1\n",
              "1   4                     1                1\n",
              "2   6                     1                1\n",
              "3   8                     1                1\n",
              "4  10                     1                1"
            ],
            "text/html": "<div>\n<style scoped>\n    .dataframe tbody tr th:only-of-type {\n        vertical-align: middle;\n    }\n\n    .dataframe tbody tr th {\n        vertical-align: top;\n    }\n\n    .dataframe thead th {\n        text-align: right;\n    }\n</style>\n<table border=\"1\" class=\"dataframe\">\n  <thead>\n    <tr style=\"text-align: right;\">\n      <th></th>\n      <th>ID</th>\n      <th>Reached_on_time_pred</th>\n      <th>Reached_on_time</th>\n    </tr>\n  </thead>\n  <tbody>\n    <tr>\n      <th>0</th>\n      <td>1</td>\n      <td>1</td>\n      <td>1</td>\n    </tr>\n    <tr>\n      <th>1</th>\n      <td>4</td>\n      <td>1</td>\n      <td>1</td>\n    </tr>\n    <tr>\n      <th>2</th>\n      <td>6</td>\n      <td>1</td>\n      <td>1</td>\n    </tr>\n    <tr>\n      <th>3</th>\n      <td>8</td>\n      <td>1</td>\n      <td>1</td>\n    </tr>\n    <tr>\n      <th>4</th>\n      <td>10</td>\n      <td>1</td>\n      <td>1</td>\n    </tr>\n  </tbody>\n</table>\n</div>"
          },
          "metadata": {},
          "execution_count": 56
        }
      ],
      "source": [
        "mdf = pd.merge(test_df[['ID', 'Reached_on_time']].rename(columns={\"Reached_on_time\": \"Reached_on_time_pred\"}), soln_df, on='ID', how='left')\n",
        "mdf.head()"
      ]
    },
    {
      "cell_type": "code",
      "execution_count": 58,
      "metadata": {},
      "outputs": [
        {
          "output_type": "stream",
          "name": "stdout",
          "text": [
            "              precision    recall  f1-score   support\n\n           0       0.00      0.00      0.00      1003\n           1       0.59      1.00      0.75      1472\n\n    accuracy                           0.59      2475\n   macro avg       0.30      0.50      0.37      2475\nweighted avg       0.35      0.59      0.44      2475\n\n"
          ]
        }
      ],
      "source": [
        "from sklearn.metrics import classification_report\n",
        "print(classification_report(mdf.Reached_on_time, mdf.Reached_on_time_pred))"
      ]
    },
    {
      "cell_type": "code",
      "execution_count": 67,
      "metadata": {},
      "outputs": [],
      "source": [
        "# x_train.head()\n",
        "# x_train.to_csv(\"x_train.csv\", index=False)\n",
        "\n",
        "# y_train.head()\n",
        "# y_train.to_csv(\"y_train.csv\", index=False)\n",
        "\n",
        "# x_test.head()\n",
        "# x_test.to_csv(\"x_test.csv\", index=False)\n",
        "\n",
        "y_test = mdf.Reached_on_time.copy()\n",
        "y_test.head()\n",
        "y_test.to_csv(\"y_test.csv\", index=False)\n"
      ]
    },
    {
      "cell_type": "code",
      "execution_count": 66,
      "metadata": {},
      "outputs": [
        {
          "output_type": "execute_result",
          "data": {
            "text/plain": [
              "1    1472\n",
              "0    1003\n",
              "Name: Reached_on_time, dtype: int64"
            ]
          },
          "metadata": {},
          "execution_count": 66
        }
      ],
      "source": [
        "y_test.value_counts()"
      ]
    },
    {
      "cell_type": "code",
      "source": [
        "# test_df[['ID', 'Reached_on_time']].to_csv(\"submission_rf.csv\", index=False)"
      ],
      "metadata": {
        "id": "F-cWrzmIOSRy"
      },
      "execution_count": 53,
      "outputs": []
    },
    {
      "cell_type": "markdown",
      "source": [
        "**Solution Document**"
      ],
      "metadata": {
        "id": "3XH_CFKLnM8Y"
      }
    },
    {
      "cell_type": "markdown",
      "source": [
        "**Why did I choose the Random Forest model as Final Model?**\n",
        "- I was getting best cross-validation score and public leader board score, so I chose this model becase it has least generalisation error among the tried models. \n",
        "- Random Forest reduced variance from Decision Tree Model which makes it more robust. \n",
        "- Logistic regression model was the baseline model and other models were not performing very well on leaderboard."
      ],
      "metadata": {
        "id": "sNjH_gjYvK96"
      }
    },
    {
      "cell_type": "markdown",
      "source": [
        "**Suggestions to Zion Restaurants:**"
      ],
      "metadata": {
        "id": "oRLpd2mFwgkg"
      }
    },
    {
      "cell_type": "code",
      "source": [
        "from sklearn.tree import _tree\n",
        "\n",
        "def tree_to_code(tree, feature_names):\n",
        "    tree_ = tree.tree_\n",
        "    feature_name = [\n",
        "        feature_names[i] if i != _tree.TREE_UNDEFINED else \"undefined!\"\n",
        "        for i in tree_.feature\n",
        "    ]\n",
        "    print(\"def tree({}):\".format(\", \".join(feature_names)))\n",
        "\n",
        "    def recurse(node, depth):\n",
        "        indent = \"  \" * depth\n",
        "        if tree_.feature[node] != _tree.TREE_UNDEFINED:\n",
        "            name = feature_name[node]\n",
        "            threshold = tree_.threshold[node]\n",
        "            print(\"{}if {} <= {}:\".format(indent, name, threshold))\n",
        "            recurse(tree_.children_left[node], depth + 1)\n",
        "            print(\"{}else:  # if {} > {}\".format(indent, name, threshold))\n",
        "            recurse(tree_.children_right[node], depth + 1)\n",
        "        else:\n",
        "            print(\"{}return {}\".format(indent, tree_.value[node]))\n",
        "\n",
        "    recurse(0, 1)\n",
        "\n",
        "dt = DecisionTreeClassifier(ccp_alpha=0.001, criterion='entropy', max_depth=8,\n",
        "                       max_features='auto', random_state=1024)\n",
        "\n",
        "\n",
        "train_df_exp = train_df.copy()\n",
        "train_df_exp[num_feat] = ss.inverse_transform(train_df_exp[num_feat])\n",
        "x_train_exp = pd.concat([train_df_exp[num_feat].reset_index(drop=True), cat_df.reset_index(drop=True)], axis=1)\n",
        "x_train_exp = x_train_exp.rename({0: 'Gachibowli', 1:'Secunderabad', 2:'Masab Tank', 3:'Khairtabad', 4:'Female'}, axis=1)\n",
        "\n",
        "dt.fit(x_train_exp, y_train)\n",
        "tree_to_code(dt, x_train_exp.columns)"
      ],
      "metadata": {
        "id": "KBQE6glLRh__",
        "colab": {
          "base_uri": "https://localhost:8080/"
        },
        "outputId": "ab35214e-f6de-43dc-aab9-27e99a1355ca"
      },
      "execution_count": null,
      "outputs": [
        {
          "output_type": "stream",
          "name": "stdout",
          "text": [
            "def tree(Mode_of_delivery, Calls_to_customer_care, Rating_of_customer, Cost_of_food, Prior_purchases, Discount_offered, Weight_of_food_in_gms, Gachibowli, Secunderabad, Masab Tank, Khairtabad, Female):\n",
            "  if Discount_offered <= 10.5:\n",
            "    if Prior_purchases <= 2.5:\n",
            "      if Rating_of_customer <= 3.5:\n",
            "        if Weight_of_food_in_gms <= 4025.0:\n",
            "          return [[23. 78.]]\n",
            "        else:  # if Weight_of_food_in_gms > 4025.0\n",
            "          return [[428. 289.]]\n",
            "      else:  # if Rating_of_customer > 3.5\n",
            "        return [[193. 140.]]\n",
            "    else:  # if Prior_purchases > 2.5\n",
            "      if Weight_of_food_in_gms <= 4018.5:\n",
            "        if Discount_offered <= 5.5:\n",
            "          if Weight_of_food_in_gms <= 1987.0:\n",
            "            if Calls_to_customer_care <= 3.5:\n",
            "              if Cost_of_food <= 264.75:\n",
            "                return [[ 4. 30.]]\n",
            "              else:  # if Cost_of_food > 264.75\n",
            "                return [[12.  6.]]\n",
            "            else:  # if Calls_to_customer_care > 3.5\n",
            "              return [[327. 346.]]\n",
            "          else:  # if Weight_of_food_in_gms > 1987.0\n",
            "            if Weight_of_food_in_gms <= 3999.0:\n",
            "              return [[ 1. 83.]]\n",
            "            else:  # if Weight_of_food_in_gms > 3999.0\n",
            "              return [[8. 8.]]\n",
            "        else:  # if Discount_offered > 5.5\n",
            "          if Cost_of_food <= 321.0:\n",
            "            return [[ 16. 105.]]\n",
            "          else:  # if Cost_of_food > 321.0\n",
            "            if Weight_of_food_in_gms <= 2063.0:\n",
            "              return [[372. 306.]]\n",
            "            else:  # if Weight_of_food_in_gms > 2063.0\n",
            "              return [[ 2. 42.]]\n",
            "      else:  # if Weight_of_food_in_gms > 4018.5\n",
            "        return [[1860. 1415.]]\n",
            "  else:  # if Discount_offered > 10.5\n",
            "    return [[   0. 1849.]]\n"
          ]
        }
      ]
    },
    {
      "cell_type": "markdown",
      "source": [
        "```python\n",
        "def tree(Mode_of_delivery, Calls_to_customer_care, Rating_of_customer, Cost_of_food, Prior_purchases, Discount_offered, Weight_of_food_in_gms, Gachibowli, Secunderabad, Masab Tank, Khairtabad, Female):\n",
        "  if Discount_offered <= 10.5:\n",
        "    if Prior_purchases <= 2.5:\n",
        "      if Rating_of_customer <= 3.5:\n",
        "        if Weight_of_food_in_gms <= 4025.0:\n",
        "          return [[23. 78.]]\n",
        "        else:  # if Weight_of_food_in_gms > 4025.0\n",
        "          return [[428. 289.]]\n",
        "      else:  # if Rating_of_customer > 3.5\n",
        "        return [[193. 140.]]\n",
        "    else:  # if Prior_purchases > 2.5\n",
        "      if Weight_of_food_in_gms <= 4018.5:\n",
        "        if Discount_offered <= 5.5:\n",
        "          if Weight_of_food_in_gms <= 1987.0:\n",
        "            if Calls_to_customer_care <= 3.5:\n",
        "              if Cost_of_food <= 264.75:\n",
        "                return [[ 4. 30.]]\n",
        "              else:  # if Cost_of_food > 264.75\n",
        "                return [[12.  6.]]\n",
        "            else:  # if Calls_to_customer_care > 3.5\n",
        "              return [[327. 346.]]\n",
        "          else:  # if Weight_of_food_in_gms > 1987.0\n",
        "            if Weight_of_food_in_gms <= 3999.0:\n",
        "              return [[ 1. 83.]]\n",
        "            else:  # if Weight_of_food_in_gms > 3999.0\n",
        "              return [[8. 8.]]\n",
        "        else:  # if Discount_offered > 5.5\n",
        "          if Cost_of_food <= 321.0:\n",
        "            return [[ 16. 105.]]\n",
        "          else:  # if Cost_of_food > 321.0\n",
        "            if Weight_of_food_in_gms <= 2063.0:\n",
        "              return [[372. 306.]]\n",
        "            else:  # if Weight_of_food_in_gms > 2063.0\n",
        "              return [[ 2. 42.]]\n",
        "      else:  # if Weight_of_food_in_gms > 4018.5\n",
        "        return [[1860. 1415.]]\n",
        "  else:  # if Discount_offered > 10.5\n",
        "    return [[   0. 1849.]]\n",
        "```"
      ],
      "metadata": {
        "id": "KS16d5Cl0ydl"
      }
    },
    {
      "cell_type": "markdown",
      "source": [
        "**Restaurant can use above rules to find out when they can deliver on time and what parameters they can tweak to give maximum on-time delivery**"
      ],
      "metadata": {
        "id": "pJ1dwoYG04iZ"
      }
    },
    {
      "cell_type": "code",
      "source": [],
      "metadata": {
        "id": "cLTS5tCO0yIh"
      },
      "execution_count": null,
      "outputs": []
    },
    {
      "cell_type": "code",
      "source": [],
      "metadata": {
        "id": "daxPGOh30zDD"
      },
      "execution_count": null,
      "outputs": []
    },
    {
      "cell_type": "code",
      "source": [],
      "metadata": {
        "id": "GAIA99VgOc8E"
      },
      "execution_count": null,
      "outputs": []
    }
  ]
}