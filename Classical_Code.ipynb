{
  "nbformat": 4,
  "nbformat_minor": 0,
  "metadata": {
    "colab": {
      "provenance": [],
      "collapsed_sections": []
    },
    "kernelspec": {
      "name": "python3",
      "display_name": "Python 3"
    },
    "language_info": {
      "name": "python"
    }
  },
  "cells": [
    {
      "cell_type": "code",
      "execution_count": 1,
      "metadata": {
        "id": "elCBn7ik80FH"
      },
      "outputs": [],
      "source": [
        "import pandas as pd\n",
        "import numpy as np\n",
        "from sklearn.preprocessing import OneHotEncoder\n",
        "import warnings\n",
        "warnings.filterwarnings(\"ignore\")"
      ]
    },
    {
      "cell_type": "code",
      "source": [
        "train_df = pd.read_csv(\"zion_training_data.csv\")\n",
        "train_df.head()"
      ],
      "metadata": {
        "colab": {
          "base_uri": "https://localhost:8080/",
          "height": 270
        },
        "id": "D_eo-Ti09fdt",
        "outputId": "fd246cf3-6982-4237-ca65-7b2f9913a5f3"
      },
      "execution_count": 3,
      "outputs": [
        {
          "output_type": "execute_result",
          "data": {
            "text/plain": [
              "   ID      Location Mode_of_delivery  Calls_to_customer_care  \\\n",
              "0   1    Gachibowli             Auto                       4   \n",
              "1   2   Hitech City             Auto                       4   \n",
              "2   3  Secunderabad             Auto                       2   \n",
              "3   4    Khairtabad             Auto                       3   \n",
              "4   5    Masab Tank             Auto                       2   \n",
              "\n",
              "   Rating_of_customer  Cost_of_food  Prior_purchases Gender_of_customer  \\\n",
              "0                 2.0         265.5              3.0                  F   \n",
              "1                 5.0         324.0              2.0                  M   \n",
              "2                 2.0         274.5              4.0                  M   \n",
              "3                 3.0         264.0              4.0                  M   \n",
              "4                 NaN         276.0              NaN                  F   \n",
              "\n",
              "   Discount_offered  Weight_of_food_in_gms  Reached_on_time  \n",
              "0                44                   1233                1  \n",
              "1                59                   3088                1  \n",
              "2                48                   3374                1  \n",
              "3                10                   1177                1  \n",
              "4                46                   2484                1  "
            ],
            "text/html": [
              "\n",
              "  <div id=\"df-9740597e-2a44-4e07-a61e-12e8d3c5ffd9\">\n",
              "    <div class=\"colab-df-container\">\n",
              "      <div>\n",
              "<style scoped>\n",
              "    .dataframe tbody tr th:only-of-type {\n",
              "        vertical-align: middle;\n",
              "    }\n",
              "\n",
              "    .dataframe tbody tr th {\n",
              "        vertical-align: top;\n",
              "    }\n",
              "\n",
              "    .dataframe thead th {\n",
              "        text-align: right;\n",
              "    }\n",
              "</style>\n",
              "<table border=\"1\" class=\"dataframe\">\n",
              "  <thead>\n",
              "    <tr style=\"text-align: right;\">\n",
              "      <th></th>\n",
              "      <th>ID</th>\n",
              "      <th>Location</th>\n",
              "      <th>Mode_of_delivery</th>\n",
              "      <th>Calls_to_customer_care</th>\n",
              "      <th>Rating_of_customer</th>\n",
              "      <th>Cost_of_food</th>\n",
              "      <th>Prior_purchases</th>\n",
              "      <th>Gender_of_customer</th>\n",
              "      <th>Discount_offered</th>\n",
              "      <th>Weight_of_food_in_gms</th>\n",
              "      <th>Reached_on_time</th>\n",
              "    </tr>\n",
              "  </thead>\n",
              "  <tbody>\n",
              "    <tr>\n",
              "      <th>0</th>\n",
              "      <td>1</td>\n",
              "      <td>Gachibowli</td>\n",
              "      <td>Auto</td>\n",
              "      <td>4</td>\n",
              "      <td>2.0</td>\n",
              "      <td>265.5</td>\n",
              "      <td>3.0</td>\n",
              "      <td>F</td>\n",
              "      <td>44</td>\n",
              "      <td>1233</td>\n",
              "      <td>1</td>\n",
              "    </tr>\n",
              "    <tr>\n",
              "      <th>1</th>\n",
              "      <td>2</td>\n",
              "      <td>Hitech City</td>\n",
              "      <td>Auto</td>\n",
              "      <td>4</td>\n",
              "      <td>5.0</td>\n",
              "      <td>324.0</td>\n",
              "      <td>2.0</td>\n",
              "      <td>M</td>\n",
              "      <td>59</td>\n",
              "      <td>3088</td>\n",
              "      <td>1</td>\n",
              "    </tr>\n",
              "    <tr>\n",
              "      <th>2</th>\n",
              "      <td>3</td>\n",
              "      <td>Secunderabad</td>\n",
              "      <td>Auto</td>\n",
              "      <td>2</td>\n",
              "      <td>2.0</td>\n",
              "      <td>274.5</td>\n",
              "      <td>4.0</td>\n",
              "      <td>M</td>\n",
              "      <td>48</td>\n",
              "      <td>3374</td>\n",
              "      <td>1</td>\n",
              "    </tr>\n",
              "    <tr>\n",
              "      <th>3</th>\n",
              "      <td>4</td>\n",
              "      <td>Khairtabad</td>\n",
              "      <td>Auto</td>\n",
              "      <td>3</td>\n",
              "      <td>3.0</td>\n",
              "      <td>264.0</td>\n",
              "      <td>4.0</td>\n",
              "      <td>M</td>\n",
              "      <td>10</td>\n",
              "      <td>1177</td>\n",
              "      <td>1</td>\n",
              "    </tr>\n",
              "    <tr>\n",
              "      <th>4</th>\n",
              "      <td>5</td>\n",
              "      <td>Masab Tank</td>\n",
              "      <td>Auto</td>\n",
              "      <td>2</td>\n",
              "      <td>NaN</td>\n",
              "      <td>276.0</td>\n",
              "      <td>NaN</td>\n",
              "      <td>F</td>\n",
              "      <td>46</td>\n",
              "      <td>2484</td>\n",
              "      <td>1</td>\n",
              "    </tr>\n",
              "  </tbody>\n",
              "</table>\n",
              "</div>\n",
              "      <button class=\"colab-df-convert\" onclick=\"convertToInteractive('df-9740597e-2a44-4e07-a61e-12e8d3c5ffd9')\"\n",
              "              title=\"Convert this dataframe to an interactive table.\"\n",
              "              style=\"display:none;\">\n",
              "        \n",
              "  <svg xmlns=\"http://www.w3.org/2000/svg\" height=\"24px\"viewBox=\"0 0 24 24\"\n",
              "       width=\"24px\">\n",
              "    <path d=\"M0 0h24v24H0V0z\" fill=\"none\"/>\n",
              "    <path d=\"M18.56 5.44l.94 2.06.94-2.06 2.06-.94-2.06-.94-.94-2.06-.94 2.06-2.06.94zm-11 1L8.5 8.5l.94-2.06 2.06-.94-2.06-.94L8.5 2.5l-.94 2.06-2.06.94zm10 10l.94 2.06.94-2.06 2.06-.94-2.06-.94-.94-2.06-.94 2.06-2.06.94z\"/><path d=\"M17.41 7.96l-1.37-1.37c-.4-.4-.92-.59-1.43-.59-.52 0-1.04.2-1.43.59L10.3 9.45l-7.72 7.72c-.78.78-.78 2.05 0 2.83L4 21.41c.39.39.9.59 1.41.59.51 0 1.02-.2 1.41-.59l7.78-7.78 2.81-2.81c.8-.78.8-2.07 0-2.86zM5.41 20L4 18.59l7.72-7.72 1.47 1.35L5.41 20z\"/>\n",
              "  </svg>\n",
              "      </button>\n",
              "      \n",
              "  <style>\n",
              "    .colab-df-container {\n",
              "      display:flex;\n",
              "      flex-wrap:wrap;\n",
              "      gap: 12px;\n",
              "    }\n",
              "\n",
              "    .colab-df-convert {\n",
              "      background-color: #E8F0FE;\n",
              "      border: none;\n",
              "      border-radius: 50%;\n",
              "      cursor: pointer;\n",
              "      display: none;\n",
              "      fill: #1967D2;\n",
              "      height: 32px;\n",
              "      padding: 0 0 0 0;\n",
              "      width: 32px;\n",
              "    }\n",
              "\n",
              "    .colab-df-convert:hover {\n",
              "      background-color: #E2EBFA;\n",
              "      box-shadow: 0px 1px 2px rgba(60, 64, 67, 0.3), 0px 1px 3px 1px rgba(60, 64, 67, 0.15);\n",
              "      fill: #174EA6;\n",
              "    }\n",
              "\n",
              "    [theme=dark] .colab-df-convert {\n",
              "      background-color: #3B4455;\n",
              "      fill: #D2E3FC;\n",
              "    }\n",
              "\n",
              "    [theme=dark] .colab-df-convert:hover {\n",
              "      background-color: #434B5C;\n",
              "      box-shadow: 0px 1px 3px 1px rgba(0, 0, 0, 0.15);\n",
              "      filter: drop-shadow(0px 1px 2px rgba(0, 0, 0, 0.3));\n",
              "      fill: #FFFFFF;\n",
              "    }\n",
              "  </style>\n",
              "\n",
              "      <script>\n",
              "        const buttonEl =\n",
              "          document.querySelector('#df-9740597e-2a44-4e07-a61e-12e8d3c5ffd9 button.colab-df-convert');\n",
              "        buttonEl.style.display =\n",
              "          google.colab.kernel.accessAllowed ? 'block' : 'none';\n",
              "\n",
              "        async function convertToInteractive(key) {\n",
              "          const element = document.querySelector('#df-9740597e-2a44-4e07-a61e-12e8d3c5ffd9');\n",
              "          const dataTable =\n",
              "            await google.colab.kernel.invokeFunction('convertToInteractive',\n",
              "                                                     [key], {});\n",
              "          if (!dataTable) return;\n",
              "\n",
              "          const docLinkHtml = 'Like what you see? Visit the ' +\n",
              "            '<a target=\"_blank\" href=https://colab.research.google.com/notebooks/data_table.ipynb>data table notebook</a>'\n",
              "            + ' to learn more about interactive tables.';\n",
              "          element.innerHTML = '';\n",
              "          dataTable['output_type'] = 'display_data';\n",
              "          await google.colab.output.renderOutput(dataTable, element);\n",
              "          const docLink = document.createElement('div');\n",
              "          docLink.innerHTML = docLinkHtml;\n",
              "          element.appendChild(docLink);\n",
              "        }\n",
              "      </script>\n",
              "    </div>\n",
              "  </div>\n",
              "  "
            ]
          },
          "metadata": {},
          "execution_count": 3
        }
      ]
    },
    {
      "cell_type": "code",
      "source": [
        "train_df.describe()"
      ],
      "metadata": {
        "colab": {
          "base_uri": "https://localhost:8080/",
          "height": 364
        },
        "id": "Q1h0E4z2-N02",
        "outputId": "bc732c7f-5b69-46a7-dc40-52e9bf7590fe"
      },
      "execution_count": 4,
      "outputs": [
        {
          "output_type": "execute_result",
          "data": {
            "text/plain": [
              "                 ID  Calls_to_customer_care  Rating_of_customer  Cost_of_food  \\\n",
              "count   8249.000000             8249.000000         6177.000000   8249.000000   \n",
              "mean    5479.967632                4.040975            3.011332    314.937811   \n",
              "std     3173.300627                1.138140            1.415198     71.890029   \n",
              "min        1.000000                2.000000            1.000000    144.000000   \n",
              "25%     2740.000000                3.000000            2.000000    253.500000   \n",
              "50%     5486.000000                4.000000            3.000000    321.000000   \n",
              "75%     8213.000000                5.000000            4.000000    376.500000   \n",
              "max    10999.000000                7.000000            5.000000    465.000000   \n",
              "\n",
              "       Prior_purchases  Discount_offered  Weight_of_food_in_gms  \\\n",
              "count      7004.000000       8249.000000            8249.000000   \n",
              "mean          3.570817         13.433022            3641.897442   \n",
              "std           1.524135         16.236907            1636.962861   \n",
              "min           2.000000          1.000000            1001.000000   \n",
              "25%           3.000000          4.000000            1841.000000   \n",
              "50%           3.000000          7.000000            4152.000000   \n",
              "75%           4.000000         10.000000            5065.000000   \n",
              "max          10.000000         65.000000            7846.000000   \n",
              "\n",
              "       Reached_on_time  \n",
              "count       8249.00000  \n",
              "mean           0.59680  \n",
              "std            0.49057  \n",
              "min            0.00000  \n",
              "25%            0.00000  \n",
              "50%            1.00000  \n",
              "75%            1.00000  \n",
              "max            1.00000  "
            ],
            "text/html": [
              "\n",
              "  <div id=\"df-5012394f-9ff9-454e-a319-915888072758\">\n",
              "    <div class=\"colab-df-container\">\n",
              "      <div>\n",
              "<style scoped>\n",
              "    .dataframe tbody tr th:only-of-type {\n",
              "        vertical-align: middle;\n",
              "    }\n",
              "\n",
              "    .dataframe tbody tr th {\n",
              "        vertical-align: top;\n",
              "    }\n",
              "\n",
              "    .dataframe thead th {\n",
              "        text-align: right;\n",
              "    }\n",
              "</style>\n",
              "<table border=\"1\" class=\"dataframe\">\n",
              "  <thead>\n",
              "    <tr style=\"text-align: right;\">\n",
              "      <th></th>\n",
              "      <th>ID</th>\n",
              "      <th>Calls_to_customer_care</th>\n",
              "      <th>Rating_of_customer</th>\n",
              "      <th>Cost_of_food</th>\n",
              "      <th>Prior_purchases</th>\n",
              "      <th>Discount_offered</th>\n",
              "      <th>Weight_of_food_in_gms</th>\n",
              "      <th>Reached_on_time</th>\n",
              "    </tr>\n",
              "  </thead>\n",
              "  <tbody>\n",
              "    <tr>\n",
              "      <th>count</th>\n",
              "      <td>8249.000000</td>\n",
              "      <td>8249.000000</td>\n",
              "      <td>6177.000000</td>\n",
              "      <td>8249.000000</td>\n",
              "      <td>7004.000000</td>\n",
              "      <td>8249.000000</td>\n",
              "      <td>8249.000000</td>\n",
              "      <td>8249.00000</td>\n",
              "    </tr>\n",
              "    <tr>\n",
              "      <th>mean</th>\n",
              "      <td>5479.967632</td>\n",
              "      <td>4.040975</td>\n",
              "      <td>3.011332</td>\n",
              "      <td>314.937811</td>\n",
              "      <td>3.570817</td>\n",
              "      <td>13.433022</td>\n",
              "      <td>3641.897442</td>\n",
              "      <td>0.59680</td>\n",
              "    </tr>\n",
              "    <tr>\n",
              "      <th>std</th>\n",
              "      <td>3173.300627</td>\n",
              "      <td>1.138140</td>\n",
              "      <td>1.415198</td>\n",
              "      <td>71.890029</td>\n",
              "      <td>1.524135</td>\n",
              "      <td>16.236907</td>\n",
              "      <td>1636.962861</td>\n",
              "      <td>0.49057</td>\n",
              "    </tr>\n",
              "    <tr>\n",
              "      <th>min</th>\n",
              "      <td>1.000000</td>\n",
              "      <td>2.000000</td>\n",
              "      <td>1.000000</td>\n",
              "      <td>144.000000</td>\n",
              "      <td>2.000000</td>\n",
              "      <td>1.000000</td>\n",
              "      <td>1001.000000</td>\n",
              "      <td>0.00000</td>\n",
              "    </tr>\n",
              "    <tr>\n",
              "      <th>25%</th>\n",
              "      <td>2740.000000</td>\n",
              "      <td>3.000000</td>\n",
              "      <td>2.000000</td>\n",
              "      <td>253.500000</td>\n",
              "      <td>3.000000</td>\n",
              "      <td>4.000000</td>\n",
              "      <td>1841.000000</td>\n",
              "      <td>0.00000</td>\n",
              "    </tr>\n",
              "    <tr>\n",
              "      <th>50%</th>\n",
              "      <td>5486.000000</td>\n",
              "      <td>4.000000</td>\n",
              "      <td>3.000000</td>\n",
              "      <td>321.000000</td>\n",
              "      <td>3.000000</td>\n",
              "      <td>7.000000</td>\n",
              "      <td>4152.000000</td>\n",
              "      <td>1.00000</td>\n",
              "    </tr>\n",
              "    <tr>\n",
              "      <th>75%</th>\n",
              "      <td>8213.000000</td>\n",
              "      <td>5.000000</td>\n",
              "      <td>4.000000</td>\n",
              "      <td>376.500000</td>\n",
              "      <td>4.000000</td>\n",
              "      <td>10.000000</td>\n",
              "      <td>5065.000000</td>\n",
              "      <td>1.00000</td>\n",
              "    </tr>\n",
              "    <tr>\n",
              "      <th>max</th>\n",
              "      <td>10999.000000</td>\n",
              "      <td>7.000000</td>\n",
              "      <td>5.000000</td>\n",
              "      <td>465.000000</td>\n",
              "      <td>10.000000</td>\n",
              "      <td>65.000000</td>\n",
              "      <td>7846.000000</td>\n",
              "      <td>1.00000</td>\n",
              "    </tr>\n",
              "  </tbody>\n",
              "</table>\n",
              "</div>\n",
              "      <button class=\"colab-df-convert\" onclick=\"convertToInteractive('df-5012394f-9ff9-454e-a319-915888072758')\"\n",
              "              title=\"Convert this dataframe to an interactive table.\"\n",
              "              style=\"display:none;\">\n",
              "        \n",
              "  <svg xmlns=\"http://www.w3.org/2000/svg\" height=\"24px\"viewBox=\"0 0 24 24\"\n",
              "       width=\"24px\">\n",
              "    <path d=\"M0 0h24v24H0V0z\" fill=\"none\"/>\n",
              "    <path d=\"M18.56 5.44l.94 2.06.94-2.06 2.06-.94-2.06-.94-.94-2.06-.94 2.06-2.06.94zm-11 1L8.5 8.5l.94-2.06 2.06-.94-2.06-.94L8.5 2.5l-.94 2.06-2.06.94zm10 10l.94 2.06.94-2.06 2.06-.94-2.06-.94-.94-2.06-.94 2.06-2.06.94z\"/><path d=\"M17.41 7.96l-1.37-1.37c-.4-.4-.92-.59-1.43-.59-.52 0-1.04.2-1.43.59L10.3 9.45l-7.72 7.72c-.78.78-.78 2.05 0 2.83L4 21.41c.39.39.9.59 1.41.59.51 0 1.02-.2 1.41-.59l7.78-7.78 2.81-2.81c.8-.78.8-2.07 0-2.86zM5.41 20L4 18.59l7.72-7.72 1.47 1.35L5.41 20z\"/>\n",
              "  </svg>\n",
              "      </button>\n",
              "      \n",
              "  <style>\n",
              "    .colab-df-container {\n",
              "      display:flex;\n",
              "      flex-wrap:wrap;\n",
              "      gap: 12px;\n",
              "    }\n",
              "\n",
              "    .colab-df-convert {\n",
              "      background-color: #E8F0FE;\n",
              "      border: none;\n",
              "      border-radius: 50%;\n",
              "      cursor: pointer;\n",
              "      display: none;\n",
              "      fill: #1967D2;\n",
              "      height: 32px;\n",
              "      padding: 0 0 0 0;\n",
              "      width: 32px;\n",
              "    }\n",
              "\n",
              "    .colab-df-convert:hover {\n",
              "      background-color: #E2EBFA;\n",
              "      box-shadow: 0px 1px 2px rgba(60, 64, 67, 0.3), 0px 1px 3px 1px rgba(60, 64, 67, 0.15);\n",
              "      fill: #174EA6;\n",
              "    }\n",
              "\n",
              "    [theme=dark] .colab-df-convert {\n",
              "      background-color: #3B4455;\n",
              "      fill: #D2E3FC;\n",
              "    }\n",
              "\n",
              "    [theme=dark] .colab-df-convert:hover {\n",
              "      background-color: #434B5C;\n",
              "      box-shadow: 0px 1px 3px 1px rgba(0, 0, 0, 0.15);\n",
              "      filter: drop-shadow(0px 1px 2px rgba(0, 0, 0, 0.3));\n",
              "      fill: #FFFFFF;\n",
              "    }\n",
              "  </style>\n",
              "\n",
              "      <script>\n",
              "        const buttonEl =\n",
              "          document.querySelector('#df-5012394f-9ff9-454e-a319-915888072758 button.colab-df-convert');\n",
              "        buttonEl.style.display =\n",
              "          google.colab.kernel.accessAllowed ? 'block' : 'none';\n",
              "\n",
              "        async function convertToInteractive(key) {\n",
              "          const element = document.querySelector('#df-5012394f-9ff9-454e-a319-915888072758');\n",
              "          const dataTable =\n",
              "            await google.colab.kernel.invokeFunction('convertToInteractive',\n",
              "                                                     [key], {});\n",
              "          if (!dataTable) return;\n",
              "\n",
              "          const docLinkHtml = 'Like what you see? Visit the ' +\n",
              "            '<a target=\"_blank\" href=https://colab.research.google.com/notebooks/data_table.ipynb>data table notebook</a>'\n",
              "            + ' to learn more about interactive tables.';\n",
              "          element.innerHTML = '';\n",
              "          dataTable['output_type'] = 'display_data';\n",
              "          await google.colab.output.renderOutput(dataTable, element);\n",
              "          const docLink = document.createElement('div');\n",
              "          docLink.innerHTML = docLinkHtml;\n",
              "          element.appendChild(docLink);\n",
              "        }\n",
              "      </script>\n",
              "    </div>\n",
              "  </div>\n",
              "  "
            ]
          },
          "metadata": {},
          "execution_count": 4
        }
      ]
    },
    {
      "cell_type": "code",
      "source": [
        "test_df = pd.read_csv(\"zion_testing_data.csv\")\n",
        "test_df.info()"
      ],
      "metadata": {
        "colab": {
          "base_uri": "https://localhost:8080/"
        },
        "id": "CZ5OsVDX-JH_",
        "outputId": "d3380ff9-ea2f-4f16-bfbe-eec0de2f9830"
      },
      "execution_count": 5,
      "outputs": [
        {
          "output_type": "stream",
          "name": "stdout",
          "text": [
            "<class 'pandas.core.frame.DataFrame'>\n",
            "RangeIndex: 2750 entries, 0 to 2749\n",
            "Data columns (total 10 columns):\n",
            " #   Column                  Non-Null Count  Dtype  \n",
            "---  ------                  --------------  -----  \n",
            " 0   ID                      2750 non-null   int64  \n",
            " 1   Location                2750 non-null   object \n",
            " 2   Mode_of_delivery        2750 non-null   object \n",
            " 3   Calls_to_customer_care  2750 non-null   int64  \n",
            " 4   Rating_of_customer      2072 non-null   float64\n",
            " 5   Cost_of_food            2750 non-null   float64\n",
            " 6   Prior_purchases         2345 non-null   float64\n",
            " 7   Gender_of_customer      2750 non-null   object \n",
            " 8   Discount_offered        2750 non-null   int64  \n",
            " 9   Weight_of_food_in_gms   2750 non-null   int64  \n",
            "dtypes: float64(3), int64(4), object(3)\n",
            "memory usage: 215.0+ KB\n"
          ]
        }
      ]
    },
    {
      "cell_type": "markdown",
      "source": [
        "EDA"
      ],
      "metadata": {
        "id": "21iTYAPb-1x-"
      }
    },
    {
      "cell_type": "code",
      "source": [
        "train_df.info()"
      ],
      "metadata": {
        "colab": {
          "base_uri": "https://localhost:8080/"
        },
        "id": "annj7Cg8-Uqs",
        "outputId": "162848d8-1a40-4d22-de86-b88ee4b2b1bf"
      },
      "execution_count": 6,
      "outputs": [
        {
          "output_type": "stream",
          "name": "stdout",
          "text": [
            "<class 'pandas.core.frame.DataFrame'>\n",
            "RangeIndex: 8249 entries, 0 to 8248\n",
            "Data columns (total 11 columns):\n",
            " #   Column                  Non-Null Count  Dtype  \n",
            "---  ------                  --------------  -----  \n",
            " 0   ID                      8249 non-null   int64  \n",
            " 1   Location                8249 non-null   object \n",
            " 2   Mode_of_delivery        8249 non-null   object \n",
            " 3   Calls_to_customer_care  8249 non-null   int64  \n",
            " 4   Rating_of_customer      6177 non-null   float64\n",
            " 5   Cost_of_food            8249 non-null   float64\n",
            " 6   Prior_purchases         7004 non-null   float64\n",
            " 7   Gender_of_customer      8249 non-null   object \n",
            " 8   Discount_offered        8249 non-null   int64  \n",
            " 9   Weight_of_food_in_gms   8249 non-null   int64  \n",
            " 10  Reached_on_time         8249 non-null   int64  \n",
            "dtypes: float64(3), int64(5), object(3)\n",
            "memory usage: 709.0+ KB\n"
          ]
        }
      ]
    },
    {
      "cell_type": "code",
      "source": [
        "train_df.Location.value_counts() # one-hot encoding"
      ],
      "metadata": {
        "colab": {
          "base_uri": "https://localhost:8080/"
        },
        "id": "-fb-maPD-3uD",
        "outputId": "825e83cf-2970-4499-9d5d-fd225aff0815"
      },
      "execution_count": 7,
      "outputs": [
        {
          "output_type": "execute_result",
          "data": {
            "text/plain": [
              "Hitech City     2725\n",
              "Gachibowli      1397\n",
              "Secunderabad    1389\n",
              "Masab Tank      1375\n",
              "Khairtabad      1363\n",
              "Name: Location, dtype: int64"
            ]
          },
          "metadata": {},
          "execution_count": 7
        }
      ]
    },
    {
      "cell_type": "code",
      "source": [
        "train_df.Mode_of_delivery.value_counts() # doing label encoding since bike is faster than auto and auto is faster than car"
      ],
      "metadata": {
        "colab": {
          "base_uri": "https://localhost:8080/"
        },
        "id": "IicJ0Ypo_Ack",
        "outputId": "5b69eb92-4a45-423d-9549-92fb5c4cfd57"
      },
      "execution_count": 8,
      "outputs": [
        {
          "output_type": "execute_result",
          "data": {
            "text/plain": [
              "Bike    5591\n",
              "Car     1332\n",
              "Auto    1326\n",
              "Name: Mode_of_delivery, dtype: int64"
            ]
          },
          "metadata": {},
          "execution_count": 8
        }
      ]
    },
    {
      "cell_type": "code",
      "source": [
        "train_df.Calls_to_customer_care.describe() # remove outliers"
      ],
      "metadata": {
        "colab": {
          "base_uri": "https://localhost:8080/"
        },
        "id": "ZgoNGpEL_D7Z",
        "outputId": "3dbb6f1d-e870-4121-eda9-44e8e600859d"
      },
      "execution_count": 9,
      "outputs": [
        {
          "output_type": "execute_result",
          "data": {
            "text/plain": [
              "count    8249.000000\n",
              "mean        4.040975\n",
              "std         1.138140\n",
              "min         2.000000\n",
              "25%         3.000000\n",
              "50%         4.000000\n",
              "75%         5.000000\n",
              "max         7.000000\n",
              "Name: Calls_to_customer_care, dtype: float64"
            ]
          },
          "metadata": {},
          "execution_count": 9
        }
      ]
    },
    {
      "cell_type": "code",
      "source": [
        "train_df.Rating_of_customer.describe() # remove outliers; fill missing value using median and then using model based"
      ],
      "metadata": {
        "colab": {
          "base_uri": "https://localhost:8080/"
        },
        "id": "YMb8aZ9g_Xy1",
        "outputId": "1d4c80f2-a2cd-4937-a261-3be104c9b005"
      },
      "execution_count": 10,
      "outputs": [
        {
          "output_type": "execute_result",
          "data": {
            "text/plain": [
              "count    6177.000000\n",
              "mean        3.011332\n",
              "std         1.415198\n",
              "min         1.000000\n",
              "25%         2.000000\n",
              "50%         3.000000\n",
              "75%         4.000000\n",
              "max         5.000000\n",
              "Name: Rating_of_customer, dtype: float64"
            ]
          },
          "metadata": {},
          "execution_count": 10
        }
      ]
    },
    {
      "cell_type": "code",
      "source": [
        "train_df.Cost_of_food.describe() # remove outliers;"
      ],
      "metadata": {
        "colab": {
          "base_uri": "https://localhost:8080/"
        },
        "id": "CtpX3sN0_kOw",
        "outputId": "60c31362-6a4e-4162-daaa-b04e7504e434"
      },
      "execution_count": 11,
      "outputs": [
        {
          "output_type": "execute_result",
          "data": {
            "text/plain": [
              "count    8249.000000\n",
              "mean      314.937811\n",
              "std        71.890029\n",
              "min       144.000000\n",
              "25%       253.500000\n",
              "50%       321.000000\n",
              "75%       376.500000\n",
              "max       465.000000\n",
              "Name: Cost_of_food, dtype: float64"
            ]
          },
          "metadata": {},
          "execution_count": 11
        }
      ]
    },
    {
      "cell_type": "code",
      "source": [
        "train_df.Prior_purchases.describe() # remove outliers; fill missing value using median and then using model based"
      ],
      "metadata": {
        "colab": {
          "base_uri": "https://localhost:8080/"
        },
        "id": "aXk-T8aX_8PM",
        "outputId": "a0bba6fc-467d-47bb-aac6-450761c971fe"
      },
      "execution_count": 12,
      "outputs": [
        {
          "output_type": "execute_result",
          "data": {
            "text/plain": [
              "count    7004.000000\n",
              "mean        3.570817\n",
              "std         1.524135\n",
              "min         2.000000\n",
              "25%         3.000000\n",
              "50%         3.000000\n",
              "75%         4.000000\n",
              "max        10.000000\n",
              "Name: Prior_purchases, dtype: float64"
            ]
          },
          "metadata": {},
          "execution_count": 12
        }
      ]
    },
    {
      "cell_type": "code",
      "source": [
        "train_df.Gender_of_customer.value_counts()"
      ],
      "metadata": {
        "colab": {
          "base_uri": "https://localhost:8080/"
        },
        "id": "wR81c63zAXpI",
        "outputId": "43dae7f1-14e8-4d9f-a29c-ff7f603f1667"
      },
      "execution_count": 13,
      "outputs": [
        {
          "output_type": "execute_result",
          "data": {
            "text/plain": [
              "F    4138\n",
              "M    4111\n",
              "Name: Gender_of_customer, dtype: int64"
            ]
          },
          "metadata": {},
          "execution_count": 13
        }
      ]
    },
    {
      "cell_type": "code",
      "source": [
        "train_df.Discount_offered.describe() # remove outliers;"
      ],
      "metadata": {
        "colab": {
          "base_uri": "https://localhost:8080/"
        },
        "id": "48S1h0wIAmSX",
        "outputId": "293bd795-5fc0-4f05-f6fd-0f65c7849eb7"
      },
      "execution_count": 14,
      "outputs": [
        {
          "output_type": "execute_result",
          "data": {
            "text/plain": [
              "count    8249.000000\n",
              "mean       13.433022\n",
              "std        16.236907\n",
              "min         1.000000\n",
              "25%         4.000000\n",
              "50%         7.000000\n",
              "75%        10.000000\n",
              "max        65.000000\n",
              "Name: Discount_offered, dtype: float64"
            ]
          },
          "metadata": {},
          "execution_count": 14
        }
      ]
    },
    {
      "cell_type": "code",
      "source": [
        "\n",
        "train_df.Weight_of_food_in_gms.describe() # remove outliers;"
      ],
      "metadata": {
        "colab": {
          "base_uri": "https://localhost:8080/"
        },
        "id": "ftw-PG1BAv4L",
        "outputId": "104fa352-1a1f-465b-f75a-da07c9491f4f"
      },
      "execution_count": 15,
      "outputs": [
        {
          "output_type": "execute_result",
          "data": {
            "text/plain": [
              "count    8249.000000\n",
              "mean     3641.897442\n",
              "std      1636.962861\n",
              "min      1001.000000\n",
              "25%      1841.000000\n",
              "50%      4152.000000\n",
              "75%      5065.000000\n",
              "max      7846.000000\n",
              "Name: Weight_of_food_in_gms, dtype: float64"
            ]
          },
          "metadata": {},
          "execution_count": 15
        }
      ]
    },
    {
      "cell_type": "code",
      "source": [
        "train_df.Reached_on_time.value_counts()"
      ],
      "metadata": {
        "colab": {
          "base_uri": "https://localhost:8080/"
        },
        "id": "EfcEZw1qA1tN",
        "outputId": "b256002c-24d8-4411-affa-421a19309b70"
      },
      "execution_count": 16,
      "outputs": [
        {
          "output_type": "execute_result",
          "data": {
            "text/plain": [
              "1    4923\n",
              "0    3326\n",
              "Name: Reached_on_time, dtype: int64"
            ]
          },
          "metadata": {},
          "execution_count": 16
        }
      ]
    },
    {
      "cell_type": "markdown",
      "source": [
        "**Handling missing values**"
      ],
      "metadata": {
        "id": "bL1Ga5-CANQp"
      }
    },
    {
      "cell_type": "code",
      "source": [
        "# Rating_of_customer, Prior_purchases\n",
        "train_df.info()"
      ],
      "metadata": {
        "colab": {
          "base_uri": "https://localhost:8080/"
        },
        "id": "xQkn1T8SAA3D",
        "outputId": "8dc6c5b7-d5be-4ee1-d6ae-4f8da81c1c20"
      },
      "execution_count": 17,
      "outputs": [
        {
          "output_type": "stream",
          "name": "stdout",
          "text": [
            "<class 'pandas.core.frame.DataFrame'>\n",
            "RangeIndex: 8249 entries, 0 to 8248\n",
            "Data columns (total 11 columns):\n",
            " #   Column                  Non-Null Count  Dtype  \n",
            "---  ------                  --------------  -----  \n",
            " 0   ID                      8249 non-null   int64  \n",
            " 1   Location                8249 non-null   object \n",
            " 2   Mode_of_delivery        8249 non-null   object \n",
            " 3   Calls_to_customer_care  8249 non-null   int64  \n",
            " 4   Rating_of_customer      6177 non-null   float64\n",
            " 5   Cost_of_food            8249 non-null   float64\n",
            " 6   Prior_purchases         7004 non-null   float64\n",
            " 7   Gender_of_customer      8249 non-null   object \n",
            " 8   Discount_offered        8249 non-null   int64  \n",
            " 9   Weight_of_food_in_gms   8249 non-null   int64  \n",
            " 10  Reached_on_time         8249 non-null   int64  \n",
            "dtypes: float64(3), int64(5), object(3)\n",
            "memory usage: 709.0+ KB\n"
          ]
        }
      ]
    },
    {
      "cell_type": "code",
      "source": [
        "missing_cols_matadata = train_df[['Rating_of_customer', 'Prior_purchases']].median()\n",
        "train_df[['Rating_of_customer', 'Prior_purchases']] = train_df[['Rating_of_customer', 'Prior_purchases']].fillna(missing_cols_matadata)\n",
        "train_df.info()"
      ],
      "metadata": {
        "colab": {
          "base_uri": "https://localhost:8080/"
        },
        "id": "XTfvwlKPBBNZ",
        "outputId": "60a16edf-e3a4-4d8b-932d-6ab38b455f33"
      },
      "execution_count": 18,
      "outputs": [
        {
          "output_type": "stream",
          "name": "stdout",
          "text": [
            "<class 'pandas.core.frame.DataFrame'>\n",
            "RangeIndex: 8249 entries, 0 to 8248\n",
            "Data columns (total 11 columns):\n",
            " #   Column                  Non-Null Count  Dtype  \n",
            "---  ------                  --------------  -----  \n",
            " 0   ID                      8249 non-null   int64  \n",
            " 1   Location                8249 non-null   object \n",
            " 2   Mode_of_delivery        8249 non-null   object \n",
            " 3   Calls_to_customer_care  8249 non-null   int64  \n",
            " 4   Rating_of_customer      8249 non-null   float64\n",
            " 5   Cost_of_food            8249 non-null   float64\n",
            " 6   Prior_purchases         8249 non-null   float64\n",
            " 7   Gender_of_customer      8249 non-null   object \n",
            " 8   Discount_offered        8249 non-null   int64  \n",
            " 9   Weight_of_food_in_gms   8249 non-null   int64  \n",
            " 10  Reached_on_time         8249 non-null   int64  \n",
            "dtypes: float64(3), int64(5), object(3)\n",
            "memory usage: 709.0+ KB\n"
          ]
        }
      ]
    },
    {
      "cell_type": "markdown",
      "source": [
        "Handling Categories"
      ],
      "metadata": {
        "id": "T4Od5IAFBuJx"
      }
    },
    {
      "cell_type": "code",
      "source": [
        "train_df['Mode_of_delivery'] = train_df.Mode_of_delivery.replace({'Bike': 3, 'Auto':2, 'Car':1}) \n",
        "train_df['Mode_of_delivery'].value_counts()"
      ],
      "metadata": {
        "colab": {
          "base_uri": "https://localhost:8080/"
        },
        "id": "iTbvHmJTCcBw",
        "outputId": "4aeb1b7a-b3fb-4b41-a3fa-f39f3d824178"
      },
      "execution_count": 19,
      "outputs": [
        {
          "output_type": "execute_result",
          "data": {
            "text/plain": [
              "3    5591\n",
              "1    1332\n",
              "2    1326\n",
              "Name: Mode_of_delivery, dtype: int64"
            ]
          },
          "metadata": {},
          "execution_count": 19
        }
      ]
    },
    {
      "cell_type": "markdown",
      "source": [
        "**Handling Numerical**"
      ],
      "metadata": {
        "id": "wse2pai8EL1e"
      }
    },
    {
      "cell_type": "code",
      "source": [
        "train_df.info()"
      ],
      "metadata": {
        "colab": {
          "base_uri": "https://localhost:8080/"
        },
        "id": "UQ-kfNiGEUss",
        "outputId": "6f0b23ce-969c-459d-8ed6-19ad63bade6a"
      },
      "execution_count": 20,
      "outputs": [
        {
          "output_type": "stream",
          "name": "stdout",
          "text": [
            "<class 'pandas.core.frame.DataFrame'>\n",
            "RangeIndex: 8249 entries, 0 to 8248\n",
            "Data columns (total 11 columns):\n",
            " #   Column                  Non-Null Count  Dtype  \n",
            "---  ------                  --------------  -----  \n",
            " 0   ID                      8249 non-null   int64  \n",
            " 1   Location                8249 non-null   object \n",
            " 2   Mode_of_delivery        8249 non-null   int64  \n",
            " 3   Calls_to_customer_care  8249 non-null   int64  \n",
            " 4   Rating_of_customer      8249 non-null   float64\n",
            " 5   Cost_of_food            8249 non-null   float64\n",
            " 6   Prior_purchases         8249 non-null   float64\n",
            " 7   Gender_of_customer      8249 non-null   object \n",
            " 8   Discount_offered        8249 non-null   int64  \n",
            " 9   Weight_of_food_in_gms   8249 non-null   int64  \n",
            " 10  Reached_on_time         8249 non-null   int64  \n",
            "dtypes: float64(3), int64(6), object(2)\n",
            "memory usage: 709.0+ KB\n"
          ]
        }
      ]
    },
    {
      "cell_type": "code",
      "source": [
        "num_feat = ['Mode_of_delivery', 'Calls_to_customer_care', 'Rating_of_customer', 'Cost_of_food', 'Prior_purchases', 'Discount_offered', 'Weight_of_food_in_gms']\n"
      ],
      "metadata": {
        "id": "W6dBBAW-DsaK"
      },
      "execution_count": 21,
      "outputs": []
    },
    {
      "cell_type": "code",
      "source": [
        "# train_df = train_df_orig\n",
        "train_df.head(1)"
      ],
      "metadata": {
        "colab": {
          "base_uri": "https://localhost:8080/",
          "height": 145
        },
        "id": "33ciVa3gGUR-",
        "outputId": "5b1faf4c-ae98-4efd-d093-9c1e348bb6d0"
      },
      "execution_count": 22,
      "outputs": [
        {
          "output_type": "execute_result",
          "data": {
            "text/plain": [
              "   ID    Location  Mode_of_delivery  Calls_to_customer_care  \\\n",
              "0   1  Gachibowli                 2                       4   \n",
              "\n",
              "   Rating_of_customer  Cost_of_food  Prior_purchases Gender_of_customer  \\\n",
              "0                 2.0         265.5              3.0                  F   \n",
              "\n",
              "   Discount_offered  Weight_of_food_in_gms  Reached_on_time  \n",
              "0                44                   1233                1  "
            ],
            "text/html": [
              "\n",
              "  <div id=\"df-cf4e4e3b-f211-4659-8ce2-acbe1a3be0a0\">\n",
              "    <div class=\"colab-df-container\">\n",
              "      <div>\n",
              "<style scoped>\n",
              "    .dataframe tbody tr th:only-of-type {\n",
              "        vertical-align: middle;\n",
              "    }\n",
              "\n",
              "    .dataframe tbody tr th {\n",
              "        vertical-align: top;\n",
              "    }\n",
              "\n",
              "    .dataframe thead th {\n",
              "        text-align: right;\n",
              "    }\n",
              "</style>\n",
              "<table border=\"1\" class=\"dataframe\">\n",
              "  <thead>\n",
              "    <tr style=\"text-align: right;\">\n",
              "      <th></th>\n",
              "      <th>ID</th>\n",
              "      <th>Location</th>\n",
              "      <th>Mode_of_delivery</th>\n",
              "      <th>Calls_to_customer_care</th>\n",
              "      <th>Rating_of_customer</th>\n",
              "      <th>Cost_of_food</th>\n",
              "      <th>Prior_purchases</th>\n",
              "      <th>Gender_of_customer</th>\n",
              "      <th>Discount_offered</th>\n",
              "      <th>Weight_of_food_in_gms</th>\n",
              "      <th>Reached_on_time</th>\n",
              "    </tr>\n",
              "  </thead>\n",
              "  <tbody>\n",
              "    <tr>\n",
              "      <th>0</th>\n",
              "      <td>1</td>\n",
              "      <td>Gachibowli</td>\n",
              "      <td>2</td>\n",
              "      <td>4</td>\n",
              "      <td>2.0</td>\n",
              "      <td>265.5</td>\n",
              "      <td>3.0</td>\n",
              "      <td>F</td>\n",
              "      <td>44</td>\n",
              "      <td>1233</td>\n",
              "      <td>1</td>\n",
              "    </tr>\n",
              "  </tbody>\n",
              "</table>\n",
              "</div>\n",
              "      <button class=\"colab-df-convert\" onclick=\"convertToInteractive('df-cf4e4e3b-f211-4659-8ce2-acbe1a3be0a0')\"\n",
              "              title=\"Convert this dataframe to an interactive table.\"\n",
              "              style=\"display:none;\">\n",
              "        \n",
              "  <svg xmlns=\"http://www.w3.org/2000/svg\" height=\"24px\"viewBox=\"0 0 24 24\"\n",
              "       width=\"24px\">\n",
              "    <path d=\"M0 0h24v24H0V0z\" fill=\"none\"/>\n",
              "    <path d=\"M18.56 5.44l.94 2.06.94-2.06 2.06-.94-2.06-.94-.94-2.06-.94 2.06-2.06.94zm-11 1L8.5 8.5l.94-2.06 2.06-.94-2.06-.94L8.5 2.5l-.94 2.06-2.06.94zm10 10l.94 2.06.94-2.06 2.06-.94-2.06-.94-.94-2.06-.94 2.06-2.06.94z\"/><path d=\"M17.41 7.96l-1.37-1.37c-.4-.4-.92-.59-1.43-.59-.52 0-1.04.2-1.43.59L10.3 9.45l-7.72 7.72c-.78.78-.78 2.05 0 2.83L4 21.41c.39.39.9.59 1.41.59.51 0 1.02-.2 1.41-.59l7.78-7.78 2.81-2.81c.8-.78.8-2.07 0-2.86zM5.41 20L4 18.59l7.72-7.72 1.47 1.35L5.41 20z\"/>\n",
              "  </svg>\n",
              "      </button>\n",
              "      \n",
              "  <style>\n",
              "    .colab-df-container {\n",
              "      display:flex;\n",
              "      flex-wrap:wrap;\n",
              "      gap: 12px;\n",
              "    }\n",
              "\n",
              "    .colab-df-convert {\n",
              "      background-color: #E8F0FE;\n",
              "      border: none;\n",
              "      border-radius: 50%;\n",
              "      cursor: pointer;\n",
              "      display: none;\n",
              "      fill: #1967D2;\n",
              "      height: 32px;\n",
              "      padding: 0 0 0 0;\n",
              "      width: 32px;\n",
              "    }\n",
              "\n",
              "    .colab-df-convert:hover {\n",
              "      background-color: #E2EBFA;\n",
              "      box-shadow: 0px 1px 2px rgba(60, 64, 67, 0.3), 0px 1px 3px 1px rgba(60, 64, 67, 0.15);\n",
              "      fill: #174EA6;\n",
              "    }\n",
              "\n",
              "    [theme=dark] .colab-df-convert {\n",
              "      background-color: #3B4455;\n",
              "      fill: #D2E3FC;\n",
              "    }\n",
              "\n",
              "    [theme=dark] .colab-df-convert:hover {\n",
              "      background-color: #434B5C;\n",
              "      box-shadow: 0px 1px 3px 1px rgba(0, 0, 0, 0.15);\n",
              "      filter: drop-shadow(0px 1px 2px rgba(0, 0, 0, 0.3));\n",
              "      fill: #FFFFFF;\n",
              "    }\n",
              "  </style>\n",
              "\n",
              "      <script>\n",
              "        const buttonEl =\n",
              "          document.querySelector('#df-cf4e4e3b-f211-4659-8ce2-acbe1a3be0a0 button.colab-df-convert');\n",
              "        buttonEl.style.display =\n",
              "          google.colab.kernel.accessAllowed ? 'block' : 'none';\n",
              "\n",
              "        async function convertToInteractive(key) {\n",
              "          const element = document.querySelector('#df-cf4e4e3b-f211-4659-8ce2-acbe1a3be0a0');\n",
              "          const dataTable =\n",
              "            await google.colab.kernel.invokeFunction('convertToInteractive',\n",
              "                                                     [key], {});\n",
              "          if (!dataTable) return;\n",
              "\n",
              "          const docLinkHtml = 'Like what you see? Visit the ' +\n",
              "            '<a target=\"_blank\" href=https://colab.research.google.com/notebooks/data_table.ipynb>data table notebook</a>'\n",
              "            + ' to learn more about interactive tables.';\n",
              "          element.innerHTML = '';\n",
              "          dataTable['output_type'] = 'display_data';\n",
              "          await google.colab.output.renderOutput(dataTable, element);\n",
              "          const docLink = document.createElement('div');\n",
              "          docLink.innerHTML = docLinkHtml;\n",
              "          element.appendChild(docLink);\n",
              "        }\n",
              "      </script>\n",
              "    </div>\n",
              "  </div>\n",
              "  "
            ]
          },
          "metadata": {},
          "execution_count": 22
        }
      ]
    },
    {
      "cell_type": "code",
      "source": [
        "# remove outliers\n",
        "from scipy import stats\n",
        "print(train_df.shape)\n",
        "train_df_orig = train_df.copy()\n",
        "train_df = train_df[(np.abs(stats.zscore(train_df[num_feat])) < 3).all(axis=1)]\n",
        "print(train_df.shape)"
      ],
      "metadata": {
        "colab": {
          "base_uri": "https://localhost:8080/"
        },
        "id": "zOZMOQlhFG2m",
        "outputId": "1db294d3-6768-405a-b81c-47015c9218c2"
      },
      "execution_count": 23,
      "outputs": [
        {
          "output_type": "stream",
          "name": "stdout",
          "text": [
            "(8249, 11)\n",
            "(7943, 11)\n"
          ]
        }
      ]
    },
    {
      "cell_type": "code",
      "source": [
        "enc = OneHotEncoder(handle_unknown='ignore', drop = 'first')\n",
        "cat_cols = ['Location', 'Gender_of_customer']\n",
        "\n",
        "enc.fit(train_df[cat_cols])\n",
        "print(enc.categories_)\n",
        "\n",
        "cat_feat = enc.transform(train_df[cat_cols]).toarray()\n",
        "print(cat_feat)\n",
        "\n",
        "cat_df = pd.DataFrame(cat_feat)\n",
        "print(cat_df.shape)\n",
        "cat_df.head(1)"
      ],
      "metadata": {
        "colab": {
          "base_uri": "https://localhost:8080/",
          "height": 259
        },
        "id": "NbcSUA7KJOOp",
        "outputId": "2da33821-8ce2-47aa-ac68-691c7a262324"
      },
      "execution_count": 24,
      "outputs": [
        {
          "output_type": "stream",
          "name": "stdout",
          "text": [
            "[array(['Gachibowli', 'Hitech City', 'Khairtabad', 'Masab Tank',\n",
            "       'Secunderabad'], dtype=object), array(['F', 'M'], dtype=object)]\n",
            "[[0. 0. 0. 0. 0.]\n",
            " [1. 0. 0. 0. 1.]\n",
            " [0. 0. 0. 1. 1.]\n",
            " ...\n",
            " [0. 1. 0. 0. 0.]\n",
            " [1. 0. 0. 0. 1.]\n",
            " [0. 0. 0. 0. 0.]]\n",
            "(7943, 5)\n"
          ]
        },
        {
          "output_type": "execute_result",
          "data": {
            "text/plain": [
              "     0    1    2    3    4\n",
              "0  0.0  0.0  0.0  0.0  0.0"
            ],
            "text/html": [
              "\n",
              "  <div id=\"df-5ebd84d2-064d-45fa-a82e-c4ccc8031d7d\">\n",
              "    <div class=\"colab-df-container\">\n",
              "      <div>\n",
              "<style scoped>\n",
              "    .dataframe tbody tr th:only-of-type {\n",
              "        vertical-align: middle;\n",
              "    }\n",
              "\n",
              "    .dataframe tbody tr th {\n",
              "        vertical-align: top;\n",
              "    }\n",
              "\n",
              "    .dataframe thead th {\n",
              "        text-align: right;\n",
              "    }\n",
              "</style>\n",
              "<table border=\"1\" class=\"dataframe\">\n",
              "  <thead>\n",
              "    <tr style=\"text-align: right;\">\n",
              "      <th></th>\n",
              "      <th>0</th>\n",
              "      <th>1</th>\n",
              "      <th>2</th>\n",
              "      <th>3</th>\n",
              "      <th>4</th>\n",
              "    </tr>\n",
              "  </thead>\n",
              "  <tbody>\n",
              "    <tr>\n",
              "      <th>0</th>\n",
              "      <td>0.0</td>\n",
              "      <td>0.0</td>\n",
              "      <td>0.0</td>\n",
              "      <td>0.0</td>\n",
              "      <td>0.0</td>\n",
              "    </tr>\n",
              "  </tbody>\n",
              "</table>\n",
              "</div>\n",
              "      <button class=\"colab-df-convert\" onclick=\"convertToInteractive('df-5ebd84d2-064d-45fa-a82e-c4ccc8031d7d')\"\n",
              "              title=\"Convert this dataframe to an interactive table.\"\n",
              "              style=\"display:none;\">\n",
              "        \n",
              "  <svg xmlns=\"http://www.w3.org/2000/svg\" height=\"24px\"viewBox=\"0 0 24 24\"\n",
              "       width=\"24px\">\n",
              "    <path d=\"M0 0h24v24H0V0z\" fill=\"none\"/>\n",
              "    <path d=\"M18.56 5.44l.94 2.06.94-2.06 2.06-.94-2.06-.94-.94-2.06-.94 2.06-2.06.94zm-11 1L8.5 8.5l.94-2.06 2.06-.94-2.06-.94L8.5 2.5l-.94 2.06-2.06.94zm10 10l.94 2.06.94-2.06 2.06-.94-2.06-.94-.94-2.06-.94 2.06-2.06.94z\"/><path d=\"M17.41 7.96l-1.37-1.37c-.4-.4-.92-.59-1.43-.59-.52 0-1.04.2-1.43.59L10.3 9.45l-7.72 7.72c-.78.78-.78 2.05 0 2.83L4 21.41c.39.39.9.59 1.41.59.51 0 1.02-.2 1.41-.59l7.78-7.78 2.81-2.81c.8-.78.8-2.07 0-2.86zM5.41 20L4 18.59l7.72-7.72 1.47 1.35L5.41 20z\"/>\n",
              "  </svg>\n",
              "      </button>\n",
              "      \n",
              "  <style>\n",
              "    .colab-df-container {\n",
              "      display:flex;\n",
              "      flex-wrap:wrap;\n",
              "      gap: 12px;\n",
              "    }\n",
              "\n",
              "    .colab-df-convert {\n",
              "      background-color: #E8F0FE;\n",
              "      border: none;\n",
              "      border-radius: 50%;\n",
              "      cursor: pointer;\n",
              "      display: none;\n",
              "      fill: #1967D2;\n",
              "      height: 32px;\n",
              "      padding: 0 0 0 0;\n",
              "      width: 32px;\n",
              "    }\n",
              "\n",
              "    .colab-df-convert:hover {\n",
              "      background-color: #E2EBFA;\n",
              "      box-shadow: 0px 1px 2px rgba(60, 64, 67, 0.3), 0px 1px 3px 1px rgba(60, 64, 67, 0.15);\n",
              "      fill: #174EA6;\n",
              "    }\n",
              "\n",
              "    [theme=dark] .colab-df-convert {\n",
              "      background-color: #3B4455;\n",
              "      fill: #D2E3FC;\n",
              "    }\n",
              "\n",
              "    [theme=dark] .colab-df-convert:hover {\n",
              "      background-color: #434B5C;\n",
              "      box-shadow: 0px 1px 3px 1px rgba(0, 0, 0, 0.15);\n",
              "      filter: drop-shadow(0px 1px 2px rgba(0, 0, 0, 0.3));\n",
              "      fill: #FFFFFF;\n",
              "    }\n",
              "  </style>\n",
              "\n",
              "      <script>\n",
              "        const buttonEl =\n",
              "          document.querySelector('#df-5ebd84d2-064d-45fa-a82e-c4ccc8031d7d button.colab-df-convert');\n",
              "        buttonEl.style.display =\n",
              "          google.colab.kernel.accessAllowed ? 'block' : 'none';\n",
              "\n",
              "        async function convertToInteractive(key) {\n",
              "          const element = document.querySelector('#df-5ebd84d2-064d-45fa-a82e-c4ccc8031d7d');\n",
              "          const dataTable =\n",
              "            await google.colab.kernel.invokeFunction('convertToInteractive',\n",
              "                                                     [key], {});\n",
              "          if (!dataTable) return;\n",
              "\n",
              "          const docLinkHtml = 'Like what you see? Visit the ' +\n",
              "            '<a target=\"_blank\" href=https://colab.research.google.com/notebooks/data_table.ipynb>data table notebook</a>'\n",
              "            + ' to learn more about interactive tables.';\n",
              "          element.innerHTML = '';\n",
              "          dataTable['output_type'] = 'display_data';\n",
              "          await google.colab.output.renderOutput(dataTable, element);\n",
              "          const docLink = document.createElement('div');\n",
              "          docLink.innerHTML = docLinkHtml;\n",
              "          element.appendChild(docLink);\n",
              "        }\n",
              "      </script>\n",
              "    </div>\n",
              "  </div>\n",
              "  "
            ]
          },
          "metadata": {},
          "execution_count": 24
        }
      ]
    },
    {
      "cell_type": "code",
      "source": [
        "train_df[num_feat].describe()"
      ],
      "metadata": {
        "colab": {
          "base_uri": "https://localhost:8080/",
          "height": 364
        },
        "id": "bKi_bcwNF7lZ",
        "outputId": "99a4f877-2f8a-465c-b420-2205e138a95b"
      },
      "execution_count": 25,
      "outputs": [
        {
          "output_type": "execute_result",
          "data": {
            "text/plain": [
              "       Mode_of_delivery  Calls_to_customer_care  Rating_of_customer  \\\n",
              "count       7943.000000             7943.000000         7943.000000   \n",
              "mean           2.514289                4.051240            3.007050   \n",
              "std            0.757746                1.142798            1.222512   \n",
              "min            1.000000                2.000000            1.000000   \n",
              "25%            2.000000                3.000000            2.000000   \n",
              "50%            3.000000                4.000000            3.000000   \n",
              "75%            3.000000                5.000000            4.000000   \n",
              "max            3.000000                7.000000            5.000000   \n",
              "\n",
              "       Cost_of_food  Prior_purchases  Discount_offered  Weight_of_food_in_gms  \n",
              "count   7943.000000       7943.00000       7943.000000            7943.000000  \n",
              "mean     315.526312          3.34521         12.758404            3646.968148  \n",
              "std       71.924844          1.10295         15.280494            1641.892742  \n",
              "min      144.000000          2.00000          1.000000            1001.000000  \n",
              "25%      255.000000          3.00000          4.000000            1837.000000  \n",
              "50%      321.000000          3.00000          7.000000            4170.000000  \n",
              "75%      376.500000          4.00000         10.000000            5071.000000  \n",
              "max      465.000000          7.00000         62.000000            7846.000000  "
            ],
            "text/html": [
              "\n",
              "  <div id=\"df-00bbafda-e629-475f-8ed9-d30e0bf00d41\">\n",
              "    <div class=\"colab-df-container\">\n",
              "      <div>\n",
              "<style scoped>\n",
              "    .dataframe tbody tr th:only-of-type {\n",
              "        vertical-align: middle;\n",
              "    }\n",
              "\n",
              "    .dataframe tbody tr th {\n",
              "        vertical-align: top;\n",
              "    }\n",
              "\n",
              "    .dataframe thead th {\n",
              "        text-align: right;\n",
              "    }\n",
              "</style>\n",
              "<table border=\"1\" class=\"dataframe\">\n",
              "  <thead>\n",
              "    <tr style=\"text-align: right;\">\n",
              "      <th></th>\n",
              "      <th>Mode_of_delivery</th>\n",
              "      <th>Calls_to_customer_care</th>\n",
              "      <th>Rating_of_customer</th>\n",
              "      <th>Cost_of_food</th>\n",
              "      <th>Prior_purchases</th>\n",
              "      <th>Discount_offered</th>\n",
              "      <th>Weight_of_food_in_gms</th>\n",
              "    </tr>\n",
              "  </thead>\n",
              "  <tbody>\n",
              "    <tr>\n",
              "      <th>count</th>\n",
              "      <td>7943.000000</td>\n",
              "      <td>7943.000000</td>\n",
              "      <td>7943.000000</td>\n",
              "      <td>7943.000000</td>\n",
              "      <td>7943.00000</td>\n",
              "      <td>7943.000000</td>\n",
              "      <td>7943.000000</td>\n",
              "    </tr>\n",
              "    <tr>\n",
              "      <th>mean</th>\n",
              "      <td>2.514289</td>\n",
              "      <td>4.051240</td>\n",
              "      <td>3.007050</td>\n",
              "      <td>315.526312</td>\n",
              "      <td>3.34521</td>\n",
              "      <td>12.758404</td>\n",
              "      <td>3646.968148</td>\n",
              "    </tr>\n",
              "    <tr>\n",
              "      <th>std</th>\n",
              "      <td>0.757746</td>\n",
              "      <td>1.142798</td>\n",
              "      <td>1.222512</td>\n",
              "      <td>71.924844</td>\n",
              "      <td>1.10295</td>\n",
              "      <td>15.280494</td>\n",
              "      <td>1641.892742</td>\n",
              "    </tr>\n",
              "    <tr>\n",
              "      <th>min</th>\n",
              "      <td>1.000000</td>\n",
              "      <td>2.000000</td>\n",
              "      <td>1.000000</td>\n",
              "      <td>144.000000</td>\n",
              "      <td>2.00000</td>\n",
              "      <td>1.000000</td>\n",
              "      <td>1001.000000</td>\n",
              "    </tr>\n",
              "    <tr>\n",
              "      <th>25%</th>\n",
              "      <td>2.000000</td>\n",
              "      <td>3.000000</td>\n",
              "      <td>2.000000</td>\n",
              "      <td>255.000000</td>\n",
              "      <td>3.00000</td>\n",
              "      <td>4.000000</td>\n",
              "      <td>1837.000000</td>\n",
              "    </tr>\n",
              "    <tr>\n",
              "      <th>50%</th>\n",
              "      <td>3.000000</td>\n",
              "      <td>4.000000</td>\n",
              "      <td>3.000000</td>\n",
              "      <td>321.000000</td>\n",
              "      <td>3.00000</td>\n",
              "      <td>7.000000</td>\n",
              "      <td>4170.000000</td>\n",
              "    </tr>\n",
              "    <tr>\n",
              "      <th>75%</th>\n",
              "      <td>3.000000</td>\n",
              "      <td>5.000000</td>\n",
              "      <td>4.000000</td>\n",
              "      <td>376.500000</td>\n",
              "      <td>4.00000</td>\n",
              "      <td>10.000000</td>\n",
              "      <td>5071.000000</td>\n",
              "    </tr>\n",
              "    <tr>\n",
              "      <th>max</th>\n",
              "      <td>3.000000</td>\n",
              "      <td>7.000000</td>\n",
              "      <td>5.000000</td>\n",
              "      <td>465.000000</td>\n",
              "      <td>7.00000</td>\n",
              "      <td>62.000000</td>\n",
              "      <td>7846.000000</td>\n",
              "    </tr>\n",
              "  </tbody>\n",
              "</table>\n",
              "</div>\n",
              "      <button class=\"colab-df-convert\" onclick=\"convertToInteractive('df-00bbafda-e629-475f-8ed9-d30e0bf00d41')\"\n",
              "              title=\"Convert this dataframe to an interactive table.\"\n",
              "              style=\"display:none;\">\n",
              "        \n",
              "  <svg xmlns=\"http://www.w3.org/2000/svg\" height=\"24px\"viewBox=\"0 0 24 24\"\n",
              "       width=\"24px\">\n",
              "    <path d=\"M0 0h24v24H0V0z\" fill=\"none\"/>\n",
              "    <path d=\"M18.56 5.44l.94 2.06.94-2.06 2.06-.94-2.06-.94-.94-2.06-.94 2.06-2.06.94zm-11 1L8.5 8.5l.94-2.06 2.06-.94-2.06-.94L8.5 2.5l-.94 2.06-2.06.94zm10 10l.94 2.06.94-2.06 2.06-.94-2.06-.94-.94-2.06-.94 2.06-2.06.94z\"/><path d=\"M17.41 7.96l-1.37-1.37c-.4-.4-.92-.59-1.43-.59-.52 0-1.04.2-1.43.59L10.3 9.45l-7.72 7.72c-.78.78-.78 2.05 0 2.83L4 21.41c.39.39.9.59 1.41.59.51 0 1.02-.2 1.41-.59l7.78-7.78 2.81-2.81c.8-.78.8-2.07 0-2.86zM5.41 20L4 18.59l7.72-7.72 1.47 1.35L5.41 20z\"/>\n",
              "  </svg>\n",
              "      </button>\n",
              "      \n",
              "  <style>\n",
              "    .colab-df-container {\n",
              "      display:flex;\n",
              "      flex-wrap:wrap;\n",
              "      gap: 12px;\n",
              "    }\n",
              "\n",
              "    .colab-df-convert {\n",
              "      background-color: #E8F0FE;\n",
              "      border: none;\n",
              "      border-radius: 50%;\n",
              "      cursor: pointer;\n",
              "      display: none;\n",
              "      fill: #1967D2;\n",
              "      height: 32px;\n",
              "      padding: 0 0 0 0;\n",
              "      width: 32px;\n",
              "    }\n",
              "\n",
              "    .colab-df-convert:hover {\n",
              "      background-color: #E2EBFA;\n",
              "      box-shadow: 0px 1px 2px rgba(60, 64, 67, 0.3), 0px 1px 3px 1px rgba(60, 64, 67, 0.15);\n",
              "      fill: #174EA6;\n",
              "    }\n",
              "\n",
              "    [theme=dark] .colab-df-convert {\n",
              "      background-color: #3B4455;\n",
              "      fill: #D2E3FC;\n",
              "    }\n",
              "\n",
              "    [theme=dark] .colab-df-convert:hover {\n",
              "      background-color: #434B5C;\n",
              "      box-shadow: 0px 1px 3px 1px rgba(0, 0, 0, 0.15);\n",
              "      filter: drop-shadow(0px 1px 2px rgba(0, 0, 0, 0.3));\n",
              "      fill: #FFFFFF;\n",
              "    }\n",
              "  </style>\n",
              "\n",
              "      <script>\n",
              "        const buttonEl =\n",
              "          document.querySelector('#df-00bbafda-e629-475f-8ed9-d30e0bf00d41 button.colab-df-convert');\n",
              "        buttonEl.style.display =\n",
              "          google.colab.kernel.accessAllowed ? 'block' : 'none';\n",
              "\n",
              "        async function convertToInteractive(key) {\n",
              "          const element = document.querySelector('#df-00bbafda-e629-475f-8ed9-d30e0bf00d41');\n",
              "          const dataTable =\n",
              "            await google.colab.kernel.invokeFunction('convertToInteractive',\n",
              "                                                     [key], {});\n",
              "          if (!dataTable) return;\n",
              "\n",
              "          const docLinkHtml = 'Like what you see? Visit the ' +\n",
              "            '<a target=\"_blank\" href=https://colab.research.google.com/notebooks/data_table.ipynb>data table notebook</a>'\n",
              "            + ' to learn more about interactive tables.';\n",
              "          element.innerHTML = '';\n",
              "          dataTable['output_type'] = 'display_data';\n",
              "          await google.colab.output.renderOutput(dataTable, element);\n",
              "          const docLink = document.createElement('div');\n",
              "          docLink.innerHTML = docLinkHtml;\n",
              "          element.appendChild(docLink);\n",
              "        }\n",
              "      </script>\n",
              "    </div>\n",
              "  </div>\n",
              "  "
            ]
          },
          "metadata": {},
          "execution_count": 25
        }
      ]
    },
    {
      "cell_type": "code",
      "source": [
        "# scaling\n",
        "from sklearn.preprocessing import StandardScaler\n",
        "\n",
        "ss = StandardScaler()\n",
        "\n",
        "train_df[num_feat] = ss.fit_transform(train_df[num_feat])\n",
        "\n",
        "train_df[num_feat].describe()"
      ],
      "metadata": {
        "colab": {
          "base_uri": "https://localhost:8080/",
          "height": 364
        },
        "id": "GNuuouCTFeyi",
        "outputId": "fabbc64f-4d6f-4481-a2dd-16e6d40d7c31"
      },
      "execution_count": 26,
      "outputs": [
        {
          "output_type": "execute_result",
          "data": {
            "text/plain": [
              "       Mode_of_delivery  Calls_to_customer_care  Rating_of_customer  \\\n",
              "count      7.943000e+03            7.943000e+03        7.943000e+03   \n",
              "mean       1.789104e-18            3.864465e-16       -9.929528e-17   \n",
              "std        1.000063e+00            1.000063e+00        1.000063e+00   \n",
              "min       -1.998539e+00           -1.795041e+00       -1.641846e+00   \n",
              "25%       -6.787522e-01           -9.199408e-01       -8.238066e-01   \n",
              "50%        6.410345e-01           -4.484023e-02       -5.767367e-03   \n",
              "75%        6.410345e-01            8.302604e-01        8.122719e-01   \n",
              "max        6.410345e-01            2.580462e+00        1.630311e+00   \n",
              "\n",
              "       Cost_of_food  Prior_purchases  Discount_offered  Weight_of_food_in_gms  \n",
              "count  7.943000e+03     7.943000e+03      7.943000e+03           7.943000e+03  \n",
              "mean  -2.862567e-17    -2.862567e-17     -2.862567e-17          -2.862567e-17  \n",
              "std    1.000063e+00     1.000063e+00      1.000063e+00           1.000063e+00  \n",
              "min   -2.384949e+00    -1.219724e+00     -7.695526e-01          -1.611637e+00  \n",
              "25%   -8.415746e-01    -3.130072e-01     -5.732115e-01          -1.102436e+00  \n",
              "50%    7.610767e-02    -3.130072e-01     -3.768704e-01           3.185743e-01  \n",
              "75%    8.477950e-01     5.937092e-01     -1.805293e-01           8.673657e-01  \n",
              "max    2.078324e+00     3.313858e+00      3.222716e+00           2.557595e+00  "
            ],
            "text/html": [
              "\n",
              "  <div id=\"df-ca43e929-56dd-4b23-bcea-210d012b5f41\">\n",
              "    <div class=\"colab-df-container\">\n",
              "      <div>\n",
              "<style scoped>\n",
              "    .dataframe tbody tr th:only-of-type {\n",
              "        vertical-align: middle;\n",
              "    }\n",
              "\n",
              "    .dataframe tbody tr th {\n",
              "        vertical-align: top;\n",
              "    }\n",
              "\n",
              "    .dataframe thead th {\n",
              "        text-align: right;\n",
              "    }\n",
              "</style>\n",
              "<table border=\"1\" class=\"dataframe\">\n",
              "  <thead>\n",
              "    <tr style=\"text-align: right;\">\n",
              "      <th></th>\n",
              "      <th>Mode_of_delivery</th>\n",
              "      <th>Calls_to_customer_care</th>\n",
              "      <th>Rating_of_customer</th>\n",
              "      <th>Cost_of_food</th>\n",
              "      <th>Prior_purchases</th>\n",
              "      <th>Discount_offered</th>\n",
              "      <th>Weight_of_food_in_gms</th>\n",
              "    </tr>\n",
              "  </thead>\n",
              "  <tbody>\n",
              "    <tr>\n",
              "      <th>count</th>\n",
              "      <td>7.943000e+03</td>\n",
              "      <td>7.943000e+03</td>\n",
              "      <td>7.943000e+03</td>\n",
              "      <td>7.943000e+03</td>\n",
              "      <td>7.943000e+03</td>\n",
              "      <td>7.943000e+03</td>\n",
              "      <td>7.943000e+03</td>\n",
              "    </tr>\n",
              "    <tr>\n",
              "      <th>mean</th>\n",
              "      <td>1.789104e-18</td>\n",
              "      <td>3.864465e-16</td>\n",
              "      <td>-9.929528e-17</td>\n",
              "      <td>-2.862567e-17</td>\n",
              "      <td>-2.862567e-17</td>\n",
              "      <td>-2.862567e-17</td>\n",
              "      <td>-2.862567e-17</td>\n",
              "    </tr>\n",
              "    <tr>\n",
              "      <th>std</th>\n",
              "      <td>1.000063e+00</td>\n",
              "      <td>1.000063e+00</td>\n",
              "      <td>1.000063e+00</td>\n",
              "      <td>1.000063e+00</td>\n",
              "      <td>1.000063e+00</td>\n",
              "      <td>1.000063e+00</td>\n",
              "      <td>1.000063e+00</td>\n",
              "    </tr>\n",
              "    <tr>\n",
              "      <th>min</th>\n",
              "      <td>-1.998539e+00</td>\n",
              "      <td>-1.795041e+00</td>\n",
              "      <td>-1.641846e+00</td>\n",
              "      <td>-2.384949e+00</td>\n",
              "      <td>-1.219724e+00</td>\n",
              "      <td>-7.695526e-01</td>\n",
              "      <td>-1.611637e+00</td>\n",
              "    </tr>\n",
              "    <tr>\n",
              "      <th>25%</th>\n",
              "      <td>-6.787522e-01</td>\n",
              "      <td>-9.199408e-01</td>\n",
              "      <td>-8.238066e-01</td>\n",
              "      <td>-8.415746e-01</td>\n",
              "      <td>-3.130072e-01</td>\n",
              "      <td>-5.732115e-01</td>\n",
              "      <td>-1.102436e+00</td>\n",
              "    </tr>\n",
              "    <tr>\n",
              "      <th>50%</th>\n",
              "      <td>6.410345e-01</td>\n",
              "      <td>-4.484023e-02</td>\n",
              "      <td>-5.767367e-03</td>\n",
              "      <td>7.610767e-02</td>\n",
              "      <td>-3.130072e-01</td>\n",
              "      <td>-3.768704e-01</td>\n",
              "      <td>3.185743e-01</td>\n",
              "    </tr>\n",
              "    <tr>\n",
              "      <th>75%</th>\n",
              "      <td>6.410345e-01</td>\n",
              "      <td>8.302604e-01</td>\n",
              "      <td>8.122719e-01</td>\n",
              "      <td>8.477950e-01</td>\n",
              "      <td>5.937092e-01</td>\n",
              "      <td>-1.805293e-01</td>\n",
              "      <td>8.673657e-01</td>\n",
              "    </tr>\n",
              "    <tr>\n",
              "      <th>max</th>\n",
              "      <td>6.410345e-01</td>\n",
              "      <td>2.580462e+00</td>\n",
              "      <td>1.630311e+00</td>\n",
              "      <td>2.078324e+00</td>\n",
              "      <td>3.313858e+00</td>\n",
              "      <td>3.222716e+00</td>\n",
              "      <td>2.557595e+00</td>\n",
              "    </tr>\n",
              "  </tbody>\n",
              "</table>\n",
              "</div>\n",
              "      <button class=\"colab-df-convert\" onclick=\"convertToInteractive('df-ca43e929-56dd-4b23-bcea-210d012b5f41')\"\n",
              "              title=\"Convert this dataframe to an interactive table.\"\n",
              "              style=\"display:none;\">\n",
              "        \n",
              "  <svg xmlns=\"http://www.w3.org/2000/svg\" height=\"24px\"viewBox=\"0 0 24 24\"\n",
              "       width=\"24px\">\n",
              "    <path d=\"M0 0h24v24H0V0z\" fill=\"none\"/>\n",
              "    <path d=\"M18.56 5.44l.94 2.06.94-2.06 2.06-.94-2.06-.94-.94-2.06-.94 2.06-2.06.94zm-11 1L8.5 8.5l.94-2.06 2.06-.94-2.06-.94L8.5 2.5l-.94 2.06-2.06.94zm10 10l.94 2.06.94-2.06 2.06-.94-2.06-.94-.94-2.06-.94 2.06-2.06.94z\"/><path d=\"M17.41 7.96l-1.37-1.37c-.4-.4-.92-.59-1.43-.59-.52 0-1.04.2-1.43.59L10.3 9.45l-7.72 7.72c-.78.78-.78 2.05 0 2.83L4 21.41c.39.39.9.59 1.41.59.51 0 1.02-.2 1.41-.59l7.78-7.78 2.81-2.81c.8-.78.8-2.07 0-2.86zM5.41 20L4 18.59l7.72-7.72 1.47 1.35L5.41 20z\"/>\n",
              "  </svg>\n",
              "      </button>\n",
              "      \n",
              "  <style>\n",
              "    .colab-df-container {\n",
              "      display:flex;\n",
              "      flex-wrap:wrap;\n",
              "      gap: 12px;\n",
              "    }\n",
              "\n",
              "    .colab-df-convert {\n",
              "      background-color: #E8F0FE;\n",
              "      border: none;\n",
              "      border-radius: 50%;\n",
              "      cursor: pointer;\n",
              "      display: none;\n",
              "      fill: #1967D2;\n",
              "      height: 32px;\n",
              "      padding: 0 0 0 0;\n",
              "      width: 32px;\n",
              "    }\n",
              "\n",
              "    .colab-df-convert:hover {\n",
              "      background-color: #E2EBFA;\n",
              "      box-shadow: 0px 1px 2px rgba(60, 64, 67, 0.3), 0px 1px 3px 1px rgba(60, 64, 67, 0.15);\n",
              "      fill: #174EA6;\n",
              "    }\n",
              "\n",
              "    [theme=dark] .colab-df-convert {\n",
              "      background-color: #3B4455;\n",
              "      fill: #D2E3FC;\n",
              "    }\n",
              "\n",
              "    [theme=dark] .colab-df-convert:hover {\n",
              "      background-color: #434B5C;\n",
              "      box-shadow: 0px 1px 3px 1px rgba(0, 0, 0, 0.15);\n",
              "      filter: drop-shadow(0px 1px 2px rgba(0, 0, 0, 0.3));\n",
              "      fill: #FFFFFF;\n",
              "    }\n",
              "  </style>\n",
              "\n",
              "      <script>\n",
              "        const buttonEl =\n",
              "          document.querySelector('#df-ca43e929-56dd-4b23-bcea-210d012b5f41 button.colab-df-convert');\n",
              "        buttonEl.style.display =\n",
              "          google.colab.kernel.accessAllowed ? 'block' : 'none';\n",
              "\n",
              "        async function convertToInteractive(key) {\n",
              "          const element = document.querySelector('#df-ca43e929-56dd-4b23-bcea-210d012b5f41');\n",
              "          const dataTable =\n",
              "            await google.colab.kernel.invokeFunction('convertToInteractive',\n",
              "                                                     [key], {});\n",
              "          if (!dataTable) return;\n",
              "\n",
              "          const docLinkHtml = 'Like what you see? Visit the ' +\n",
              "            '<a target=\"_blank\" href=https://colab.research.google.com/notebooks/data_table.ipynb>data table notebook</a>'\n",
              "            + ' to learn more about interactive tables.';\n",
              "          element.innerHTML = '';\n",
              "          dataTable['output_type'] = 'display_data';\n",
              "          await google.colab.output.renderOutput(dataTable, element);\n",
              "          const docLink = document.createElement('div');\n",
              "          docLink.innerHTML = docLinkHtml;\n",
              "          element.appendChild(docLink);\n",
              "        }\n",
              "      </script>\n",
              "    </div>\n",
              "  </div>\n",
              "  "
            ]
          },
          "metadata": {},
          "execution_count": 26
        }
      ]
    },
    {
      "cell_type": "code",
      "source": [
        "print(train_df.shape)\n",
        "train_df.head(1)"
      ],
      "metadata": {
        "colab": {
          "base_uri": "https://localhost:8080/",
          "height": 163
        },
        "id": "YQPnkT50GC0D",
        "outputId": "49723f3e-3a91-4336-ae97-d2669fb779d4"
      },
      "execution_count": 27,
      "outputs": [
        {
          "output_type": "stream",
          "name": "stdout",
          "text": [
            "(7943, 11)\n"
          ]
        },
        {
          "output_type": "execute_result",
          "data": {
            "text/plain": [
              "   ID    Location  Mode_of_delivery  Calls_to_customer_care  \\\n",
              "0   1  Gachibowli         -0.678752                -0.04484   \n",
              "\n",
              "   Rating_of_customer  Cost_of_food  Prior_purchases Gender_of_customer  \\\n",
              "0           -0.823807      -0.69558        -0.313007                  F   \n",
              "\n",
              "   Discount_offered  Weight_of_food_in_gms  Reached_on_time  \n",
              "0           2.04467              -1.470328                1  "
            ],
            "text/html": [
              "\n",
              "  <div id=\"df-26bea2c2-fdb8-4e4c-9513-c26fdc817c0b\">\n",
              "    <div class=\"colab-df-container\">\n",
              "      <div>\n",
              "<style scoped>\n",
              "    .dataframe tbody tr th:only-of-type {\n",
              "        vertical-align: middle;\n",
              "    }\n",
              "\n",
              "    .dataframe tbody tr th {\n",
              "        vertical-align: top;\n",
              "    }\n",
              "\n",
              "    .dataframe thead th {\n",
              "        text-align: right;\n",
              "    }\n",
              "</style>\n",
              "<table border=\"1\" class=\"dataframe\">\n",
              "  <thead>\n",
              "    <tr style=\"text-align: right;\">\n",
              "      <th></th>\n",
              "      <th>ID</th>\n",
              "      <th>Location</th>\n",
              "      <th>Mode_of_delivery</th>\n",
              "      <th>Calls_to_customer_care</th>\n",
              "      <th>Rating_of_customer</th>\n",
              "      <th>Cost_of_food</th>\n",
              "      <th>Prior_purchases</th>\n",
              "      <th>Gender_of_customer</th>\n",
              "      <th>Discount_offered</th>\n",
              "      <th>Weight_of_food_in_gms</th>\n",
              "      <th>Reached_on_time</th>\n",
              "    </tr>\n",
              "  </thead>\n",
              "  <tbody>\n",
              "    <tr>\n",
              "      <th>0</th>\n",
              "      <td>1</td>\n",
              "      <td>Gachibowli</td>\n",
              "      <td>-0.678752</td>\n",
              "      <td>-0.04484</td>\n",
              "      <td>-0.823807</td>\n",
              "      <td>-0.69558</td>\n",
              "      <td>-0.313007</td>\n",
              "      <td>F</td>\n",
              "      <td>2.04467</td>\n",
              "      <td>-1.470328</td>\n",
              "      <td>1</td>\n",
              "    </tr>\n",
              "  </tbody>\n",
              "</table>\n",
              "</div>\n",
              "      <button class=\"colab-df-convert\" onclick=\"convertToInteractive('df-26bea2c2-fdb8-4e4c-9513-c26fdc817c0b')\"\n",
              "              title=\"Convert this dataframe to an interactive table.\"\n",
              "              style=\"display:none;\">\n",
              "        \n",
              "  <svg xmlns=\"http://www.w3.org/2000/svg\" height=\"24px\"viewBox=\"0 0 24 24\"\n",
              "       width=\"24px\">\n",
              "    <path d=\"M0 0h24v24H0V0z\" fill=\"none\"/>\n",
              "    <path d=\"M18.56 5.44l.94 2.06.94-2.06 2.06-.94-2.06-.94-.94-2.06-.94 2.06-2.06.94zm-11 1L8.5 8.5l.94-2.06 2.06-.94-2.06-.94L8.5 2.5l-.94 2.06-2.06.94zm10 10l.94 2.06.94-2.06 2.06-.94-2.06-.94-.94-2.06-.94 2.06-2.06.94z\"/><path d=\"M17.41 7.96l-1.37-1.37c-.4-.4-.92-.59-1.43-.59-.52 0-1.04.2-1.43.59L10.3 9.45l-7.72 7.72c-.78.78-.78 2.05 0 2.83L4 21.41c.39.39.9.59 1.41.59.51 0 1.02-.2 1.41-.59l7.78-7.78 2.81-2.81c.8-.78.8-2.07 0-2.86zM5.41 20L4 18.59l7.72-7.72 1.47 1.35L5.41 20z\"/>\n",
              "  </svg>\n",
              "      </button>\n",
              "      \n",
              "  <style>\n",
              "    .colab-df-container {\n",
              "      display:flex;\n",
              "      flex-wrap:wrap;\n",
              "      gap: 12px;\n",
              "    }\n",
              "\n",
              "    .colab-df-convert {\n",
              "      background-color: #E8F0FE;\n",
              "      border: none;\n",
              "      border-radius: 50%;\n",
              "      cursor: pointer;\n",
              "      display: none;\n",
              "      fill: #1967D2;\n",
              "      height: 32px;\n",
              "      padding: 0 0 0 0;\n",
              "      width: 32px;\n",
              "    }\n",
              "\n",
              "    .colab-df-convert:hover {\n",
              "      background-color: #E2EBFA;\n",
              "      box-shadow: 0px 1px 2px rgba(60, 64, 67, 0.3), 0px 1px 3px 1px rgba(60, 64, 67, 0.15);\n",
              "      fill: #174EA6;\n",
              "    }\n",
              "\n",
              "    [theme=dark] .colab-df-convert {\n",
              "      background-color: #3B4455;\n",
              "      fill: #D2E3FC;\n",
              "    }\n",
              "\n",
              "    [theme=dark] .colab-df-convert:hover {\n",
              "      background-color: #434B5C;\n",
              "      box-shadow: 0px 1px 3px 1px rgba(0, 0, 0, 0.15);\n",
              "      filter: drop-shadow(0px 1px 2px rgba(0, 0, 0, 0.3));\n",
              "      fill: #FFFFFF;\n",
              "    }\n",
              "  </style>\n",
              "\n",
              "      <script>\n",
              "        const buttonEl =\n",
              "          document.querySelector('#df-26bea2c2-fdb8-4e4c-9513-c26fdc817c0b button.colab-df-convert');\n",
              "        buttonEl.style.display =\n",
              "          google.colab.kernel.accessAllowed ? 'block' : 'none';\n",
              "\n",
              "        async function convertToInteractive(key) {\n",
              "          const element = document.querySelector('#df-26bea2c2-fdb8-4e4c-9513-c26fdc817c0b');\n",
              "          const dataTable =\n",
              "            await google.colab.kernel.invokeFunction('convertToInteractive',\n",
              "                                                     [key], {});\n",
              "          if (!dataTable) return;\n",
              "\n",
              "          const docLinkHtml = 'Like what you see? Visit the ' +\n",
              "            '<a target=\"_blank\" href=https://colab.research.google.com/notebooks/data_table.ipynb>data table notebook</a>'\n",
              "            + ' to learn more about interactive tables.';\n",
              "          element.innerHTML = '';\n",
              "          dataTable['output_type'] = 'display_data';\n",
              "          await google.colab.output.renderOutput(dataTable, element);\n",
              "          const docLink = document.createElement('div');\n",
              "          docLink.innerHTML = docLinkHtml;\n",
              "          element.appendChild(docLink);\n",
              "        }\n",
              "      </script>\n",
              "    </div>\n",
              "  </div>\n",
              "  "
            ]
          },
          "metadata": {},
          "execution_count": 27
        }
      ]
    },
    {
      "cell_type": "code",
      "source": [
        "from sklearn.decomposition import PCA\n",
        "pca = PCA(n_components=7, svd_solver='full')\n",
        "pca.fit(train_df[num_feat])\n",
        "print(pca.explained_variance_ratio_)"
      ],
      "metadata": {
        "colab": {
          "base_uri": "https://localhost:8080/"
        },
        "id": "1p17xUnUWQOk",
        "outputId": "21bbad9d-9166-4cfc-8312-cd233a8b6b7b"
      },
      "execution_count": 28,
      "outputs": [
        {
          "output_type": "stream",
          "name": "stdout",
          "text": [
            "[0.24435505 0.19262897 0.14377503 0.14191728 0.11784398 0.09571223\n",
            " 0.06376746]\n"
          ]
        }
      ]
    },
    {
      "cell_type": "code",
      "source": [
        "print(train_df[num_feat].shape, cat_df.shape)\n",
        "x_train = pd.concat([train_df[num_feat].reset_index(drop=True), cat_df.reset_index(drop=True)], axis=1)\n",
        "print(x_train.shape)\n",
        "x_train.head(1)"
      ],
      "metadata": {
        "colab": {
          "base_uri": "https://localhost:8080/",
          "height": 180
        },
        "id": "0hmPyAfyH0Tz",
        "outputId": "2f764a83-6e65-4add-88d5-9fa7f0c52abc"
      },
      "execution_count": 29,
      "outputs": [
        {
          "output_type": "stream",
          "name": "stdout",
          "text": [
            "(7943, 7) (7943, 5)\n",
            "(7943, 12)\n"
          ]
        },
        {
          "output_type": "execute_result",
          "data": {
            "text/plain": [
              "   Mode_of_delivery  Calls_to_customer_care  Rating_of_customer  Cost_of_food  \\\n",
              "0         -0.678752                -0.04484           -0.823807      -0.69558   \n",
              "\n",
              "   Prior_purchases  Discount_offered  Weight_of_food_in_gms    0    1    2  \\\n",
              "0        -0.313007           2.04467              -1.470328  0.0  0.0  0.0   \n",
              "\n",
              "     3    4  \n",
              "0  0.0  0.0  "
            ],
            "text/html": [
              "\n",
              "  <div id=\"df-3794a918-34a4-4d5d-8f28-cfb5f122486f\">\n",
              "    <div class=\"colab-df-container\">\n",
              "      <div>\n",
              "<style scoped>\n",
              "    .dataframe tbody tr th:only-of-type {\n",
              "        vertical-align: middle;\n",
              "    }\n",
              "\n",
              "    .dataframe tbody tr th {\n",
              "        vertical-align: top;\n",
              "    }\n",
              "\n",
              "    .dataframe thead th {\n",
              "        text-align: right;\n",
              "    }\n",
              "</style>\n",
              "<table border=\"1\" class=\"dataframe\">\n",
              "  <thead>\n",
              "    <tr style=\"text-align: right;\">\n",
              "      <th></th>\n",
              "      <th>Mode_of_delivery</th>\n",
              "      <th>Calls_to_customer_care</th>\n",
              "      <th>Rating_of_customer</th>\n",
              "      <th>Cost_of_food</th>\n",
              "      <th>Prior_purchases</th>\n",
              "      <th>Discount_offered</th>\n",
              "      <th>Weight_of_food_in_gms</th>\n",
              "      <th>0</th>\n",
              "      <th>1</th>\n",
              "      <th>2</th>\n",
              "      <th>3</th>\n",
              "      <th>4</th>\n",
              "    </tr>\n",
              "  </thead>\n",
              "  <tbody>\n",
              "    <tr>\n",
              "      <th>0</th>\n",
              "      <td>-0.678752</td>\n",
              "      <td>-0.04484</td>\n",
              "      <td>-0.823807</td>\n",
              "      <td>-0.69558</td>\n",
              "      <td>-0.313007</td>\n",
              "      <td>2.04467</td>\n",
              "      <td>-1.470328</td>\n",
              "      <td>0.0</td>\n",
              "      <td>0.0</td>\n",
              "      <td>0.0</td>\n",
              "      <td>0.0</td>\n",
              "      <td>0.0</td>\n",
              "    </tr>\n",
              "  </tbody>\n",
              "</table>\n",
              "</div>\n",
              "      <button class=\"colab-df-convert\" onclick=\"convertToInteractive('df-3794a918-34a4-4d5d-8f28-cfb5f122486f')\"\n",
              "              title=\"Convert this dataframe to an interactive table.\"\n",
              "              style=\"display:none;\">\n",
              "        \n",
              "  <svg xmlns=\"http://www.w3.org/2000/svg\" height=\"24px\"viewBox=\"0 0 24 24\"\n",
              "       width=\"24px\">\n",
              "    <path d=\"M0 0h24v24H0V0z\" fill=\"none\"/>\n",
              "    <path d=\"M18.56 5.44l.94 2.06.94-2.06 2.06-.94-2.06-.94-.94-2.06-.94 2.06-2.06.94zm-11 1L8.5 8.5l.94-2.06 2.06-.94-2.06-.94L8.5 2.5l-.94 2.06-2.06.94zm10 10l.94 2.06.94-2.06 2.06-.94-2.06-.94-.94-2.06-.94 2.06-2.06.94z\"/><path d=\"M17.41 7.96l-1.37-1.37c-.4-.4-.92-.59-1.43-.59-.52 0-1.04.2-1.43.59L10.3 9.45l-7.72 7.72c-.78.78-.78 2.05 0 2.83L4 21.41c.39.39.9.59 1.41.59.51 0 1.02-.2 1.41-.59l7.78-7.78 2.81-2.81c.8-.78.8-2.07 0-2.86zM5.41 20L4 18.59l7.72-7.72 1.47 1.35L5.41 20z\"/>\n",
              "  </svg>\n",
              "      </button>\n",
              "      \n",
              "  <style>\n",
              "    .colab-df-container {\n",
              "      display:flex;\n",
              "      flex-wrap:wrap;\n",
              "      gap: 12px;\n",
              "    }\n",
              "\n",
              "    .colab-df-convert {\n",
              "      background-color: #E8F0FE;\n",
              "      border: none;\n",
              "      border-radius: 50%;\n",
              "      cursor: pointer;\n",
              "      display: none;\n",
              "      fill: #1967D2;\n",
              "      height: 32px;\n",
              "      padding: 0 0 0 0;\n",
              "      width: 32px;\n",
              "    }\n",
              "\n",
              "    .colab-df-convert:hover {\n",
              "      background-color: #E2EBFA;\n",
              "      box-shadow: 0px 1px 2px rgba(60, 64, 67, 0.3), 0px 1px 3px 1px rgba(60, 64, 67, 0.15);\n",
              "      fill: #174EA6;\n",
              "    }\n",
              "\n",
              "    [theme=dark] .colab-df-convert {\n",
              "      background-color: #3B4455;\n",
              "      fill: #D2E3FC;\n",
              "    }\n",
              "\n",
              "    [theme=dark] .colab-df-convert:hover {\n",
              "      background-color: #434B5C;\n",
              "      box-shadow: 0px 1px 3px 1px rgba(0, 0, 0, 0.15);\n",
              "      filter: drop-shadow(0px 1px 2px rgba(0, 0, 0, 0.3));\n",
              "      fill: #FFFFFF;\n",
              "    }\n",
              "  </style>\n",
              "\n",
              "      <script>\n",
              "        const buttonEl =\n",
              "          document.querySelector('#df-3794a918-34a4-4d5d-8f28-cfb5f122486f button.colab-df-convert');\n",
              "        buttonEl.style.display =\n",
              "          google.colab.kernel.accessAllowed ? 'block' : 'none';\n",
              "\n",
              "        async function convertToInteractive(key) {\n",
              "          const element = document.querySelector('#df-3794a918-34a4-4d5d-8f28-cfb5f122486f');\n",
              "          const dataTable =\n",
              "            await google.colab.kernel.invokeFunction('convertToInteractive',\n",
              "                                                     [key], {});\n",
              "          if (!dataTable) return;\n",
              "\n",
              "          const docLinkHtml = 'Like what you see? Visit the ' +\n",
              "            '<a target=\"_blank\" href=https://colab.research.google.com/notebooks/data_table.ipynb>data table notebook</a>'\n",
              "            + ' to learn more about interactive tables.';\n",
              "          element.innerHTML = '';\n",
              "          dataTable['output_type'] = 'display_data';\n",
              "          await google.colab.output.renderOutput(dataTable, element);\n",
              "          const docLink = document.createElement('div');\n",
              "          docLink.innerHTML = docLinkHtml;\n",
              "          element.appendChild(docLink);\n",
              "        }\n",
              "      </script>\n",
              "    </div>\n",
              "  </div>\n",
              "  "
            ]
          },
          "metadata": {},
          "execution_count": 29
        }
      ]
    },
    {
      "cell_type": "code",
      "source": [
        "y_train = train_df.Reached_on_time\n",
        "print(y_train.shape)"
      ],
      "metadata": {
        "colab": {
          "base_uri": "https://localhost:8080/"
        },
        "id": "sSIhXPXKIdmm",
        "outputId": "9502e144-7f0e-4338-f9cf-61aa60ad0acd"
      },
      "execution_count": 30,
      "outputs": [
        {
          "output_type": "stream",
          "name": "stdout",
          "text": [
            "(7943,)\n"
          ]
        }
      ]
    },
    {
      "cell_type": "markdown",
      "source": [
        "Modelling"
      ],
      "metadata": {
        "id": "4Gue-xl_Hjzj"
      }
    },
    {
      "cell_type": "markdown",
      "source": [
        "When we want to use any model, just run that specific modelling cell one, not the other models."
      ],
      "metadata": {
        "id": "S_X_MyAIvlkr"
      }
    },
    {
      "cell_type": "code",
      "source": [
        "# Grid search cross validation\n",
        "from sklearn.model_selection import GridSearchCV\n",
        "from sklearn.linear_model import LogisticRegression\n",
        "\n",
        "logreg = LogisticRegression()\n",
        "\n",
        "parameters = [{'solver': ['newton-cg', 'lbfgs', 'liblinear', 'sag', 'saga']},\n",
        "              {'penalty':['none', 'l2', 'l1', 'elasticnet']},\n",
        "              {'C':[0.001, 0.01, 0.1, 1, 10, 100]}]\n",
        "\n",
        "\n",
        "\n",
        "grid_search = GridSearchCV(estimator = logreg,  \n",
        "                           param_grid = parameters,\n",
        "                           scoring = 'accuracy',\n",
        "                           cv = 5,\n",
        "                           verbose=0)\n",
        "\n",
        "\n",
        "grid_search.fit(x_train, y_train)\n",
        "\n",
        "print(\"tuned hpyerparameters :(best parameters) \",grid_search.best_params_)\n",
        "print(\"accuracy :\",grid_search.best_score_)"
      ],
      "metadata": {
        "colab": {
          "base_uri": "https://localhost:8080/"
        },
        "id": "ll7KcUqkHjjj",
        "outputId": "061c8110-4f08-4945-c411-3c3955ad63d8"
      },
      "execution_count": null,
      "outputs": [
        {
          "output_type": "stream",
          "name": "stdout",
          "text": [
            "tuned hpyerparameters :(best parameters)  {'solver': 'liblinear'}\n",
            "accuracy : 0.592816086032278\n"
          ]
        }
      ]
    },
    {
      "cell_type": "code",
      "source": [
        "logreg = LogisticRegression(**grid_search.best_params_)\n",
        "logreg.fit(x_train, y_train)\n",
        "logreg"
      ],
      "metadata": {
        "colab": {
          "base_uri": "https://localhost:8080/"
        },
        "id": "WM3WL3jLGM9j",
        "outputId": "cf540ce9-4144-44ad-cce3-3df1c258b5d2"
      },
      "execution_count": null,
      "outputs": [
        {
          "output_type": "execute_result",
          "data": {
            "text/plain": [
              "LogisticRegression(solver='liblinear')"
            ]
          },
          "metadata": {},
          "execution_count": 47
        }
      ]
    },
    {
      "cell_type": "markdown",
      "source": [
        "SVM"
      ],
      "metadata": {
        "id": "x9_blX3UPEaf"
      }
    },
    {
      "cell_type": "code",
      "source": [
        "from sklearn.svm import SVC\n",
        "# defining parameter range\n",
        "param_grid = {'C': [0.1, 1, 10, 100, 1000], \n",
        "              'gamma': [1, 0.1, 0.01, 0.001, 0.0001],\n",
        "              'kernel': ['rbf']} \n",
        "  \n",
        "grid = GridSearchCV(SVC(), param_grid, refit = True, verbose = 3)\n",
        "  \n",
        "# fitting the model for grid search\n",
        "grid.fit(x_train, y_train)\n",
        "\n",
        "\n",
        "# print best parameter after tuning\n",
        "print(grid.best_params_)\n",
        "  \n",
        "# print how our model looks after hyper-parameter tuning\n",
        "print(grid.best_estimator_)"
      ],
      "metadata": {
        "colab": {
          "base_uri": "https://localhost:8080/"
        },
        "id": "SUkqVFWIPFQ4",
        "outputId": "a02ee0a5-97a0-40b8-d364-3ffb74cc5e8d"
      },
      "execution_count": null,
      "outputs": [
        {
          "output_type": "stream",
          "name": "stdout",
          "text": [
            "Fitting 5 folds for each of 25 candidates, totalling 125 fits\n",
            "[CV 1/5] END ........C=0.1, gamma=1, kernel=rbf;, score=0.592 total time=   3.7s\n",
            "[CV 2/5] END ........C=0.1, gamma=1, kernel=rbf;, score=0.592 total time=   3.7s\n",
            "[CV 3/5] END ........C=0.1, gamma=1, kernel=rbf;, score=0.578 total time=   3.5s\n",
            "[CV 4/5] END ........C=0.1, gamma=1, kernel=rbf;, score=0.564 total time=   3.7s\n",
            "[CV 5/5] END ........C=0.1, gamma=1, kernel=rbf;, score=0.562 total time=   4.2s\n",
            "[CV 1/5] END ......C=0.1, gamma=0.1, kernel=rbf;, score=0.643 total time=   2.6s\n",
            "[CV 2/5] END ......C=0.1, gamma=0.1, kernel=rbf;, score=0.709 total time=   2.7s\n",
            "[CV 3/5] END ......C=0.1, gamma=0.1, kernel=rbf;, score=0.505 total time=   2.4s\n",
            "[CV 4/5] END ......C=0.1, gamma=0.1, kernel=rbf;, score=0.414 total time=   2.3s\n",
            "[CV 5/5] END ......C=0.1, gamma=0.1, kernel=rbf;, score=0.411 total time=   2.3s\n",
            "[CV 1/5] END .....C=0.1, gamma=0.01, kernel=rbf;, score=0.592 total time=   2.5s\n",
            "[CV 2/5] END .....C=0.1, gamma=0.01, kernel=rbf;, score=0.592 total time=   2.6s\n",
            "[CV 3/5] END .....C=0.1, gamma=0.01, kernel=rbf;, score=0.506 total time=   2.5s\n",
            "[CV 4/5] END .....C=0.1, gamma=0.01, kernel=rbf;, score=0.465 total time=   2.4s\n",
            "[CV 5/5] END .....C=0.1, gamma=0.01, kernel=rbf;, score=0.469 total time=   2.5s\n",
            "[CV 1/5] END ....C=0.1, gamma=0.001, kernel=rbf;, score=0.592 total time=   2.5s\n",
            "[CV 2/5] END ....C=0.1, gamma=0.001, kernel=rbf;, score=0.592 total time=   2.6s\n",
            "[CV 3/5] END ....C=0.1, gamma=0.001, kernel=rbf;, score=0.591 total time=   2.7s\n",
            "[CV 4/5] END ....C=0.1, gamma=0.001, kernel=rbf;, score=0.591 total time=   2.7s\n",
            "[CV 5/5] END ....C=0.1, gamma=0.001, kernel=rbf;, score=0.591 total time=   2.7s\n",
            "[CV 1/5] END ...C=0.1, gamma=0.0001, kernel=rbf;, score=0.592 total time=   2.5s\n",
            "[CV 2/5] END ...C=0.1, gamma=0.0001, kernel=rbf;, score=0.592 total time=   2.6s\n",
            "[CV 3/5] END ...C=0.1, gamma=0.0001, kernel=rbf;, score=0.591 total time=   2.7s\n",
            "[CV 4/5] END ...C=0.1, gamma=0.0001, kernel=rbf;, score=0.591 total time=   2.7s\n",
            "[CV 5/5] END ...C=0.1, gamma=0.0001, kernel=rbf;, score=0.591 total time=   2.7s\n",
            "[CV 1/5] END ..........C=1, gamma=1, kernel=rbf;, score=0.728 total time=   3.6s\n",
            "[CV 2/5] END ..........C=1, gamma=1, kernel=rbf;, score=0.731 total time=   4.1s\n",
            "[CV 3/5] END ..........C=1, gamma=1, kernel=rbf;, score=0.539 total time=   4.2s\n",
            "[CV 4/5] END ..........C=1, gamma=1, kernel=rbf;, score=0.465 total time=   3.3s\n",
            "[CV 5/5] END ..........C=1, gamma=1, kernel=rbf;, score=0.463 total time=   3.3s\n",
            "[CV 1/5] END ........C=1, gamma=0.1, kernel=rbf;, score=0.760 total time=   2.6s\n",
            "[CV 2/5] END ........C=1, gamma=0.1, kernel=rbf;, score=0.768 total time=   2.6s\n",
            "[CV 3/5] END ........C=1, gamma=0.1, kernel=rbf;, score=0.506 total time=   2.4s\n",
            "[CV 4/5] END ........C=1, gamma=0.1, kernel=rbf;, score=0.418 total time=   2.1s\n",
            "[CV 5/5] END ........C=1, gamma=0.1, kernel=rbf;, score=0.414 total time=   2.1s\n",
            "[CV 1/5] END .......C=1, gamma=0.01, kernel=rbf;, score=0.620 total time=   2.5s\n",
            "[CV 2/5] END .......C=1, gamma=0.01, kernel=rbf;, score=0.743 total time=   2.5s\n",
            "[CV 3/5] END .......C=1, gamma=0.01, kernel=rbf;, score=0.507 total time=   2.4s\n",
            "[CV 4/5] END .......C=1, gamma=0.01, kernel=rbf;, score=0.414 total time=   2.1s\n",
            "[CV 5/5] END .......C=1, gamma=0.01, kernel=rbf;, score=0.418 total time=   2.1s\n",
            "[CV 1/5] END ......C=1, gamma=0.001, kernel=rbf;, score=0.592 total time=   2.5s\n",
            "[CV 2/5] END ......C=1, gamma=0.001, kernel=rbf;, score=0.592 total time=   2.6s\n",
            "[CV 3/5] END ......C=1, gamma=0.001, kernel=rbf;, score=0.506 total time=   2.5s\n",
            "[CV 4/5] END ......C=1, gamma=0.001, kernel=rbf;, score=0.466 total time=   2.4s\n",
            "[CV 5/5] END ......C=1, gamma=0.001, kernel=rbf;, score=0.474 total time=   2.4s\n",
            "[CV 1/5] END .....C=1, gamma=0.0001, kernel=rbf;, score=0.592 total time=   2.5s\n",
            "[CV 2/5] END .....C=1, gamma=0.0001, kernel=rbf;, score=0.592 total time=   2.5s\n",
            "[CV 3/5] END .....C=1, gamma=0.0001, kernel=rbf;, score=0.591 total time=   2.7s\n",
            "[CV 4/5] END .....C=1, gamma=0.0001, kernel=rbf;, score=0.591 total time=   2.7s\n",
            "[CV 5/5] END .....C=1, gamma=0.0001, kernel=rbf;, score=0.591 total time=   2.7s\n",
            "[CV 1/5] END .........C=10, gamma=1, kernel=rbf;, score=0.748 total time=   5.3s\n",
            "[CV 2/5] END .........C=10, gamma=1, kernel=rbf;, score=0.754 total time=   4.1s\n",
            "[CV 3/5] END .........C=10, gamma=1, kernel=rbf;, score=0.565 total time=   4.0s\n",
            "[CV 4/5] END .........C=10, gamma=1, kernel=rbf;, score=0.469 total time=   3.6s\n",
            "[CV 5/5] END .........C=10, gamma=1, kernel=rbf;, score=0.466 total time=   4.0s\n",
            "[CV 1/5] END .......C=10, gamma=0.1, kernel=rbf;, score=0.768 total time=   3.4s\n",
            "[CV 2/5] END .......C=10, gamma=0.1, kernel=rbf;, score=0.775 total time=   3.3s\n",
            "[CV 3/5] END .......C=10, gamma=0.1, kernel=rbf;, score=0.536 total time=   2.9s\n",
            "[CV 4/5] END .......C=10, gamma=0.1, kernel=rbf;, score=0.433 total time=   2.6s\n",
            "[CV 5/5] END .......C=10, gamma=0.1, kernel=rbf;, score=0.435 total time=   3.6s\n",
            "[CV 1/5] END ......C=10, gamma=0.01, kernel=rbf;, score=0.724 total time=   2.6s\n",
            "[CV 2/5] END ......C=10, gamma=0.01, kernel=rbf;, score=0.733 total time=   2.6s\n",
            "[CV 3/5] END ......C=10, gamma=0.01, kernel=rbf;, score=0.507 total time=   2.5s\n",
            "[CV 4/5] END ......C=10, gamma=0.01, kernel=rbf;, score=0.410 total time=   2.2s\n",
            "[CV 5/5] END ......C=10, gamma=0.01, kernel=rbf;, score=0.416 total time=   2.2s\n",
            "[CV 1/5] END .....C=10, gamma=0.001, kernel=rbf;, score=0.592 total time=   2.5s\n",
            "[CV 2/5] END .....C=10, gamma=0.001, kernel=rbf;, score=0.828 total time=   2.5s\n",
            "[CV 3/5] END .....C=10, gamma=0.001, kernel=rbf;, score=0.507 total time=   2.3s\n",
            "[CV 4/5] END .....C=10, gamma=0.001, kernel=rbf;, score=0.460 total time=   2.2s\n",
            "[CV 5/5] END .....C=10, gamma=0.001, kernel=rbf;, score=0.453 total time=   2.2s\n",
            "[CV 1/5] END ....C=10, gamma=0.0001, kernel=rbf;, score=0.592 total time=   2.6s\n",
            "[CV 2/5] END ....C=10, gamma=0.0001, kernel=rbf;, score=0.592 total time=   3.7s\n",
            "[CV 3/5] END ....C=10, gamma=0.0001, kernel=rbf;, score=0.506 total time=   2.6s\n",
            "[CV 4/5] END ....C=10, gamma=0.0001, kernel=rbf;, score=0.466 total time=   2.4s\n",
            "[CV 5/5] END ....C=10, gamma=0.0001, kernel=rbf;, score=0.473 total time=   2.5s\n",
            "[CV 1/5] END ........C=100, gamma=1, kernel=rbf;, score=0.755 total time=   4.6s\n",
            "[CV 2/5] END ........C=100, gamma=1, kernel=rbf;, score=0.752 total time=   5.5s\n",
            "[CV 3/5] END ........C=100, gamma=1, kernel=rbf;, score=0.561 total time=   3.9s\n",
            "[CV 4/5] END ........C=100, gamma=1, kernel=rbf;, score=0.472 total time=   4.3s\n",
            "[CV 5/5] END ........C=100, gamma=1, kernel=rbf;, score=0.474 total time=   4.2s\n",
            "[CV 1/5] END ......C=100, gamma=0.1, kernel=rbf;, score=0.757 total time=   6.5s\n",
            "[CV 2/5] END ......C=100, gamma=0.1, kernel=rbf;, score=0.766 total time=   6.5s\n",
            "[CV 3/5] END ......C=100, gamma=0.1, kernel=rbf;, score=0.552 total time=   5.6s\n",
            "[CV 4/5] END ......C=100, gamma=0.1, kernel=rbf;, score=0.448 total time=   5.1s\n",
            "[CV 5/5] END ......C=100, gamma=0.1, kernel=rbf;, score=0.451 total time=   5.1s\n",
            "[CV 1/5] END .....C=100, gamma=0.01, kernel=rbf;, score=0.749 total time=   4.6s\n",
            "[CV 2/5] END .....C=100, gamma=0.01, kernel=rbf;, score=0.744 total time=   3.6s\n",
            "[CV 3/5] END .....C=100, gamma=0.01, kernel=rbf;, score=0.505 total time=   3.3s\n",
            "[CV 4/5] END .....C=100, gamma=0.01, kernel=rbf;, score=0.412 total time=   2.9s\n",
            "[CV 5/5] END .....C=100, gamma=0.01, kernel=rbf;, score=0.412 total time=   2.9s\n",
            "[CV 1/5] END ....C=100, gamma=0.001, kernel=rbf;, score=0.695 total time=   2.6s\n",
            "[CV 2/5] END ....C=100, gamma=0.001, kernel=rbf;, score=0.766 total time=   2.8s\n",
            "[CV 3/5] END ....C=100, gamma=0.001, kernel=rbf;, score=0.507 total time=   2.5s\n",
            "[CV 4/5] END ....C=100, gamma=0.001, kernel=rbf;, score=0.413 total time=   2.2s\n",
            "[CV 5/5] END ....C=100, gamma=0.001, kernel=rbf;, score=0.414 total time=   2.3s\n",
            "[CV 1/5] END ...C=100, gamma=0.0001, kernel=rbf;, score=0.592 total time=   2.6s\n",
            "[CV 2/5] END ...C=100, gamma=0.0001, kernel=rbf;, score=0.834 total time=   2.6s\n",
            "[CV 3/5] END ...C=100, gamma=0.0001, kernel=rbf;, score=0.507 total time=   2.4s\n",
            "[CV 4/5] END ...C=100, gamma=0.0001, kernel=rbf;, score=0.462 total time=   2.2s\n",
            "[CV 5/5] END ...C=100, gamma=0.0001, kernel=rbf;, score=0.465 total time=   2.2s\n",
            "[CV 1/5] END .......C=1000, gamma=1, kernel=rbf;, score=0.752 total time=   5.0s\n",
            "[CV 2/5] END .......C=1000, gamma=1, kernel=rbf;, score=0.748 total time=   5.9s\n",
            "[CV 3/5] END .......C=1000, gamma=1, kernel=rbf;, score=0.563 total time=   5.3s\n",
            "[CV 4/5] END .......C=1000, gamma=1, kernel=rbf;, score=0.489 total time=   5.3s\n",
            "[CV 5/5] END .......C=1000, gamma=1, kernel=rbf;, score=0.479 total time=   5.3s\n",
            "[CV 1/5] END .....C=1000, gamma=0.1, kernel=rbf;, score=0.752 total time=  42.6s\n",
            "[CV 2/5] END .....C=1000, gamma=0.1, kernel=rbf;, score=0.773 total time=  39.4s\n",
            "[CV 3/5] END .....C=1000, gamma=0.1, kernel=rbf;, score=0.576 total time=  31.5s\n",
            "[CV 4/5] END .....C=1000, gamma=0.1, kernel=rbf;, score=0.448 total time=  27.2s\n",
            "[CV 5/5] END .....C=1000, gamma=0.1, kernel=rbf;, score=0.458 total time=  30.9s\n",
            "[CV 1/5] END ....C=1000, gamma=0.01, kernel=rbf;, score=0.756 total time=   6.7s\n",
            "[CV 2/5] END ....C=1000, gamma=0.01, kernel=rbf;, score=0.772 total time=   7.5s\n",
            "[CV 3/5] END ....C=1000, gamma=0.01, kernel=rbf;, score=0.517 total time=   8.0s\n",
            "[CV 4/5] END ....C=1000, gamma=0.01, kernel=rbf;, score=0.419 total time=   7.3s\n",
            "[CV 5/5] END ....C=1000, gamma=0.01, kernel=rbf;, score=0.425 total time=   6.2s\n",
            "[CV 1/5] END ...C=1000, gamma=0.001, kernel=rbf;, score=0.722 total time=   3.4s\n",
            "[CV 2/5] END ...C=1000, gamma=0.001, kernel=rbf;, score=0.733 total time=   3.7s\n",
            "[CV 3/5] END ...C=1000, gamma=0.001, kernel=rbf;, score=0.506 total time=   4.2s\n",
            "[CV 4/5] END ...C=1000, gamma=0.001, kernel=rbf;, score=0.409 total time=   4.3s\n",
            "[CV 5/5] END ...C=1000, gamma=0.001, kernel=rbf;, score=0.416 total time=   3.6s\n",
            "[CV 1/5] END ..C=1000, gamma=0.0001, kernel=rbf;, score=0.655 total time=   2.6s\n",
            "[CV 2/5] END ..C=1000, gamma=0.0001, kernel=rbf;, score=0.844 total time=   2.7s\n",
            "[CV 3/5] END ..C=1000, gamma=0.0001, kernel=rbf;, score=0.507 total time=   2.6s\n",
            "[CV 4/5] END ..C=1000, gamma=0.0001, kernel=rbf;, score=0.457 total time=   2.3s\n",
            "[CV 5/5] END ..C=1000, gamma=0.0001, kernel=rbf;, score=0.445 total time=   2.8s\n",
            "{'C': 1000, 'gamma': 1, 'kernel': 'rbf'}\n",
            "SVC(C=1000, gamma=1)\n"
          ]
        }
      ]
    },
    {
      "cell_type": "markdown",
      "source": [
        "KNN"
      ],
      "metadata": {
        "id": "5hePChZxRDy8"
      }
    },
    {
      "cell_type": "code",
      "source": [
        "from sklearn.neighbors import KNeighborsClassifier\n",
        "\n",
        "k_range = list(range(1, 31))\n",
        "print(k_range)\n",
        "\n",
        "param_grid = dict(n_neighbors=k_range)\n",
        "print(param_grid)\n",
        "\n",
        "knn = knn = KNeighborsClassifier()\n",
        "\n",
        "grid = GridSearchCV(knn, param_grid, cv=10, scoring='accuracy', return_train_score=False)\n",
        "grid.fit(x_train, y_train)\n",
        "\n",
        "\n",
        "# print best parameter after tuning\n",
        "print(grid.best_params_)\n",
        "  \n",
        "# print how our model looks after hyper-parameter tuning\n",
        "print(grid.best_estimator_)"
      ],
      "metadata": {
        "colab": {
          "base_uri": "https://localhost:8080/"
        },
        "id": "t0o8BR-IRFBg",
        "outputId": "2a5f7025-f4ae-4703-e944-ba6d9e820888"
      },
      "execution_count": null,
      "outputs": [
        {
          "output_type": "stream",
          "name": "stdout",
          "text": [
            "[1, 2, 3, 4, 5, 6, 7, 8, 9, 10, 11, 12, 13, 14, 15, 16, 17, 18, 19, 20, 21, 22, 23, 24, 25, 26, 27, 28, 29, 30]\n",
            "{'n_neighbors': [1, 2, 3, 4, 5, 6, 7, 8, 9, 10, 11, 12, 13, 14, 15, 16, 17, 18, 19, 20, 21, 22, 23, 24, 25, 26, 27, 28, 29, 30]}\n",
            "{'n_neighbors': 2}\n",
            "KNeighborsClassifier(n_neighbors=2)\n"
          ]
        }
      ]
    },
    {
      "cell_type": "markdown",
      "source": [
        "Random Forest"
      ],
      "metadata": {
        "id": "50uiOexkRfhe"
      }
    },
    {
      "cell_type": "code",
      "source": [
        "# Final Model-1: \n",
        "from sklearn.ensemble import RandomForestClassifier\n",
        "rfc=RandomForestClassifier(random_state=42)\n",
        "\n",
        "param_grid = { \n",
        "    'n_estimators': [200, 500],\n",
        "    'max_features': ['auto', 'sqrt', 'log2'],\n",
        "    'max_depth' : [4,5,6,7,8],\n",
        "    'criterion' :['gini', 'entropy']\n",
        "}\n",
        "\n",
        "grid = GridSearchCV(estimator=rfc, param_grid=param_grid, cv= 5, verbose = 3)\n",
        "grid.fit(x_train, y_train)\n",
        "\n",
        "# print best parameter after tuning\n",
        "print(grid.best_params_)\n",
        "  \n",
        "# print how our model looks after hyper-parameter tuning\n",
        "print(grid.best_estimator_)"
      ],
      "metadata": {
        "colab": {
          "base_uri": "https://localhost:8080/"
        },
        "id": "_ZI0biyYRExG",
        "outputId": "397c846a-ec00-44d8-e830-b5f7eaa36827"
      },
      "execution_count": null,
      "outputs": [
        {
          "output_type": "stream",
          "name": "stdout",
          "text": [
            "{'criterion': 'gini', 'max_depth': 8, 'max_features': 'auto', 'n_estimators': 500}\n",
            "RandomForestClassifier(max_depth=8, n_estimators=500, random_state=42)\n"
          ]
        }
      ]
    },
    {
      "cell_type": "code",
      "source": [
        "# Final Model-1: \n",
        "from sklearn.ensemble import RandomForestClassifier\n",
        "rfc=RandomForestClassifier(**{'criterion': 'gini', 'max_depth': 8, 'max_features': 'auto', 'n_estimators': 500}, random_state=42)\n",
        "\n",
        "rfc.fit(x_train, y_train)"
      ],
      "metadata": {
        "colab": {
          "base_uri": "https://localhost:8080/"
        },
        "id": "mjMz9tJmxH8L",
        "outputId": "e0bf1408-9d33-425c-b7c5-dba2a115578d"
      },
      "execution_count": 31,
      "outputs": [
        {
          "output_type": "execute_result",
          "data": {
            "text/plain": [
              "RandomForestClassifier(max_depth=8, n_estimators=500, random_state=42)"
            ]
          },
          "metadata": {},
          "execution_count": 31
        }
      ]
    },
    {
      "cell_type": "markdown",
      "source": [
        "Naive Bayes"
      ],
      "metadata": {
        "id": "IPxHn5wiStTO"
      }
    },
    {
      "cell_type": "code",
      "source": [
        "from sklearn.naive_bayes import GaussianNB, MultinomialNB, BernoulliNB"
      ],
      "metadata": {
        "id": "elMmgL1CS7je"
      },
      "execution_count": null,
      "outputs": []
    },
    {
      "cell_type": "markdown",
      "source": [
        "Decision Tree"
      ],
      "metadata": {
        "id": "mXA80nVERiVh"
      }
    },
    {
      "cell_type": "code",
      "source": [
        "# Final Model-2\n",
        "from sklearn.model_selection import GridSearchCV\n",
        "from lightgbm import LGBMClassifier\n",
        "from xgboost import XGBClassifier\n",
        "from sklearn.tree import DecisionTreeClassifier\n",
        "\n",
        "param_grid = {'max_features': ['auto', 'sqrt', 'log2'],\n",
        "              'ccp_alpha': [0.1, .01, .001],\n",
        "              'max_depth' : [5, 6, 7, 8, 9],\n",
        "              'criterion' :['gini', 'entropy']\n",
        "             }\n",
        "tree_clas = DecisionTreeClassifier(random_state=1024)\n",
        "grid = GridSearchCV(estimator=tree_clas, param_grid=param_grid, cv=5, verbose=True)\n",
        "grid.fit(x_train, y_train)\n",
        "\n",
        "# print best parameter after tuning\n",
        "print(grid.best_params_)\n",
        "  \n",
        "# print how our model looks after hyper-parameter tuning\n",
        "print(grid.best_estimator_)"
      ],
      "metadata": {
        "colab": {
          "base_uri": "https://localhost:8080/"
        },
        "id": "3uODwaziRiIZ",
        "outputId": "81001ee5-f1f5-45b5-f615-6836325b3796"
      },
      "execution_count": 43,
      "outputs": [
        {
          "output_type": "stream",
          "name": "stdout",
          "text": [
            "Fitting 5 folds for each of 90 candidates, totalling 450 fits\n",
            "{'ccp_alpha': 0.001, 'criterion': 'entropy', 'max_depth': 8, 'max_features': 'auto'}\n",
            "DecisionTreeClassifier(ccp_alpha=0.001, criterion='entropy', max_depth=8,\n",
            "                       max_features='auto', random_state=1024)\n"
          ]
        }
      ]
    },
    {
      "cell_type": "markdown",
      "source": [
        "**Submission File**"
      ],
      "metadata": {
        "id": "uA5J3jFRL5DC"
      }
    },
    {
      "cell_type": "code",
      "source": [
        "test_df.info()"
      ],
      "metadata": {
        "colab": {
          "base_uri": "https://localhost:8080/"
        },
        "id": "efb06ZCoL3iO",
        "outputId": "b0c24cf8-48fe-4cb9-b964-1db57c17f6a1"
      },
      "execution_count": 32,
      "outputs": [
        {
          "output_type": "stream",
          "name": "stdout",
          "text": [
            "<class 'pandas.core.frame.DataFrame'>\n",
            "RangeIndex: 2750 entries, 0 to 2749\n",
            "Data columns (total 10 columns):\n",
            " #   Column                  Non-Null Count  Dtype  \n",
            "---  ------                  --------------  -----  \n",
            " 0   ID                      2750 non-null   int64  \n",
            " 1   Location                2750 non-null   object \n",
            " 2   Mode_of_delivery        2750 non-null   object \n",
            " 3   Calls_to_customer_care  2750 non-null   int64  \n",
            " 4   Rating_of_customer      2072 non-null   float64\n",
            " 5   Cost_of_food            2750 non-null   float64\n",
            " 6   Prior_purchases         2345 non-null   float64\n",
            " 7   Gender_of_customer      2750 non-null   object \n",
            " 8   Discount_offered        2750 non-null   int64  \n",
            " 9   Weight_of_food_in_gms   2750 non-null   int64  \n",
            "dtypes: float64(3), int64(4), object(3)\n",
            "memory usage: 215.0+ KB\n"
          ]
        }
      ]
    },
    {
      "cell_type": "code",
      "source": [
        "test_df[['Rating_of_customer', 'Prior_purchases']] = test_df[['Rating_of_customer', 'Prior_purchases']].fillna(missing_cols_matadata)"
      ],
      "metadata": {
        "id": "xR3Yv9J9NJgZ"
      },
      "execution_count": 33,
      "outputs": []
    },
    {
      "cell_type": "code",
      "source": [
        "test_df.info()"
      ],
      "metadata": {
        "colab": {
          "base_uri": "https://localhost:8080/"
        },
        "id": "K1N0MFVlNNRY",
        "outputId": "e1ad5ead-f396-42bc-9061-2b426541ac70"
      },
      "execution_count": 34,
      "outputs": [
        {
          "output_type": "stream",
          "name": "stdout",
          "text": [
            "<class 'pandas.core.frame.DataFrame'>\n",
            "RangeIndex: 2750 entries, 0 to 2749\n",
            "Data columns (total 10 columns):\n",
            " #   Column                  Non-Null Count  Dtype  \n",
            "---  ------                  --------------  -----  \n",
            " 0   ID                      2750 non-null   int64  \n",
            " 1   Location                2750 non-null   object \n",
            " 2   Mode_of_delivery        2750 non-null   object \n",
            " 3   Calls_to_customer_care  2750 non-null   int64  \n",
            " 4   Rating_of_customer      2750 non-null   float64\n",
            " 5   Cost_of_food            2750 non-null   float64\n",
            " 6   Prior_purchases         2750 non-null   float64\n",
            " 7   Gender_of_customer      2750 non-null   object \n",
            " 8   Discount_offered        2750 non-null   int64  \n",
            " 9   Weight_of_food_in_gms   2750 non-null   int64  \n",
            "dtypes: float64(3), int64(4), object(3)\n",
            "memory usage: 215.0+ KB\n"
          ]
        }
      ]
    },
    {
      "cell_type": "code",
      "source": [
        "print(cat_cols)\n",
        "print(num_feat)"
      ],
      "metadata": {
        "colab": {
          "base_uri": "https://localhost:8080/"
        },
        "id": "udOYtUEJMvtg",
        "outputId": "beff0f9a-55d4-4149-ac77-f4dfadb32ca7"
      },
      "execution_count": 35,
      "outputs": [
        {
          "output_type": "stream",
          "name": "stdout",
          "text": [
            "['Location', 'Gender_of_customer']\n",
            "['Mode_of_delivery', 'Calls_to_customer_care', 'Rating_of_customer', 'Cost_of_food', 'Prior_purchases', 'Discount_offered', 'Weight_of_food_in_gms']\n"
          ]
        }
      ]
    },
    {
      "cell_type": "code",
      "source": [
        "test_df['Mode_of_delivery'] = test_df.Mode_of_delivery.replace({'Bike': 3, 'Auto':2, 'Car':1}) \n",
        "test_df['Mode_of_delivery'].value_counts()"
      ],
      "metadata": {
        "colab": {
          "base_uri": "https://localhost:8080/"
        },
        "id": "YGg0sJv8NU7U",
        "outputId": "cd04f205-c587-4d98-dbcd-a35fc1a90212"
      },
      "execution_count": 36,
      "outputs": [
        {
          "output_type": "execute_result",
          "data": {
            "text/plain": [
              "3    1871\n",
              "2     451\n",
              "1     428\n",
              "Name: Mode_of_delivery, dtype: int64"
            ]
          },
          "metadata": {},
          "execution_count": 36
        }
      ]
    },
    {
      "cell_type": "code",
      "source": [
        "test_df[num_feat] = ss.transform(test_df[num_feat])"
      ],
      "metadata": {
        "id": "00eYNG_FM0tI"
      },
      "execution_count": 37,
      "outputs": []
    },
    {
      "cell_type": "code",
      "source": [
        "cat_feat_test = enc.transform(test_df[cat_cols]).toarray()\n",
        "print(cat_feat_test)\n",
        "\n",
        "cat_df_test = pd.DataFrame(cat_feat_test)\n",
        "print(cat_df_test.shape)\n",
        "cat_df_test.head(1)"
      ],
      "metadata": {
        "colab": {
          "base_uri": "https://localhost:8080/",
          "height": 224
        },
        "id": "_fPWQb2jNaMm",
        "outputId": "f7e905e0-3aed-485d-a42d-543a9603027b"
      },
      "execution_count": 38,
      "outputs": [
        {
          "output_type": "stream",
          "name": "stdout",
          "text": [
            "[[0. 0. 0. 0. 1.]\n",
            " [0. 0. 0. 0. 0.]\n",
            " [0. 0. 0. 1. 1.]\n",
            " ...\n",
            " [1. 0. 0. 0. 0.]\n",
            " [0. 1. 0. 0. 0.]\n",
            " [1. 0. 0. 0. 1.]]\n",
            "(2750, 5)\n"
          ]
        },
        {
          "output_type": "execute_result",
          "data": {
            "text/plain": [
              "     0    1    2    3    4\n",
              "0  0.0  0.0  0.0  0.0  1.0"
            ],
            "text/html": [
              "\n",
              "  <div id=\"df-f819fa70-3f14-45eb-952d-054190bfa4fd\">\n",
              "    <div class=\"colab-df-container\">\n",
              "      <div>\n",
              "<style scoped>\n",
              "    .dataframe tbody tr th:only-of-type {\n",
              "        vertical-align: middle;\n",
              "    }\n",
              "\n",
              "    .dataframe tbody tr th {\n",
              "        vertical-align: top;\n",
              "    }\n",
              "\n",
              "    .dataframe thead th {\n",
              "        text-align: right;\n",
              "    }\n",
              "</style>\n",
              "<table border=\"1\" class=\"dataframe\">\n",
              "  <thead>\n",
              "    <tr style=\"text-align: right;\">\n",
              "      <th></th>\n",
              "      <th>0</th>\n",
              "      <th>1</th>\n",
              "      <th>2</th>\n",
              "      <th>3</th>\n",
              "      <th>4</th>\n",
              "    </tr>\n",
              "  </thead>\n",
              "  <tbody>\n",
              "    <tr>\n",
              "      <th>0</th>\n",
              "      <td>0.0</td>\n",
              "      <td>0.0</td>\n",
              "      <td>0.0</td>\n",
              "      <td>0.0</td>\n",
              "      <td>1.0</td>\n",
              "    </tr>\n",
              "  </tbody>\n",
              "</table>\n",
              "</div>\n",
              "      <button class=\"colab-df-convert\" onclick=\"convertToInteractive('df-f819fa70-3f14-45eb-952d-054190bfa4fd')\"\n",
              "              title=\"Convert this dataframe to an interactive table.\"\n",
              "              style=\"display:none;\">\n",
              "        \n",
              "  <svg xmlns=\"http://www.w3.org/2000/svg\" height=\"24px\"viewBox=\"0 0 24 24\"\n",
              "       width=\"24px\">\n",
              "    <path d=\"M0 0h24v24H0V0z\" fill=\"none\"/>\n",
              "    <path d=\"M18.56 5.44l.94 2.06.94-2.06 2.06-.94-2.06-.94-.94-2.06-.94 2.06-2.06.94zm-11 1L8.5 8.5l.94-2.06 2.06-.94-2.06-.94L8.5 2.5l-.94 2.06-2.06.94zm10 10l.94 2.06.94-2.06 2.06-.94-2.06-.94-.94-2.06-.94 2.06-2.06.94z\"/><path d=\"M17.41 7.96l-1.37-1.37c-.4-.4-.92-.59-1.43-.59-.52 0-1.04.2-1.43.59L10.3 9.45l-7.72 7.72c-.78.78-.78 2.05 0 2.83L4 21.41c.39.39.9.59 1.41.59.51 0 1.02-.2 1.41-.59l7.78-7.78 2.81-2.81c.8-.78.8-2.07 0-2.86zM5.41 20L4 18.59l7.72-7.72 1.47 1.35L5.41 20z\"/>\n",
              "  </svg>\n",
              "      </button>\n",
              "      \n",
              "  <style>\n",
              "    .colab-df-container {\n",
              "      display:flex;\n",
              "      flex-wrap:wrap;\n",
              "      gap: 12px;\n",
              "    }\n",
              "\n",
              "    .colab-df-convert {\n",
              "      background-color: #E8F0FE;\n",
              "      border: none;\n",
              "      border-radius: 50%;\n",
              "      cursor: pointer;\n",
              "      display: none;\n",
              "      fill: #1967D2;\n",
              "      height: 32px;\n",
              "      padding: 0 0 0 0;\n",
              "      width: 32px;\n",
              "    }\n",
              "\n",
              "    .colab-df-convert:hover {\n",
              "      background-color: #E2EBFA;\n",
              "      box-shadow: 0px 1px 2px rgba(60, 64, 67, 0.3), 0px 1px 3px 1px rgba(60, 64, 67, 0.15);\n",
              "      fill: #174EA6;\n",
              "    }\n",
              "\n",
              "    [theme=dark] .colab-df-convert {\n",
              "      background-color: #3B4455;\n",
              "      fill: #D2E3FC;\n",
              "    }\n",
              "\n",
              "    [theme=dark] .colab-df-convert:hover {\n",
              "      background-color: #434B5C;\n",
              "      box-shadow: 0px 1px 3px 1px rgba(0, 0, 0, 0.15);\n",
              "      filter: drop-shadow(0px 1px 2px rgba(0, 0, 0, 0.3));\n",
              "      fill: #FFFFFF;\n",
              "    }\n",
              "  </style>\n",
              "\n",
              "      <script>\n",
              "        const buttonEl =\n",
              "          document.querySelector('#df-f819fa70-3f14-45eb-952d-054190bfa4fd button.colab-df-convert');\n",
              "        buttonEl.style.display =\n",
              "          google.colab.kernel.accessAllowed ? 'block' : 'none';\n",
              "\n",
              "        async function convertToInteractive(key) {\n",
              "          const element = document.querySelector('#df-f819fa70-3f14-45eb-952d-054190bfa4fd');\n",
              "          const dataTable =\n",
              "            await google.colab.kernel.invokeFunction('convertToInteractive',\n",
              "                                                     [key], {});\n",
              "          if (!dataTable) return;\n",
              "\n",
              "          const docLinkHtml = 'Like what you see? Visit the ' +\n",
              "            '<a target=\"_blank\" href=https://colab.research.google.com/notebooks/data_table.ipynb>data table notebook</a>'\n",
              "            + ' to learn more about interactive tables.';\n",
              "          element.innerHTML = '';\n",
              "          dataTable['output_type'] = 'display_data';\n",
              "          await google.colab.output.renderOutput(dataTable, element);\n",
              "          const docLink = document.createElement('div');\n",
              "          docLink.innerHTML = docLinkHtml;\n",
              "          element.appendChild(docLink);\n",
              "        }\n",
              "      </script>\n",
              "    </div>\n",
              "  </div>\n",
              "  "
            ]
          },
          "metadata": {},
          "execution_count": 38
        }
      ]
    },
    {
      "cell_type": "code",
      "source": [
        "print(test_df[num_feat].shape, cat_df_test.shape)\n",
        "x_test = pd.concat([test_df[num_feat].reset_index(drop=True), cat_df_test.reset_index(drop=True)], axis=1)\n",
        "print(x_test.shape)\n",
        "x_test.head(1)"
      ],
      "metadata": {
        "colab": {
          "base_uri": "https://localhost:8080/",
          "height": 180
        },
        "id": "mj-6a8eNNp1A",
        "outputId": "38bb2a16-b096-4729-8a54-3f3ccf1a5d97"
      },
      "execution_count": 39,
      "outputs": [
        {
          "output_type": "stream",
          "name": "stdout",
          "text": [
            "(2750, 7) (2750, 5)\n",
            "(2750, 12)\n"
          ]
        },
        {
          "output_type": "execute_result",
          "data": {
            "text/plain": [
              "   Mode_of_delivery  Calls_to_customer_care  Rating_of_customer  Cost_of_food  \\\n",
              "0         -0.678752                -0.04484           -0.005767     -1.050139   \n",
              "\n",
              "   Prior_purchases  Discount_offered  Weight_of_food_in_gms    0    1    2  \\\n",
              "0        -0.313007         -0.507764               0.483029  0.0  0.0  0.0   \n",
              "\n",
              "     3    4  \n",
              "0  0.0  1.0  "
            ],
            "text/html": [
              "\n",
              "  <div id=\"df-2db4b392-c531-4ad3-8cb0-8893b1c39f66\">\n",
              "    <div class=\"colab-df-container\">\n",
              "      <div>\n",
              "<style scoped>\n",
              "    .dataframe tbody tr th:only-of-type {\n",
              "        vertical-align: middle;\n",
              "    }\n",
              "\n",
              "    .dataframe tbody tr th {\n",
              "        vertical-align: top;\n",
              "    }\n",
              "\n",
              "    .dataframe thead th {\n",
              "        text-align: right;\n",
              "    }\n",
              "</style>\n",
              "<table border=\"1\" class=\"dataframe\">\n",
              "  <thead>\n",
              "    <tr style=\"text-align: right;\">\n",
              "      <th></th>\n",
              "      <th>Mode_of_delivery</th>\n",
              "      <th>Calls_to_customer_care</th>\n",
              "      <th>Rating_of_customer</th>\n",
              "      <th>Cost_of_food</th>\n",
              "      <th>Prior_purchases</th>\n",
              "      <th>Discount_offered</th>\n",
              "      <th>Weight_of_food_in_gms</th>\n",
              "      <th>0</th>\n",
              "      <th>1</th>\n",
              "      <th>2</th>\n",
              "      <th>3</th>\n",
              "      <th>4</th>\n",
              "    </tr>\n",
              "  </thead>\n",
              "  <tbody>\n",
              "    <tr>\n",
              "      <th>0</th>\n",
              "      <td>-0.678752</td>\n",
              "      <td>-0.04484</td>\n",
              "      <td>-0.005767</td>\n",
              "      <td>-1.050139</td>\n",
              "      <td>-0.313007</td>\n",
              "      <td>-0.507764</td>\n",
              "      <td>0.483029</td>\n",
              "      <td>0.0</td>\n",
              "      <td>0.0</td>\n",
              "      <td>0.0</td>\n",
              "      <td>0.0</td>\n",
              "      <td>1.0</td>\n",
              "    </tr>\n",
              "  </tbody>\n",
              "</table>\n",
              "</div>\n",
              "      <button class=\"colab-df-convert\" onclick=\"convertToInteractive('df-2db4b392-c531-4ad3-8cb0-8893b1c39f66')\"\n",
              "              title=\"Convert this dataframe to an interactive table.\"\n",
              "              style=\"display:none;\">\n",
              "        \n",
              "  <svg xmlns=\"http://www.w3.org/2000/svg\" height=\"24px\"viewBox=\"0 0 24 24\"\n",
              "       width=\"24px\">\n",
              "    <path d=\"M0 0h24v24H0V0z\" fill=\"none\"/>\n",
              "    <path d=\"M18.56 5.44l.94 2.06.94-2.06 2.06-.94-2.06-.94-.94-2.06-.94 2.06-2.06.94zm-11 1L8.5 8.5l.94-2.06 2.06-.94-2.06-.94L8.5 2.5l-.94 2.06-2.06.94zm10 10l.94 2.06.94-2.06 2.06-.94-2.06-.94-.94-2.06-.94 2.06-2.06.94z\"/><path d=\"M17.41 7.96l-1.37-1.37c-.4-.4-.92-.59-1.43-.59-.52 0-1.04.2-1.43.59L10.3 9.45l-7.72 7.72c-.78.78-.78 2.05 0 2.83L4 21.41c.39.39.9.59 1.41.59.51 0 1.02-.2 1.41-.59l7.78-7.78 2.81-2.81c.8-.78.8-2.07 0-2.86zM5.41 20L4 18.59l7.72-7.72 1.47 1.35L5.41 20z\"/>\n",
              "  </svg>\n",
              "      </button>\n",
              "      \n",
              "  <style>\n",
              "    .colab-df-container {\n",
              "      display:flex;\n",
              "      flex-wrap:wrap;\n",
              "      gap: 12px;\n",
              "    }\n",
              "\n",
              "    .colab-df-convert {\n",
              "      background-color: #E8F0FE;\n",
              "      border: none;\n",
              "      border-radius: 50%;\n",
              "      cursor: pointer;\n",
              "      display: none;\n",
              "      fill: #1967D2;\n",
              "      height: 32px;\n",
              "      padding: 0 0 0 0;\n",
              "      width: 32px;\n",
              "    }\n",
              "\n",
              "    .colab-df-convert:hover {\n",
              "      background-color: #E2EBFA;\n",
              "      box-shadow: 0px 1px 2px rgba(60, 64, 67, 0.3), 0px 1px 3px 1px rgba(60, 64, 67, 0.15);\n",
              "      fill: #174EA6;\n",
              "    }\n",
              "\n",
              "    [theme=dark] .colab-df-convert {\n",
              "      background-color: #3B4455;\n",
              "      fill: #D2E3FC;\n",
              "    }\n",
              "\n",
              "    [theme=dark] .colab-df-convert:hover {\n",
              "      background-color: #434B5C;\n",
              "      box-shadow: 0px 1px 3px 1px rgba(0, 0, 0, 0.15);\n",
              "      filter: drop-shadow(0px 1px 2px rgba(0, 0, 0, 0.3));\n",
              "      fill: #FFFFFF;\n",
              "    }\n",
              "  </style>\n",
              "\n",
              "      <script>\n",
              "        const buttonEl =\n",
              "          document.querySelector('#df-2db4b392-c531-4ad3-8cb0-8893b1c39f66 button.colab-df-convert');\n",
              "        buttonEl.style.display =\n",
              "          google.colab.kernel.accessAllowed ? 'block' : 'none';\n",
              "\n",
              "        async function convertToInteractive(key) {\n",
              "          const element = document.querySelector('#df-2db4b392-c531-4ad3-8cb0-8893b1c39f66');\n",
              "          const dataTable =\n",
              "            await google.colab.kernel.invokeFunction('convertToInteractive',\n",
              "                                                     [key], {});\n",
              "          if (!dataTable) return;\n",
              "\n",
              "          const docLinkHtml = 'Like what you see? Visit the ' +\n",
              "            '<a target=\"_blank\" href=https://colab.research.google.com/notebooks/data_table.ipynb>data table notebook</a>'\n",
              "            + ' to learn more about interactive tables.';\n",
              "          element.innerHTML = '';\n",
              "          dataTable['output_type'] = 'display_data';\n",
              "          await google.colab.output.renderOutput(dataTable, element);\n",
              "          const docLink = document.createElement('div');\n",
              "          docLink.innerHTML = docLinkHtml;\n",
              "          element.appendChild(docLink);\n",
              "        }\n",
              "      </script>\n",
              "    </div>\n",
              "  </div>\n",
              "  "
            ]
          },
          "metadata": {},
          "execution_count": 39
        }
      ]
    },
    {
      "cell_type": "code",
      "source": [
        "test_df['Reached_on_time'] = rfc.predict(x_test).astype('int')\n",
        "test_df.head(2)"
      ],
      "metadata": {
        "colab": {
          "base_uri": "https://localhost:8080/",
          "height": 176
        },
        "id": "K8vVIKHcN22D",
        "outputId": "e4fe7968-a5ad-4786-86a2-1565dcb37aa3"
      },
      "execution_count": 40,
      "outputs": [
        {
          "output_type": "execute_result",
          "data": {
            "text/plain": [
              "      ID    Location  Mode_of_delivery  Calls_to_customer_care  \\\n",
              "0  10273  Gachibowli         -0.678752                -0.04484   \n",
              "1   3691  Gachibowli         -1.998539                -0.04484   \n",
              "\n",
              "   Rating_of_customer  Cost_of_food  Prior_purchases Gender_of_customer  \\\n",
              "0           -0.005767     -1.050139        -0.313007                  M   \n",
              "1            0.812272      0.847795        -0.313007                  F   \n",
              "\n",
              "   Discount_offered  Weight_of_food_in_gms  Reached_on_time  \n",
              "0         -0.507764               0.483029                0  \n",
              "1         -0.507764               1.104302                0  "
            ],
            "text/html": [
              "\n",
              "  <div id=\"df-28c1685d-4f67-418a-b2cc-46ce7696b1d9\">\n",
              "    <div class=\"colab-df-container\">\n",
              "      <div>\n",
              "<style scoped>\n",
              "    .dataframe tbody tr th:only-of-type {\n",
              "        vertical-align: middle;\n",
              "    }\n",
              "\n",
              "    .dataframe tbody tr th {\n",
              "        vertical-align: top;\n",
              "    }\n",
              "\n",
              "    .dataframe thead th {\n",
              "        text-align: right;\n",
              "    }\n",
              "</style>\n",
              "<table border=\"1\" class=\"dataframe\">\n",
              "  <thead>\n",
              "    <tr style=\"text-align: right;\">\n",
              "      <th></th>\n",
              "      <th>ID</th>\n",
              "      <th>Location</th>\n",
              "      <th>Mode_of_delivery</th>\n",
              "      <th>Calls_to_customer_care</th>\n",
              "      <th>Rating_of_customer</th>\n",
              "      <th>Cost_of_food</th>\n",
              "      <th>Prior_purchases</th>\n",
              "      <th>Gender_of_customer</th>\n",
              "      <th>Discount_offered</th>\n",
              "      <th>Weight_of_food_in_gms</th>\n",
              "      <th>Reached_on_time</th>\n",
              "    </tr>\n",
              "  </thead>\n",
              "  <tbody>\n",
              "    <tr>\n",
              "      <th>0</th>\n",
              "      <td>10273</td>\n",
              "      <td>Gachibowli</td>\n",
              "      <td>-0.678752</td>\n",
              "      <td>-0.04484</td>\n",
              "      <td>-0.005767</td>\n",
              "      <td>-1.050139</td>\n",
              "      <td>-0.313007</td>\n",
              "      <td>M</td>\n",
              "      <td>-0.507764</td>\n",
              "      <td>0.483029</td>\n",
              "      <td>0</td>\n",
              "    </tr>\n",
              "    <tr>\n",
              "      <th>1</th>\n",
              "      <td>3691</td>\n",
              "      <td>Gachibowli</td>\n",
              "      <td>-1.998539</td>\n",
              "      <td>-0.04484</td>\n",
              "      <td>0.812272</td>\n",
              "      <td>0.847795</td>\n",
              "      <td>-0.313007</td>\n",
              "      <td>F</td>\n",
              "      <td>-0.507764</td>\n",
              "      <td>1.104302</td>\n",
              "      <td>0</td>\n",
              "    </tr>\n",
              "  </tbody>\n",
              "</table>\n",
              "</div>\n",
              "      <button class=\"colab-df-convert\" onclick=\"convertToInteractive('df-28c1685d-4f67-418a-b2cc-46ce7696b1d9')\"\n",
              "              title=\"Convert this dataframe to an interactive table.\"\n",
              "              style=\"display:none;\">\n",
              "        \n",
              "  <svg xmlns=\"http://www.w3.org/2000/svg\" height=\"24px\"viewBox=\"0 0 24 24\"\n",
              "       width=\"24px\">\n",
              "    <path d=\"M0 0h24v24H0V0z\" fill=\"none\"/>\n",
              "    <path d=\"M18.56 5.44l.94 2.06.94-2.06 2.06-.94-2.06-.94-.94-2.06-.94 2.06-2.06.94zm-11 1L8.5 8.5l.94-2.06 2.06-.94-2.06-.94L8.5 2.5l-.94 2.06-2.06.94zm10 10l.94 2.06.94-2.06 2.06-.94-2.06-.94-.94-2.06-.94 2.06-2.06.94z\"/><path d=\"M17.41 7.96l-1.37-1.37c-.4-.4-.92-.59-1.43-.59-.52 0-1.04.2-1.43.59L10.3 9.45l-7.72 7.72c-.78.78-.78 2.05 0 2.83L4 21.41c.39.39.9.59 1.41.59.51 0 1.02-.2 1.41-.59l7.78-7.78 2.81-2.81c.8-.78.8-2.07 0-2.86zM5.41 20L4 18.59l7.72-7.72 1.47 1.35L5.41 20z\"/>\n",
              "  </svg>\n",
              "      </button>\n",
              "      \n",
              "  <style>\n",
              "    .colab-df-container {\n",
              "      display:flex;\n",
              "      flex-wrap:wrap;\n",
              "      gap: 12px;\n",
              "    }\n",
              "\n",
              "    .colab-df-convert {\n",
              "      background-color: #E8F0FE;\n",
              "      border: none;\n",
              "      border-radius: 50%;\n",
              "      cursor: pointer;\n",
              "      display: none;\n",
              "      fill: #1967D2;\n",
              "      height: 32px;\n",
              "      padding: 0 0 0 0;\n",
              "      width: 32px;\n",
              "    }\n",
              "\n",
              "    .colab-df-convert:hover {\n",
              "      background-color: #E2EBFA;\n",
              "      box-shadow: 0px 1px 2px rgba(60, 64, 67, 0.3), 0px 1px 3px 1px rgba(60, 64, 67, 0.15);\n",
              "      fill: #174EA6;\n",
              "    }\n",
              "\n",
              "    [theme=dark] .colab-df-convert {\n",
              "      background-color: #3B4455;\n",
              "      fill: #D2E3FC;\n",
              "    }\n",
              "\n",
              "    [theme=dark] .colab-df-convert:hover {\n",
              "      background-color: #434B5C;\n",
              "      box-shadow: 0px 1px 3px 1px rgba(0, 0, 0, 0.15);\n",
              "      filter: drop-shadow(0px 1px 2px rgba(0, 0, 0, 0.3));\n",
              "      fill: #FFFFFF;\n",
              "    }\n",
              "  </style>\n",
              "\n",
              "      <script>\n",
              "        const buttonEl =\n",
              "          document.querySelector('#df-28c1685d-4f67-418a-b2cc-46ce7696b1d9 button.colab-df-convert');\n",
              "        buttonEl.style.display =\n",
              "          google.colab.kernel.accessAllowed ? 'block' : 'none';\n",
              "\n",
              "        async function convertToInteractive(key) {\n",
              "          const element = document.querySelector('#df-28c1685d-4f67-418a-b2cc-46ce7696b1d9');\n",
              "          const dataTable =\n",
              "            await google.colab.kernel.invokeFunction('convertToInteractive',\n",
              "                                                     [key], {});\n",
              "          if (!dataTable) return;\n",
              "\n",
              "          const docLinkHtml = 'Like what you see? Visit the ' +\n",
              "            '<a target=\"_blank\" href=https://colab.research.google.com/notebooks/data_table.ipynb>data table notebook</a>'\n",
              "            + ' to learn more about interactive tables.';\n",
              "          element.innerHTML = '';\n",
              "          dataTable['output_type'] = 'display_data';\n",
              "          await google.colab.output.renderOutput(dataTable, element);\n",
              "          const docLink = document.createElement('div');\n",
              "          docLink.innerHTML = docLinkHtml;\n",
              "          element.appendChild(docLink);\n",
              "        }\n",
              "      </script>\n",
              "    </div>\n",
              "  </div>\n",
              "  "
            ]
          },
          "metadata": {},
          "execution_count": 40
        }
      ]
    },
    {
      "cell_type": "code",
      "source": [
        "test_df[['ID', 'Reached_on_time']].to_csv(\"submission_rf.csv\", index=False)"
      ],
      "metadata": {
        "id": "F-cWrzmIOSRy"
      },
      "execution_count": 41,
      "outputs": []
    },
    {
      "cell_type": "markdown",
      "source": [
        "**Solution Document**"
      ],
      "metadata": {
        "id": "3XH_CFKLnM8Y"
      }
    },
    {
      "cell_type": "markdown",
      "source": [
        "**Why did I choose the Random Forest model as Final Model?**\n",
        "- I was getting best cross-validation score and public leader board score, so I chose this model becase it has least generalisation error among the tried models. \n",
        "- Random Forest reduced variance from Decision Tree Model which makes it more robust. \n",
        "- Logistic regression model was the baseline model and other models were not performing very well on leaderboard."
      ],
      "metadata": {
        "id": "sNjH_gjYvK96"
      }
    },
    {
      "cell_type": "markdown",
      "source": [
        "**Suggestions to Zion Restaurants:**"
      ],
      "metadata": {
        "id": "oRLpd2mFwgkg"
      }
    },
    {
      "cell_type": "code",
      "source": [
        "from sklearn.tree import _tree\n",
        "\n",
        "def tree_to_code(tree, feature_names):\n",
        "    tree_ = tree.tree_\n",
        "    feature_name = [\n",
        "        feature_names[i] if i != _tree.TREE_UNDEFINED else \"undefined!\"\n",
        "        for i in tree_.feature\n",
        "    ]\n",
        "    print(\"def tree({}):\".format(\", \".join(feature_names)))\n",
        "\n",
        "    def recurse(node, depth):\n",
        "        indent = \"  \" * depth\n",
        "        if tree_.feature[node] != _tree.TREE_UNDEFINED:\n",
        "            name = feature_name[node]\n",
        "            threshold = tree_.threshold[node]\n",
        "            print(\"{}if {} <= {}:\".format(indent, name, threshold))\n",
        "            recurse(tree_.children_left[node], depth + 1)\n",
        "            print(\"{}else:  # if {} > {}\".format(indent, name, threshold))\n",
        "            recurse(tree_.children_right[node], depth + 1)\n",
        "        else:\n",
        "            print(\"{}return {}\".format(indent, tree_.value[node]))\n",
        "\n",
        "    recurse(0, 1)\n",
        "\n",
        "dt = DecisionTreeClassifier(ccp_alpha=0.001, criterion='entropy', max_depth=8,\n",
        "                       max_features='auto', random_state=1024)\n",
        "\n",
        "\n",
        "train_df_exp = train_df.copy()\n",
        "train_df_exp[num_feat] = ss.inverse_transform(train_df_exp[num_feat])\n",
        "x_train_exp = pd.concat([train_df_exp[num_feat].reset_index(drop=True), cat_df.reset_index(drop=True)], axis=1)\n",
        "x_train_exp = x_train_exp.rename({0: 'Gachibowli', 1:'Secunderabad', 2:'Masab Tank', 3:'Khairtabad', 4:'Female'}, axis=1)\n",
        "\n",
        "dt.fit(x_train_exp, y_train)\n",
        "tree_to_code(dt, x_train_exp.columns)"
      ],
      "metadata": {
        "id": "KBQE6glLRh__",
        "colab": {
          "base_uri": "https://localhost:8080/"
        },
        "outputId": "ab35214e-f6de-43dc-aab9-27e99a1355ca"
      },
      "execution_count": null,
      "outputs": [
        {
          "output_type": "stream",
          "name": "stdout",
          "text": [
            "def tree(Mode_of_delivery, Calls_to_customer_care, Rating_of_customer, Cost_of_food, Prior_purchases, Discount_offered, Weight_of_food_in_gms, Gachibowli, Secunderabad, Masab Tank, Khairtabad, Female):\n",
            "  if Discount_offered <= 10.5:\n",
            "    if Prior_purchases <= 2.5:\n",
            "      if Rating_of_customer <= 3.5:\n",
            "        if Weight_of_food_in_gms <= 4025.0:\n",
            "          return [[23. 78.]]\n",
            "        else:  # if Weight_of_food_in_gms > 4025.0\n",
            "          return [[428. 289.]]\n",
            "      else:  # if Rating_of_customer > 3.5\n",
            "        return [[193. 140.]]\n",
            "    else:  # if Prior_purchases > 2.5\n",
            "      if Weight_of_food_in_gms <= 4018.5:\n",
            "        if Discount_offered <= 5.5:\n",
            "          if Weight_of_food_in_gms <= 1987.0:\n",
            "            if Calls_to_customer_care <= 3.5:\n",
            "              if Cost_of_food <= 264.75:\n",
            "                return [[ 4. 30.]]\n",
            "              else:  # if Cost_of_food > 264.75\n",
            "                return [[12.  6.]]\n",
            "            else:  # if Calls_to_customer_care > 3.5\n",
            "              return [[327. 346.]]\n",
            "          else:  # if Weight_of_food_in_gms > 1987.0\n",
            "            if Weight_of_food_in_gms <= 3999.0:\n",
            "              return [[ 1. 83.]]\n",
            "            else:  # if Weight_of_food_in_gms > 3999.0\n",
            "              return [[8. 8.]]\n",
            "        else:  # if Discount_offered > 5.5\n",
            "          if Cost_of_food <= 321.0:\n",
            "            return [[ 16. 105.]]\n",
            "          else:  # if Cost_of_food > 321.0\n",
            "            if Weight_of_food_in_gms <= 2063.0:\n",
            "              return [[372. 306.]]\n",
            "            else:  # if Weight_of_food_in_gms > 2063.0\n",
            "              return [[ 2. 42.]]\n",
            "      else:  # if Weight_of_food_in_gms > 4018.5\n",
            "        return [[1860. 1415.]]\n",
            "  else:  # if Discount_offered > 10.5\n",
            "    return [[   0. 1849.]]\n"
          ]
        }
      ]
    },
    {
      "cell_type": "markdown",
      "source": [
        "```python\n",
        "def tree(Mode_of_delivery, Calls_to_customer_care, Rating_of_customer, Cost_of_food, Prior_purchases, Discount_offered, Weight_of_food_in_gms, Gachibowli, Secunderabad, Masab Tank, Khairtabad, Female):\n",
        "  if Discount_offered <= 10.5:\n",
        "    if Prior_purchases <= 2.5:\n",
        "      if Rating_of_customer <= 3.5:\n",
        "        if Weight_of_food_in_gms <= 4025.0:\n",
        "          return [[23. 78.]]\n",
        "        else:  # if Weight_of_food_in_gms > 4025.0\n",
        "          return [[428. 289.]]\n",
        "      else:  # if Rating_of_customer > 3.5\n",
        "        return [[193. 140.]]\n",
        "    else:  # if Prior_purchases > 2.5\n",
        "      if Weight_of_food_in_gms <= 4018.5:\n",
        "        if Discount_offered <= 5.5:\n",
        "          if Weight_of_food_in_gms <= 1987.0:\n",
        "            if Calls_to_customer_care <= 3.5:\n",
        "              if Cost_of_food <= 264.75:\n",
        "                return [[ 4. 30.]]\n",
        "              else:  # if Cost_of_food > 264.75\n",
        "                return [[12.  6.]]\n",
        "            else:  # if Calls_to_customer_care > 3.5\n",
        "              return [[327. 346.]]\n",
        "          else:  # if Weight_of_food_in_gms > 1987.0\n",
        "            if Weight_of_food_in_gms <= 3999.0:\n",
        "              return [[ 1. 83.]]\n",
        "            else:  # if Weight_of_food_in_gms > 3999.0\n",
        "              return [[8. 8.]]\n",
        "        else:  # if Discount_offered > 5.5\n",
        "          if Cost_of_food <= 321.0:\n",
        "            return [[ 16. 105.]]\n",
        "          else:  # if Cost_of_food > 321.0\n",
        "            if Weight_of_food_in_gms <= 2063.0:\n",
        "              return [[372. 306.]]\n",
        "            else:  # if Weight_of_food_in_gms > 2063.0\n",
        "              return [[ 2. 42.]]\n",
        "      else:  # if Weight_of_food_in_gms > 4018.5\n",
        "        return [[1860. 1415.]]\n",
        "  else:  # if Discount_offered > 10.5\n",
        "    return [[   0. 1849.]]\n",
        "```"
      ],
      "metadata": {
        "id": "KS16d5Cl0ydl"
      }
    },
    {
      "cell_type": "markdown",
      "source": [
        "**Restaurant can use above rules to find out when they can deliver on time and what parameters they can tweak to give maximum on-time delivery**"
      ],
      "metadata": {
        "id": "pJ1dwoYG04iZ"
      }
    },
    {
      "cell_type": "code",
      "source": [],
      "metadata": {
        "id": "cLTS5tCO0yIh"
      },
      "execution_count": null,
      "outputs": []
    },
    {
      "cell_type": "code",
      "source": [],
      "metadata": {
        "id": "daxPGOh30zDD"
      },
      "execution_count": null,
      "outputs": []
    },
    {
      "cell_type": "code",
      "source": [],
      "metadata": {
        "id": "GAIA99VgOc8E"
      },
      "execution_count": null,
      "outputs": []
    }
  ]
}